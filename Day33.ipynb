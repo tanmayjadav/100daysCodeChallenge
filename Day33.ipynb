{
 "cells": [
  {
   "cell_type": "code",
   "execution_count": 2,
   "metadata": {},
   "outputs": [
    {
     "name": "stdout",
     "output_type": "stream",
     "text": [
      "[2, 2, 2, 2]\n",
      "[2, 3, 3]\n",
      "[5, 3]\n"
     ]
    }
   ],
   "source": [
    "#combination sum \n",
    "ans=[]\n",
    "def solved(ind,ds,sm,n):\n",
    "    if sm==target:\n",
    "        ans.append(ds)\n",
    "        return \n",
    "    elif ind>=n or sm>target:\n",
    "        return\n",
    "    ds.append(arr[ind])\n",
    "    sm+=arr[ind]\n",
    "    solved(ind,ds,sm,n)\n",
    "    ds.pop()\n",
    "    sm-=arr[ind]\n",
    "    solved(ind+1,ds,sm,n)\n",
    "    \n",
    "arr = [2,5,3]\n",
    "target = 8\n",
    "n=len(arr)\n",
    "solved(0,[],0,n)"
   ]
  },
  {
   "cell_type": "code",
   "execution_count": null,
   "metadata": {},
   "outputs": [],
   "source": [
    "#generate all parenthesiss\n",
    "#one way to solve is that generate all parenthesea and only add in ans that is valid \n",
    "#another better way Can We use Stack ?\n",
    "def generateParentheses(ind,st,n):\n",
    "    if ind>=n:\n",
    "        print(st)\n",
    "        return \n",
    "    "
   ]
  }
 ],
 "metadata": {
  "kernelspec": {
   "display_name": "base",
   "language": "python",
   "name": "python3"
  },
  "language_info": {
   "codemirror_mode": {
    "name": "ipython",
    "version": 3
   },
   "file_extension": ".py",
   "mimetype": "text/x-python",
   "name": "python",
   "nbconvert_exporter": "python",
   "pygments_lexer": "ipython3",
   "version": "3.11.4"
  }
 },
 "nbformat": 4,
 "nbformat_minor": 2
}
