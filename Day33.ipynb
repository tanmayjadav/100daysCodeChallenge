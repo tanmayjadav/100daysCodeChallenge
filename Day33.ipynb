{
 "cells": [
  {
   "cell_type": "code",
   "execution_count": 2,
   "metadata": {},
   "outputs": [
    {
     "name": "stdout",
     "output_type": "stream",
     "text": [
      "[2, 2, 2, 2]\n",
      "[2, 3, 3]\n",
      "[5, 3]\n"
     ]
    }
   ],
   "source": [
    "#combination sum \n",
    "ans=[]\n",
    "def solved(ind,ds,sm,n):\n",
    "    if sm==target:\n",
    "        ans.append(ds)\n",
    "        return \n",
    "    elif ind>=n or sm>target:\n",
    "        return\n",
    "    ds.append(arr[ind])\n",
    "    sm+=arr[ind]\n",
    "    solved(ind,ds,sm,n)\n",
    "    ds.pop()\n",
    "    sm-=arr[ind]\n",
    "    solved(ind+1,ds,sm,n)\n",
    "    \n",
    "arr = [2,5,3]\n",
    "target = 8\n",
    "n=len(arr)\n",
    "solved(0,[],0,n)"
   ]
  },
  {
   "cell_type": "code",
   "execution_count": 1,
   "metadata": {},
   "outputs": [],
   "source": [
    "#generate all parenthesiss\n",
    "#one way to solve is that generate all parenthesea and only add in ans that is valid \n",
    "#another better way Can We use Stack ?"
   ]
  },
  {
   "cell_type": "code",
   "execution_count": 4,
   "metadata": {},
   "outputs": [
    {
     "name": "stdout",
     "output_type": "stream",
     "text": [
      "ABC\n",
      "ABC_\n",
      "A_BC\n",
      "A_B_C\n"
     ]
    }
   ],
   "source": [
    "#print spacees between \n",
    "S = \"ABC\"\n",
    "# output=\n",
    "# ABC\n",
    "# AB C\n",
    "# A BC\n",
    "# A B C\n"
   ]
  },
  {
   "cell_type": "code",
   "execution_count": null,
   "metadata": {},
   "outputs": [],
   "source": []
  },
  {
   "cell_type": "code",
   "execution_count": 34,
   "metadata": {},
   "outputs": [
    {
     "name": "stdout",
     "output_type": "stream",
     "text": [
      "ABC\n",
      "AB-C\n",
      "A-BC\n",
      "A-B-C\n"
     ]
    }
   ],
   "source": [
    "def spaces(S, current, ind):\n",
    "    if ind == n:\n",
    "        print(current)\n",
    "        return\n",
    "    spaces(S,current+S[ind],ind+1)\n",
    "    if ind<n-1: spaces(S,current+S[ind]+\"-\",ind+1)\n",
    "\n",
    "S = \"ABC\"\n",
    "n = len(S)\n",
    "spaces(S,\"\",0)"
   ]
  },
  {
   "cell_type": "code",
   "execution_count": 37,
   "metadata": {},
   "outputs": [
    {
     "name": "stdout",
     "output_type": "stream",
     "text": [
      "abc abC aBc aBC Abc AbC ABc ABC "
     ]
    }
   ],
   "source": [
    "# change case (lower to upper) in permutations \n",
    "S = \"abc\"\n",
    "n = len(S)\n",
    "\n",
    "def cases(ind,st,S,n):\n",
    "    if ind>=n:\n",
    "        print(st,end=\" \")\n",
    "        return \n",
    "    x = S[ind]\n",
    "    cases(ind+1,st+x,S,n)\n",
    "    cases(ind+1,st+x.upper(),S,n)\n",
    "\n",
    "cases(0,\"\",S,n)\n"
   ]
  },
  {
   "cell_type": "code",
   "execution_count": 51,
   "metadata": {},
   "outputs": [
    {
     "name": "stdout",
     "output_type": "stream",
     "text": [
      "a1b2 a1B2 A1b2 A1B2 "
     ]
    }
   ],
   "source": [
    "S = \"a1B2\"\n",
    "n = len(S)\n",
    "\n",
    "def cases(ind,st,S,n):\n",
    "    if ind>=n:\n",
    "        print(st,end=\" \")\n",
    "        return \n",
    "    if S[ind].isnumeric():\n",
    "        cases(ind+1,st+S[ind],S,n)\n",
    "    else:\n",
    "        x = S[ind].lower()\n",
    "        cases(ind+1,st+x,S,n)\n",
    "        cases(ind+1,st+x.upper(),S,n)\n",
    "\n",
    "cases(0,\"\",S,n)"
   ]
  },
  {
   "cell_type": "code",
   "execution_count": 62,
   "metadata": {},
   "outputs": [
    {
     "ename": "RecursionError",
     "evalue": "maximum recursion depth exceeded",
     "output_type": "error",
     "traceback": [
      "\u001b[1;31m---------------------------------------------------------------------------\u001b[0m",
      "\u001b[1;31mRecursionError\u001b[0m                            Traceback (most recent call last)",
      "Cell \u001b[1;32mIn[62], line 11\u001b[0m\n\u001b[0;32m      9\u001b[0m     \u001b[38;5;28;01melse\u001b[39;00m:\n\u001b[0;32m     10\u001b[0m         para(op,cl\u001b[38;5;241m+\u001b[39m\u001b[38;5;241m1\u001b[39m,ans\u001b[38;5;241m+\u001b[39m\u001b[38;5;124m\"\u001b[39m\u001b[38;5;124m)\u001b[39m\u001b[38;5;124m\"\u001b[39m,n)\n\u001b[1;32m---> 11\u001b[0m para(\u001b[38;5;241m0\u001b[39m,\u001b[38;5;241m0\u001b[39m,\u001b[38;5;124m\"\u001b[39m\u001b[38;5;124m\"\u001b[39m,n)\n",
      "Cell \u001b[1;32mIn[62], line 8\u001b[0m, in \u001b[0;36mpara\u001b[1;34m(op, cl, ans, n)\u001b[0m\n\u001b[0;32m      6\u001b[0m     \u001b[38;5;28;01mreturn\u001b[39;00m \n\u001b[0;32m      7\u001b[0m \u001b[38;5;28;01mif\u001b[39;00m (op\u001b[38;5;241m<\u001b[39mn):\n\u001b[1;32m----> 8\u001b[0m     para(op\u001b[38;5;241m+\u001b[39m\u001b[38;5;241m1\u001b[39m,cl,ans\u001b[38;5;241m+\u001b[39m\u001b[38;5;124m\"\u001b[39m\u001b[38;5;124m(\u001b[39m\u001b[38;5;124m\"\u001b[39m,n)\n\u001b[0;32m      9\u001b[0m \u001b[38;5;28;01melse\u001b[39;00m:\n\u001b[0;32m     10\u001b[0m     para(op,cl\u001b[38;5;241m+\u001b[39m\u001b[38;5;241m1\u001b[39m,ans\u001b[38;5;241m+\u001b[39m\u001b[38;5;124m\"\u001b[39m\u001b[38;5;124m)\u001b[39m\u001b[38;5;124m\"\u001b[39m,n)\n",
      "Cell \u001b[1;32mIn[62], line 8\u001b[0m, in \u001b[0;36mpara\u001b[1;34m(op, cl, ans, n)\u001b[0m\n\u001b[0;32m      6\u001b[0m     \u001b[38;5;28;01mreturn\u001b[39;00m \n\u001b[0;32m      7\u001b[0m \u001b[38;5;28;01mif\u001b[39;00m (op\u001b[38;5;241m<\u001b[39mn):\n\u001b[1;32m----> 8\u001b[0m     para(op\u001b[38;5;241m+\u001b[39m\u001b[38;5;241m1\u001b[39m,cl,ans\u001b[38;5;241m+\u001b[39m\u001b[38;5;124m\"\u001b[39m\u001b[38;5;124m(\u001b[39m\u001b[38;5;124m\"\u001b[39m,n)\n\u001b[0;32m      9\u001b[0m \u001b[38;5;28;01melse\u001b[39;00m:\n\u001b[0;32m     10\u001b[0m     para(op,cl\u001b[38;5;241m+\u001b[39m\u001b[38;5;241m1\u001b[39m,ans\u001b[38;5;241m+\u001b[39m\u001b[38;5;124m\"\u001b[39m\u001b[38;5;124m)\u001b[39m\u001b[38;5;124m\"\u001b[39m,n)\n",
      "Cell \u001b[1;32mIn[62], line 8\u001b[0m, in \u001b[0;36mpara\u001b[1;34m(op, cl, ans, n)\u001b[0m\n\u001b[0;32m      6\u001b[0m     \u001b[38;5;28;01mreturn\u001b[39;00m \n\u001b[0;32m      7\u001b[0m \u001b[38;5;28;01mif\u001b[39;00m (op\u001b[38;5;241m<\u001b[39mn):\n\u001b[1;32m----> 8\u001b[0m     para(op\u001b[38;5;241m+\u001b[39m\u001b[38;5;241m1\u001b[39m,cl,ans\u001b[38;5;241m+\u001b[39m\u001b[38;5;124m\"\u001b[39m\u001b[38;5;124m(\u001b[39m\u001b[38;5;124m\"\u001b[39m,n)\n\u001b[0;32m      9\u001b[0m \u001b[38;5;28;01melse\u001b[39;00m:\n\u001b[0;32m     10\u001b[0m     para(op,cl\u001b[38;5;241m+\u001b[39m\u001b[38;5;241m1\u001b[39m,ans\u001b[38;5;241m+\u001b[39m\u001b[38;5;124m\"\u001b[39m\u001b[38;5;124m)\u001b[39m\u001b[38;5;124m\"\u001b[39m,n)\n",
      "Cell \u001b[1;32mIn[62], line 10\u001b[0m, in \u001b[0;36mpara\u001b[1;34m(op, cl, ans, n)\u001b[0m\n\u001b[0;32m      8\u001b[0m     para(op\u001b[38;5;241m+\u001b[39m\u001b[38;5;241m1\u001b[39m,cl,ans\u001b[38;5;241m+\u001b[39m\u001b[38;5;124m\"\u001b[39m\u001b[38;5;124m(\u001b[39m\u001b[38;5;124m\"\u001b[39m,n)\n\u001b[0;32m      9\u001b[0m \u001b[38;5;28;01melse\u001b[39;00m:\n\u001b[1;32m---> 10\u001b[0m     para(op,cl\u001b[38;5;241m+\u001b[39m\u001b[38;5;241m1\u001b[39m,ans\u001b[38;5;241m+\u001b[39m\u001b[38;5;124m\"\u001b[39m\u001b[38;5;124m)\u001b[39m\u001b[38;5;124m\"\u001b[39m,n)\n",
      "Cell \u001b[1;32mIn[62], line 10\u001b[0m, in \u001b[0;36mpara\u001b[1;34m(op, cl, ans, n)\u001b[0m\n\u001b[0;32m      8\u001b[0m     para(op\u001b[38;5;241m+\u001b[39m\u001b[38;5;241m1\u001b[39m,cl,ans\u001b[38;5;241m+\u001b[39m\u001b[38;5;124m\"\u001b[39m\u001b[38;5;124m(\u001b[39m\u001b[38;5;124m\"\u001b[39m,n)\n\u001b[0;32m      9\u001b[0m \u001b[38;5;28;01melse\u001b[39;00m:\n\u001b[1;32m---> 10\u001b[0m     para(op,cl\u001b[38;5;241m+\u001b[39m\u001b[38;5;241m1\u001b[39m,ans\u001b[38;5;241m+\u001b[39m\u001b[38;5;124m\"\u001b[39m\u001b[38;5;124m)\u001b[39m\u001b[38;5;124m\"\u001b[39m,n)\n",
      "    \u001b[1;31m[... skipping similar frames: para at line 10 (2968 times)]\u001b[0m\n",
      "Cell \u001b[1;32mIn[62], line 10\u001b[0m, in \u001b[0;36mpara\u001b[1;34m(op, cl, ans, n)\u001b[0m\n\u001b[0;32m      8\u001b[0m     para(op\u001b[38;5;241m+\u001b[39m\u001b[38;5;241m1\u001b[39m,cl,ans\u001b[38;5;241m+\u001b[39m\u001b[38;5;124m\"\u001b[39m\u001b[38;5;124m(\u001b[39m\u001b[38;5;124m\"\u001b[39m,n)\n\u001b[0;32m      9\u001b[0m \u001b[38;5;28;01melse\u001b[39;00m:\n\u001b[1;32m---> 10\u001b[0m     para(op,cl\u001b[38;5;241m+\u001b[39m\u001b[38;5;241m1\u001b[39m,ans\u001b[38;5;241m+\u001b[39m\u001b[38;5;124m\"\u001b[39m\u001b[38;5;124m)\u001b[39m\u001b[38;5;124m\"\u001b[39m,n)\n",
      "\u001b[1;31mRecursionError\u001b[0m: maximum recursion depth exceeded"
     ]
    }
   ],
   "source": [
    "n = 3\n",
    "\n",
    "def para(op,cl,ans,n):\n",
    "    if op==n-1 and cl==n-1:\n",
    "        print(ans)\n",
    "        return \n",
    "    if (op<n):\n",
    "        para(op+1,cl,ans+\"(\",n)\n",
    "    else:\n",
    "        para(op,cl+1,ans+\")\",n)\n",
    "para(0,0,\"\",n)"
   ]
  },
  {
   "cell_type": "code",
   "execution_count": 5,
   "metadata": {},
   "outputs": [
    {
     "name": "stdout",
     "output_type": "stream",
     "text": [
      "((()))\n",
      "(()())\n",
      "(())()\n",
      "()(())\n",
      "()()()\n"
     ]
    }
   ],
   "source": [
    "def para(op, cl, ans, n):\n",
    "    if op == cl == n:\n",
    "        print(ans)\n",
    "        return\n",
    "    if op < n:\n",
    "        para(op + 1, cl, ans + \"(\", n)\n",
    "    if cl < op:\n",
    "        para(op, cl + 1, ans + \")\", n)\n",
    "n = 3\n",
    "para(0, 0, \"\", n)\n"
   ]
  },
  {
   "cell_type": "code",
   "execution_count": null,
   "metadata": {},
   "outputs": [],
   "source": []
  }
 ],
 "metadata": {
  "kernelspec": {
   "display_name": "base",
   "language": "python",
   "name": "python3"
  },
  "language_info": {
   "codemirror_mode": {
    "name": "ipython",
    "version": 3
   },
   "file_extension": ".py",
   "mimetype": "text/x-python",
   "name": "python",
   "nbconvert_exporter": "python",
   "pygments_lexer": "ipython3",
   "version": "3.11.4"
  }
 },
 "nbformat": 4,
 "nbformat_minor": 2
}
