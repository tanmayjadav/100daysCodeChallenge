{
 "cells": [
  {
   "cell_type": "code",
   "execution_count": 25,
   "metadata": {},
   "outputs": [
    {
     "data": {
      "text/plain": [
       "True"
      ]
     },
     "execution_count": 25,
     "metadata": {},
     "output_type": "execute_result"
    }
   ],
   "source": [
    " #question 1 find in rotated sorted array where dupilicates also exists\n",
    "     \n",
    "def func(arr,target):\n",
    "    low, high = 0,len(arr)-1\n",
    "    while low<=high:\n",
    "        mid = (low+high)//2\n",
    "        if arr[mid]==target:\n",
    "            return True\n",
    "        if arr[low] == arr[mid] and arr[mid] == arr[high]:\n",
    "            low += 1\n",
    "            high -= 1\n",
    "            continue\n",
    "        if arr[mid]>=arr[low]:\n",
    "            if target>=arr[low] and target<=arr[mid]:\n",
    "                high=mid-1\n",
    "            else:\n",
    "                low=mid+1\n",
    "        else:\n",
    "            if target>=arr[mid] and target<=arr[high]:\n",
    "                low = mid+1\n",
    "            else:\n",
    "                high=mid-1\n",
    "    return False\n",
    "\n",
    "func([1,0,1,1,1],0)\n"
   ]
  },
  {
   "cell_type": "code",
   "execution_count": 41,
   "metadata": {},
   "outputs": [
    {
     "data": {
      "text/plain": [
       "0"
      ]
     },
     "execution_count": 41,
     "metadata": {},
     "output_type": "execute_result"
    }
   ],
   "source": [
    "#question 2 find the minimun in the rotated sorted array \n",
    "arr = [0]\n",
    "\n",
    "def findsmall(arr):\n",
    "    low, high = 0,len(arr)-1\n",
    "    ans = float('inf')\n",
    "    while low<=high:\n",
    "        mid = (low+high)//2\n",
    "        if arr[mid]>=arr[low]:\n",
    "            ans = min(arr[low],ans)\n",
    "            if arr[mid]>arr[high]:\n",
    "                low = mid+1\n",
    "            else:\n",
    "                high=mid-1\n",
    "        else:\n",
    "            ans = min(arr[mid],ans)\n",
    "            high=mid-1\n",
    "    return ans\n",
    "findsmall(arr)"
   ]
  },
  {
   "cell_type": "code",
   "execution_count": 42,
   "metadata": {},
   "outputs": [],
   "source": [
    "#question 3 find how many times it is rotated\n",
    "\n",
    "def findKRotation(arr : [int]) -> int:\n",
    "    n = len(arr)\n",
    "    low, high = 0, n - 1\n",
    "    if arr[low] <= arr[high]:\n",
    "        return 0\n",
    "    ans = 0\n",
    "    while low < high:\n",
    "        mid = (low + high) // 2\n",
    "\n",
    "        if arr[mid] > arr[high]:\n",
    "            low = mid + 1\n",
    "        else:\n",
    "            high = mid\n",
    "\n",
    "    ans = low\n",
    "\n",
    "    return ans"
   ]
  },
  {
   "cell_type": "code",
   "execution_count": 65,
   "metadata": {},
   "outputs": [
    {
     "data": {
      "text/plain": [
       "0"
      ]
     },
     "execution_count": 65,
     "metadata": {},
     "output_type": "execute_result"
    }
   ],
   "source": [
    "#question find index of the rotation\n",
    "arr = [6,7,8,9,10,0,1,2,3,4,5]\n",
    "#                 m l       h \n",
    "#                 5 6       10\n",
    "def rotatefind(arr):\n",
    "    low,high = 0,len(arr)-1\n",
    "    if arr[low]<=arr[high]:\n",
    "            return 0\n",
    "    while low<high:\n",
    "        mid = (low+high)//2\n",
    "        ans = 0\n",
    "        if arr[mid]>arr[high]:\n",
    "            low = mid+1\n",
    "        else:\n",
    "            high = mid\n",
    "    ans=low\n",
    "    return arr[ans]\n",
    "\n",
    "rotatefind(arr)"
   ]
  },
  {
   "cell_type": "code",
   "execution_count": null,
   "metadata": {},
   "outputs": [],
   "source": []
  }
 ],
 "metadata": {
  "kernelspec": {
   "display_name": "base",
   "language": "python",
   "name": "python3"
  },
  "language_info": {
   "codemirror_mode": {
    "name": "ipython",
    "version": 3
   },
   "file_extension": ".py",
   "mimetype": "text/x-python",
   "name": "python",
   "nbconvert_exporter": "python",
   "pygments_lexer": "ipython3",
   "version": "3.11.4"
  }
 },
 "nbformat": 4,
 "nbformat_minor": 2
}
