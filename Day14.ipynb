{
 "cells": [
  {
   "cell_type": "code",
   "execution_count": 9,
   "metadata": {},
   "outputs": [
    {
     "data": {
      "text/plain": [
       "3"
      ]
     },
     "execution_count": 9,
     "metadata": {},
     "output_type": "execute_result"
    }
   ],
   "source": [
    "# agressive cows again \n",
    "\n",
    "arr = [1,2,8,4,9]\n",
    "#     [1,2,4,8,9]\n",
    "cows = 3\n",
    "\n",
    "def isPossibledist(arr,dist,cow):\n",
    "    cntcows = 1\n",
    "    last = arr[0]\n",
    "    for i in range(1,len(arr)):\n",
    "        if arr[i]-last>=dist:\n",
    "            cntcows+=1\n",
    "            last = arr[i]            \n",
    "        if cntcows>=cow:\n",
    "            return True\n",
    "    return False\n",
    "\n",
    "def agrCow(arr,cows):\n",
    "    arr.sort()\n",
    "    n=len(arr)\n",
    "    low = 1      \n",
    "    high = arr[n-1]-arr[0]+1\n",
    "    ans = -1\n",
    "    while low<=high:\n",
    "        mid = (low+high)//2\n",
    "        if not isPossibledist(arr,mid,cows):\n",
    "            high=mid-1\n",
    "        else:\n",
    "            low = mid+1\n",
    "            ans = mid\n",
    "    return ans\n",
    "\n",
    "agrCow(arr,cows)\n"
   ]
  },
  {
   "cell_type": "code",
   "execution_count": 41,
   "metadata": {},
   "outputs": [
    {
     "data": {
      "text/plain": [
       "71"
      ]
     },
     "execution_count": 41,
     "metadata": {},
     "output_type": "execute_result"
    }
   ],
   "source": [
    "# Question 1 book allocation problem \n",
    "\n",
    "def helperbook(arr,tsum):\n",
    "    cnt = 1\n",
    "    pageshold = 0\n",
    "    n=len(arr)\n",
    "    for i in range(n):\n",
    "        if pageshold+arr[i]<=tsum:\n",
    "            pageshold+=arr[i]\n",
    "        else:\n",
    "            cnt+=1\n",
    "            pageshold=arr[i]\n",
    "    return cnt\n",
    "    \n",
    "def allocateMinNumberofPages(arr,m):\n",
    "    low = max(arr)\n",
    "    high = sum(arr)\n",
    "    while low<=high:\n",
    "        mid = (low+high)//2\n",
    "        ans = helperbook(arr,mid)\n",
    "        if ans>m:\n",
    "            low=mid+1\n",
    "        else:\n",
    "            high=mid-1\n",
    "    return high+1\n",
    "\n",
    "\n",
    "# arr = [12,34,67,90]\n",
    "# m = 2\n",
    "arr = [25, 46, 28, 49, 24]\n",
    "m = 4\n",
    "allocateMinNumberofPages(arr,m)\n",
    "# helperbook(arr,71)"
   ]
  },
  {
   "cell_type": "code",
   "execution_count": 70,
   "metadata": {},
   "outputs": [
    {
     "data": {
      "text/plain": [
       "3"
      ]
     },
     "execution_count": 70,
     "metadata": {},
     "output_type": "execute_result"
    }
   ],
   "source": [
    "#question 2 split array largest sum \n",
    "\n",
    "def helpersplit(arr,num,n):\n",
    "    cnt=1\n",
    "    sm=0\n",
    "    for i in range(n):\n",
    "        if sm+arr[i]<=num:\n",
    "            sm +=arr[i]\n",
    "        else:\n",
    "            cnt+=1\n",
    "            sm = arr[i]\n",
    "    return cnt\n",
    "# arr = [7,2,5,10,8]\n",
    "k=5\n",
    "arr = [2,3,1,1,1,1,1]\n",
    "# print(helpersplit(arr,3,7))\n",
    "\n",
    "def splitArrayLargestSum(arr,k):\n",
    "    n=len(arr)\n",
    "    low = max(arr)\n",
    "    high = sum(arr)\n",
    "    while low<=high:\n",
    "        mid = (low+high)//2\n",
    "        ans = helpersplit(arr,mid,n)\n",
    "        if ans>k:\n",
    "            low=mid+1\n",
    "        else:\n",
    "            high=mid-1\n",
    "    return high+1    \n",
    "splitArrayLargestSum(arr,k)\n",
    "# helpersplit(arr,num)"
   ]
  },
  {
   "cell_type": "code",
   "execution_count": 92,
   "metadata": {},
   "outputs": [
    {
     "data": {
      "text/plain": [
       "5"
      ]
     },
     "execution_count": 92,
     "metadata": {},
     "output_type": "execute_result"
    }
   ],
   "source": [
    "# question 3 binary search to find sqrt\n",
    "\n",
    "n = 25\n",
    "ans = 1\n",
    "high = n//2\n",
    "low = 1\n",
    "while low<=high:\n",
    "    mid = (low+high)//2\n",
    "    if mid*mid<=n:\n",
    "        ans = mid\n",
    "        low=mid+1\n",
    "    else:\n",
    "        high=mid-1\n",
    "ans"
   ]
  },
  {
   "cell_type": "code",
   "execution_count": 101,
   "metadata": {},
   "outputs": [
    {
     "data": {
      "text/plain": [
       "2"
      ]
     },
     "execution_count": 101,
     "metadata": {},
     "output_type": "execute_result"
    }
   ],
   "source": [
    "#Question 4 find nth root with binary search \n",
    "\n",
    "# 27 root 3 is 3 \n",
    "\n",
    "n = 32\n",
    "x = 5\n",
    "\n",
    "def helper(num,x):\n",
    "    ans=1\n",
    "    for _ in range(x):\n",
    "        ans*=num\n",
    "    return ans\n",
    "\n",
    "def findNthRoot(n,x):\n",
    "    low = 1\n",
    "    high = n//2\n",
    "    while low<=high:\n",
    "        mid = (low+high)//2\n",
    "        ans=helper(mid,x)\n",
    "        if ans>n:\n",
    "            high = mid-1\n",
    "        elif ans<n:\n",
    "            low = mid+1\n",
    "        else:\n",
    "            return mid\n",
    "    return -1\n",
    "\n",
    "findNthRoot(n,x)\n"
   ]
  },
  {
   "cell_type": "code",
   "execution_count": 102,
   "metadata": {},
   "outputs": [
    {
     "data": {
      "text/plain": [
       "1024"
      ]
     },
     "execution_count": 102,
     "metadata": {},
     "output_type": "execute_result"
    }
   ],
   "source": [
    "#question 5 pow (x,n)\n",
    "\n",
    "def pow(x,n):\n",
    "    def helper(x,n):\n",
    "        if x==0: return 0\n",
    "        if n==0: return 1\n",
    "\n",
    "        res = helper(x*x,n//2)\n",
    "        return x*res if n%2 else res\n",
    "    \n",
    "    res = helper(x,abs(n))\n",
    "    return res if n>=0 else 1/res\n",
    "  \n",
    "pow(2,10)"
   ]
  },
  {
   "cell_type": "code",
   "execution_count": 119,
   "metadata": {},
   "outputs": [],
   "source": [
    "#Maximise the Maximum Distance Between Gas Stations\n",
    "\n",
    "arr = [1,2,3,4,5]\n",
    "\n",
    "k = 4\n",
    "arr = [1,7]\n",
    "k = 2\n",
    "def helper(arr,k,dist):\n",
    "    n = len(arr)\n",
    "    maintain = 1\n",
    "    for i in range(n+k):\n",
    "        pass        \n",
    "\n",
    "def MaxDistBet(arr,k):\n",
    "    low = min(arr)\n",
    "    high = max(arr)\n",
    "\n",
    "    for i in range(0,high+1):\n",
    "        pass"
   ]
  },
  {
   "cell_type": "code",
   "execution_count": 120,
   "metadata": {},
   "outputs": [
    {
     "data": {
      "text/plain": [
       "0.7142857142857143"
      ]
     },
     "execution_count": 120,
     "metadata": {},
     "output_type": "execute_result"
    }
   ],
   "source": [
    "arr = [3,4,5,6,7]\n",
    "k = 2\n",
    "\n",
    "sarr = sum(arr)\n",
    "len(arr)/(k+len(arr))"
   ]
  },
  {
   "cell_type": "code",
   "execution_count": null,
   "metadata": {},
   "outputs": [],
   "source": []
  },
  {
   "cell_type": "code",
   "execution_count": null,
   "metadata": {},
   "outputs": [],
   "source": []
  }
 ],
 "metadata": {
  "kernelspec": {
   "display_name": "base",
   "language": "python",
   "name": "python3"
  },
  "language_info": {
   "codemirror_mode": {
    "name": "ipython",
    "version": 3
   },
   "file_extension": ".py",
   "mimetype": "text/x-python",
   "name": "python",
   "nbconvert_exporter": "python",
   "pygments_lexer": "ipython3",
   "version": "3.11.4"
  }
 },
 "nbformat": 4,
 "nbformat_minor": 2
}
