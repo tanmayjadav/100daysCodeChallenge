{
 "cells": [
  {
   "cell_type": "code",
   "execution_count": 25,
   "metadata": {},
   "outputs": [
    {
     "data": {
      "text/plain": [
       "True"
      ]
     },
     "execution_count": 25,
     "metadata": {},
     "output_type": "execute_result"
    }
   ],
   "source": [
    " #question 1 find in rotated sorted array where dupilicates also exists\n",
    "     \n",
    "def func(arr,target):\n",
    "    low, high = 0,len(arr)-1\n",
    "    while low<=high:\n",
    "        mid = (low+high)//2\n",
    "        if arr[mid]==target:\n",
    "            return True\n",
    "        if arr[low] == arr[mid] and arr[mid] == arr[high]:\n",
    "            low += 1\n",
    "            high -= 1\n",
    "            continue\n",
    "        if arr[mid]>=arr[low]:\n",
    "            if target>=arr[low] and target<=arr[mid]:\n",
    "                high=mid-1\n",
    "            else:\n",
    "                low=mid+1\n",
    "        else:\n",
    "            if target>=arr[mid] and target<=arr[high]:\n",
    "                low = mid+1\n",
    "            else:\n",
    "                high=mid-1\n",
    "    return False\n",
    "\n",
    "func([1,0,1,1,1],0)\n"
   ]
  },
  {
   "cell_type": "code",
   "execution_count": 41,
   "metadata": {},
   "outputs": [
    {
     "data": {
      "text/plain": [
       "0"
      ]
     },
     "execution_count": 41,
     "metadata": {},
     "output_type": "execute_result"
    }
   ],
   "source": [
    "#question 2 find the minimun in the rotated sorted array \n",
    "arr = [0]\n",
    "\n",
    "def findsmall(arr):\n",
    "    low, high = 0,len(arr)-1\n",
    "    ans = float('inf')\n",
    "    while low<=high:\n",
    "        mid = (low+high)//2\n",
    "        if arr[mid]>=arr[low]:\n",
    "            ans = min(arr[low],ans)\n",
    "            if arr[mid]>arr[high]:\n",
    "                low = mid+1\n",
    "            else:\n",
    "                high=mid-1\n",
    "        else:\n",
    "            ans = min(arr[mid],ans)\n",
    "            high=mid-1\n",
    "    return ans\n",
    "findsmall(arr)"
   ]
  },
  {
   "cell_type": "code",
   "execution_count": null,
   "metadata": {},
   "outputs": [],
   "source": [
    "#question 3 find how many times it is rotated\n",
    "\n",
    "def findKRotation(arr : [int]) -> int:\n",
    "\n",
    "    n = len(arr)\n",
    "    low, high = 0, n - 1\n",
    "\n",
    "    # Handling the case for sorted array \n",
    "    # and array with 1 element.\n",
    "    if arr[low] <= arr[high]:\n",
    "        return 0\n",
    "\n",
    "    ans = 0\n",
    "\n",
    "    # Binary searching for the position of minimum element.\n",
    "    # If arr[mid] > arr[high] minimum is in range [mid+1,high],\n",
    "    # else it is in range [low,mid].\n",
    "    while low < high:\n",
    "        mid = (low + high) // 2\n",
    "\n",
    "        if arr[mid] > arr[high]:\n",
    "            low = mid + 1\n",
    "        else:\n",
    "            high = mid\n",
    "\n",
    "    ans = low\n",
    "\n",
    "    return ans``"
   ]
  }
 ],
 "metadata": {
  "kernelspec": {
   "display_name": "base",
   "language": "python",
   "name": "python3"
  },
  "language_info": {
   "codemirror_mode": {
    "name": "ipython",
    "version": 3
   },
   "file_extension": ".py",
   "mimetype": "text/x-python",
   "name": "python",
   "nbconvert_exporter": "python",
   "pygments_lexer": "ipython3",
   "version": "3.11.4"
  }
 },
 "nbformat": 4,
 "nbformat_minor": 2
}
