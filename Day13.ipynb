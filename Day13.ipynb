{
 "cells": [
  {
   "cell_type": "code",
   "execution_count": 12,
   "metadata": {},
   "outputs": [
    {
     "data": {
      "text/plain": [
       "3"
      ]
     },
     "execution_count": 12,
     "metadata": {},
     "output_type": "execute_result"
    }
   ],
   "source": [
    "#question 1  \n",
    "def checkMaxdays(arr,cap):\n",
    "    sm=arr[0]\n",
    "    cnt=0\n",
    "    i=1\n",
    "    while i>=0 and i<len(arr):\n",
    "        if sm+arr[i]<=cap:\n",
    "            sm+=arr[i]\n",
    "        else:\n",
    "            cnt+=1\n",
    "            sm=arr[i]\n",
    "        i+=1\n",
    "    return cnt+1\n",
    "\n",
    "arr = [1,2,3,1,1]\n",
    "days = 4\n",
    "\n",
    "def findunc(arr,days):\n",
    "    low = max(arr)\n",
    "    high = sum(arr)\n",
    "    for i in range(low,high):\n",
    "        if checkMaxdays(arr,i) <=days:\n",
    "            return i\n",
    "    \n",
    "findunc(arr,days)\n"
   ]
  },
  {
   "cell_type": "code",
   "execution_count": 13,
   "metadata": {},
   "outputs": [
    {
     "data": {
      "text/plain": [
       "55"
      ]
     },
     "execution_count": 13,
     "metadata": {},
     "output_type": "execute_result"
    }
   ],
   "source": [
    "#question 2 find kth missing element in the array \n",
    "#brute force \n",
    "arr = [2,3,4,7,11]\n",
    "k = 5\n",
    "for i in range(len(arr)):\n",
    "    if arr[i]<=k:\n",
    "        k+=1\n",
    "    else:\n",
    "        break\n",
    "k"
   ]
  },
  {
   "cell_type": "code",
   "execution_count": 26,
   "metadata": {},
   "outputs": [
    {
     "data": {
      "text/plain": [
       "9"
      ]
     },
     "execution_count": 26,
     "metadata": {},
     "output_type": "execute_result"
    }
   ],
   "source": [
    "#optimal solution \n",
    "arr = [2,3,4,7,11]\n",
    "k = 5\n",
    "def findKthMissing(arr,k):\n",
    "    low = 0\n",
    "    high = len(arr)-1\n",
    "\n",
    "    while low<=high:\n",
    "        mid = (low+high)//2\n",
    "\n",
    "        m = arr[mid]-(mid+1)\n",
    "        if m<k:\n",
    "            low=mid+1\n",
    "        else:\n",
    "            high=mid-1\n",
    "\n",
    "    return high + k+ 1\n",
    "\n",
    "findKthMissing(arr,k)"
   ]
  },
  {
   "cell_type": "code",
   "execution_count": 29,
   "metadata": {},
   "outputs": [
    {
     "data": {
      "text/plain": [
       "7"
      ]
     },
     "execution_count": 29,
     "metadata": {},
     "output_type": "execute_result"
    }
   ],
   "source": [
    "def canWePlace(stalls, dist, cows):\n",
    "    n = len(stalls)  # size of array\n",
    "    cntCows = 1  # no. of cows placed\n",
    "    last = stalls[0]  # position of last placed cow\n",
    "    for i in range(1, n):\n",
    "        if stalls[i] - last >= dist:\n",
    "            cntCows += 1  # place next cow\n",
    "            last = stalls[i]  # update the last location\n",
    "        if cntCows >= cows:\n",
    "            return True\n",
    "    return False\n",
    "\n",
    "def aggressiveCows(stalls, k):\n",
    "    n = len(stalls)  # size of array\n",
    "    stalls.sort()  # sort the stalls\n",
    "\n",
    "    low = 1\n",
    "    high = stalls[n - 1] - stalls[0]\n",
    "    # apply binary search\n",
    "    while low <= high:\n",
    "        mid = (low + high) // 2\n",
    "        if canWePlace(stalls, mid, k):\n",
    "            low = mid + 1\n",
    "        else:\n",
    "            high = mid - 1\n",
    "    return high\n",
    "\n",
    "stalls = [0, 3, 4, 7, 10, 9]\n",
    "k = 4\n",
    "ans = aggressiveCows(stalls, k)\n",
    "print(\"The maximum possible minimum distance is:\", ans)\n",
    "\n"
   ]
  },
  {
   "cell_type": "code",
   "execution_count": 31,
   "metadata": {},
   "outputs": [
    {
     "data": {
      "text/plain": [
       "5"
      ]
     },
     "execution_count": 31,
     "metadata": {},
     "output_type": "execute_result"
    }
   ],
   "source": []
  },
  {
   "cell_type": "code",
   "execution_count": null,
   "metadata": {},
   "outputs": [],
   "source": []
  }
 ],
 "metadata": {
  "kernelspec": {
   "display_name": "base",
   "language": "python",
   "name": "python3"
  },
  "language_info": {
   "codemirror_mode": {
    "name": "ipython",
    "version": 3
   },
   "file_extension": ".py",
   "mimetype": "text/x-python",
   "name": "python",
   "nbconvert_exporter": "python",
   "pygments_lexer": "ipython3",
   "version": "3.11.4"
  }
 },
 "nbformat": 4,
 "nbformat_minor": 2
}
