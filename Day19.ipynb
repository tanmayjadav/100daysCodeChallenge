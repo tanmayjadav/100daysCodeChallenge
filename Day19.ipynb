{
 "cells": [
  {
   "cell_type": "code",
   "execution_count": 14,
   "metadata": {},
   "outputs": [
    {
     "data": {
      "text/plain": [
       "{'t': 2, 'c': 2, 'a': 2}"
      ]
     },
     "execution_count": 14,
     "metadata": {},
     "output_type": "execute_result"
    }
   ],
   "source": [
    "#question 1 check if two string is anagram or not \n",
    "\n",
    "st = [\"tac\", \"cat\"]\n",
    "freq = {}\n",
    "for i in range(len(st[0])):\n",
    "    ch1=st[0][i]\n",
    "    ch2=st[1][i]  \n",
    "    if ch1 in freq:\n",
    "        freq[ch1]+=1\n",
    "    else:\n",
    "        freq[ch1]=1\n",
    "    if ch2 in freq:\n",
    "        freq[ch2]+=1\n",
    "    else:\n",
    "        freq[ch2]=1\n",
    "for value in freq.values():\n",
    "    if value!=2:\n",
    "        print(False)\n",
    "freq\n"
   ]
  },
  {
   "cell_type": "code",
   "execution_count": 1,
   "metadata": {},
   "outputs": [],
   "source": [
    "# question check if string is rotated or not\n",
    "def rotateString(self, s: str, goal: str) -> bool:\n",
    "    return len(s)==len(goal) and goal in s+s"
   ]
  },
  {
   "cell_type": "code",
   "execution_count": null,
   "metadata": {},
   "outputs": [],
   "source": []
  }
 ],
 "metadata": {
  "kernelspec": {
   "display_name": "base",
   "language": "python",
   "name": "python3"
  },
  "language_info": {
   "codemirror_mode": {
    "name": "ipython",
    "version": 3
   },
   "file_extension": ".py",
   "mimetype": "text/x-python",
   "name": "python",
   "nbconvert_exporter": "python",
   "pygments_lexer": "ipython3",
   "version": "3.11.4"
  }
 },
 "nbformat": 4,
 "nbformat_minor": 2
}
