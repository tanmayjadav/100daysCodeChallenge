{
 "cells": [
  {
   "cell_type": "code",
   "execution_count": null,
   "metadata": {},
   "outputs": [],
   "source": [
    "#question 1  Single Element in a Sorted Array\n",
    "\n",
    "def singleNonDuplicate(arr):\n",
    "    n = len(arr)\n",
    "    if n<=1:\n",
    "        return arr[0]\n",
    "    if arr[0]!=arr[1]:\n",
    "        return arr[0]\n",
    "    elif arr[n-1]!=arr[n-2]:\n",
    "        return arr[n-1]\n",
    "    low = 1\n",
    "    high = n-2\n",
    "    while low<=high:\n",
    "        mid = (low+high)//2\n",
    "        if arr[mid]==arr[mid+1]:\n",
    "            if mid%2==0:\n",
    "                low=mid+1\n",
    "            else:\n",
    "                high=mid-1\n",
    "        elif arr[mid]==arr[mid-1]:\n",
    "            if mid%2==0:\n",
    "                high=mid-1\n",
    "            else:\n",
    "                low=mid+1\n",
    "        else:\n",
    "            return arr[mid]\n",
    "    # return -1\n"
   ]
  },
  {
   "cell_type": "code",
   "execution_count": 14,
   "metadata": {},
   "outputs": [
    {
     "data": {
      "text/plain": [
       "4"
      ]
     },
     "execution_count": 14,
     "metadata": {},
     "output_type": "execute_result"
    }
   ],
   "source": [
    "#question koko eating banana\n",
    "import math\n",
    "piles = [3,6,7,11]\n",
    "h = 8 #outpt = 4\n",
    "\n",
    "# piles = [30,11,23,4,20] \n",
    "# h = 5 #Output: 30\n",
    "\n",
    "# piles = [30,11,23,4,20]\n",
    "# h = 6  #output-23\n",
    "\n",
    "#firstly we will go with bruteforce approch\n",
    "\n",
    "def minimumRateToEatBananas(arr, h):\n",
    "    low = 1\n",
    "    high = max(arr)\n",
    "\n",
    "    # Apply binary search\n",
    "    while low <= high:\n",
    "        mid = (low + high) // 2\n",
    "        totalH = totalfun(arr, mid)\n",
    "        if totalH <= h:\n",
    "            high = mid - 1\n",
    "        else:\n",
    "            low = mid + 1\n",
    "    return low\n",
    "\n",
    "def totalfun(arr,h):\n",
    "    count = 0\n",
    "    for i in range(len(arr)):\n",
    "        count += math.ceil(arr[i]/h)\n",
    "    return count\n",
    "\n",
    "minimumRateToEatBananas(piles,h)"
   ]
  },
  {
   "cell_type": "code",
   "execution_count": null,
   "metadata": {},
   "outputs": [],
   "source": []
  }
 ],
 "metadata": {
  "kernelspec": {
   "display_name": "base",
   "language": "python",
   "name": "python3"
  },
  "language_info": {
   "codemirror_mode": {
    "name": "ipython",
    "version": 3
   },
   "file_extension": ".py",
   "mimetype": "text/x-python",
   "name": "python",
   "nbconvert_exporter": "python",
   "pygments_lexer": "ipython3",
   "version": "3.11.4"
  }
 },
 "nbformat": 4,
 "nbformat_minor": 2
}
