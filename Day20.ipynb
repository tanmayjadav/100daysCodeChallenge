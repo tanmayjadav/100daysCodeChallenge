{
 "cells": [
  {
   "cell_type": "code",
   "execution_count": null,
   "metadata": {},
   "outputs": [],
   "source": [
    "#Strings \n",
    "# Question 1 Longest Palindromic SubString  \n",
    "def longestPalindrome(s: str) -> str:\n",
    "    if len(s) <= 1:\n",
    "        return s\n",
    "    def expand_from_center(left, right):\n",
    "        while left >= 0 and right < len(s) and s[left] == s[right]:\n",
    "            left -= 1\n",
    "            right += 1\n",
    "        return s[left + 1:right]\n",
    "    max_str = s[0]\n",
    "    for i in range(len(s) - 1):\n",
    "        odd = expand_from_center(i, i)\n",
    "        even = expand_from_center(i, i + 1)\n",
    "        if len(odd) > len(max_str):\n",
    "            max_str = odd\n",
    "        if len(even) > len(max_str):\n",
    "            max_str = even\n",
    "        return max_str\n",
    "        "
   ]
  }
 ],
 "metadata": {
  "kernelspec": {
   "display_name": "base",
   "language": "python",
   "name": "python3"
  },
  "language_info": {
   "name": "python",
   "version": "3.11.4"
  }
 },
 "nbformat": 4,
 "nbformat_minor": 2
}
