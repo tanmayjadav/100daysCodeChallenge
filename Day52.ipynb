{
 "cells": [
  {
   "cell_type": "code",
   "execution_count": null,
   "metadata": {},
   "outputs": [],
   "source": [
    "class Solution:\n",
    "    def exist(self, board, word):\n",
    "        row = len(board)\n",
    "        col = len(board[0])\n",
    "\n",
    "        path = set()\n",
    "\n",
    "        def dfs(r,c,i):\n",
    "            if i==len(word):\n",
    "                return True \n",
    "            if  (r<0 or c<0 or \n",
    "                r>=row or c>=col or \n",
    "                word[i] != board[r][c] or \n",
    "                (r,c) in path):\n",
    "                return False \n",
    "            \n",
    "            path.add((r,c))\n",
    "            res = (dfs(r+1,c,i+1) or\n",
    "                   dfs(r-1,c,i+1) or\n",
    "                   dfs(r,c+1,i+1) or\n",
    "                   dfs(r,c-1,i+1))\n",
    "            path.remove((r,c))\n",
    "            return res \n",
    "\n",
    "        for r in range(row):\n",
    "            for c in range(col):\n",
    "                if dfs(r,c,0): return True\n",
    "        return False \n",
    "\n"
   ]
  }
 ],
 "metadata": {
  "language_info": {
   "name": "python"
  }
 },
 "nbformat": 4,
 "nbformat_minor": 2
}
