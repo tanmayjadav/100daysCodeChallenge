{
 "cells": [
  {
   "cell_type": "code",
   "execution_count": 1,
   "metadata": {},
   "outputs": [],
   "source": [
    "#begining of the recursions..."
   ]
  },
  {
   "cell_type": "code",
   "execution_count": 8,
   "metadata": {},
   "outputs": [
    {
     "name": "stdout",
     "output_type": "stream",
     "text": [
      "1\n",
      "2\n",
      "3\n",
      "4\n",
      "5\n"
     ]
    }
   ],
   "source": [
    "# print 1 to n\n",
    "\n",
    "def print1toN(n):\n",
    "    if n<=0:\n",
    "        return \n",
    "    print1toN(n-1)\n",
    "    print(n)\n",
    "    \n",
    "print1toN(5)"
   ]
  },
  {
   "cell_type": "code",
   "execution_count": 9,
   "metadata": {},
   "outputs": [
    {
     "name": "stdout",
     "output_type": "stream",
     "text": [
      "5\n",
      "4\n",
      "3\n",
      "2\n",
      "1\n"
     ]
    }
   ],
   "source": [
    "def print1toN(n):\n",
    "    if n<=0:\n",
    "        return \n",
    "    print(n)\n",
    "    print1toN(n-1)\n",
    "    \n",
    "print1toN(5)"
   ]
  },
  {
   "cell_type": "code",
   "execution_count": 14,
   "metadata": {},
   "outputs": [
    {
     "data": {
      "text/plain": [
       "[0, 1, 3, 5]"
      ]
     },
     "execution_count": 14,
     "metadata": {},
     "output_type": "execute_result"
    }
   ],
   "source": [
    "#sort an array using recusion (not merge or quick sort)\n",
    "# arr = [4,12,2,0,13,9]\n",
    "# arr = [3, 1, 4, 1, 5, 9, 2, 6, 5, 3, 5]\n",
    "arr = [1,0,5,3]\n",
    "def inserte(arr,temp):\n",
    "    if len(arr)==0 or temp>=arr[-1]:\n",
    "        arr.append(temp)\n",
    "        return \n",
    "    val = arr[-1]\n",
    "    arr.pop()\n",
    "    inserte(arr,temp)\n",
    "    arr.append(val)\n",
    "    return \n",
    "def sorte(arr):\n",
    "    if len(arr)<=1:\n",
    "        return \n",
    "    temp = arr[-1] \n",
    "    arr.pop()\n",
    "    sorte(arr)\n",
    "    inserte(arr,temp)\n",
    "\n",
    "sorte(arr)\n",
    "arr"
   ]
  },
  {
   "cell_type": "code",
   "execution_count": 15,
   "metadata": {},
   "outputs": [],
   "source": [
    "# sort a stack using recusrion \n",
    "# Stacks are the once which are deleted from back and added from backed \n",
    "# adding element in the linked list from top and head and deleting element in linked list on top head \n",
    "\n",
    "# it is almost same as sorting the linked list\n",
    "# how can you sort the linked list \n",
    "\n",
    "# Definition for singly-linked list.\n",
    "class ListNode:\n",
    "    def __init__(self, val=0, next=None):\n",
    "        self.val = val\n",
    "        self.next = next\n",
    "class Solution:\n",
    "    def sortList(self, head):\n",
    "        p = head\n",
    "        while p:\n",
    "            sm = ListNode(float(\"inf\"))\n",
    "            p2 = p\n",
    "            while p2:\n",
    "                # s = min(sm.val,p2.val)\n",
    "                if p2.val<sm.val:\n",
    "                    sm = p2\n",
    "                p2=p2.next\n",
    "            sm.val,p.val = p.val,sm.val\n",
    "            p=p.next\n",
    "        return head"
   ]
  }
 ],
 "metadata": {
  "kernelspec": {
   "display_name": "base",
   "language": "python",
   "name": "python3"
  },
  "language_info": {
   "codemirror_mode": {
    "name": "ipython",
    "version": 3
   },
   "file_extension": ".py",
   "mimetype": "text/x-python",
   "name": "python",
   "nbconvert_exporter": "python",
   "pygments_lexer": "ipython3",
   "version": "3.11.4"
  }
 },
 "nbformat": 4,
 "nbformat_minor": 2
}
