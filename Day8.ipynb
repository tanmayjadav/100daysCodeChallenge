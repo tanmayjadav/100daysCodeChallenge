{
 "cells": [
  {
   "cell_type": "code",
   "execution_count": 1,
   "metadata": {},
   "outputs": [],
   "source": [
    "#Question 1 binary search ceil and floor \n",
    "\n",
    "def findFloor(arr, n, x):\n",
    "    low = 0\n",
    "    high = n - 1\n",
    "    ans = -1\n",
    "\n",
    "    while low <= high:\n",
    "        mid = (low + high) // 2\n",
    "        # maybe an answer\n",
    "        if arr[mid] <= x:\n",
    "            ans = arr[mid]\n",
    "            # look for smaller index on the left\n",
    "            low = mid + 1\n",
    "        else:\n",
    "            high = mid - 1  # look on the right\n",
    "\n",
    "    return ans\n",
    "\n",
    "\n",
    "def findCeil(arr, n, x):\n",
    "    low = 0\n",
    "    high = n - 1\n",
    "    ans = -1\n",
    "\n",
    "    while low <= high:\n",
    "        mid = (low + high) // 2\n",
    "        # maybe an answer\n",
    "        if arr[mid] >= x:\n",
    "            ans = arr[mid]\n",
    "            # look for smaller index on the left\n",
    "            high = mid - 1\n",
    "        else:\n",
    "            low = mid + 1  # look on the right\n",
    "\n",
    "    return ans\n",
    "\n",
    "\n",
    "def getFloorAndCeil(arr, n, x):\n",
    "    f = findFloor(arr, n, x)\n",
    "    c = findCeil(arr, n, x)\n",
    "    return (f, c)\n",
    "\n",
    "\n",
    "arr = [3, 4, 4, 7, 8, 10]\n",
    "n = 6\n",
    "x = 5\n",
    "    "
   ]
  },
  {
   "cell_type": "code",
   "execution_count": 38,
   "metadata": {},
   "outputs": [
    {
     "data": {
      "text/plain": [
       "0"
      ]
     },
     "execution_count": 38,
     "metadata": {},
     "output_type": "execute_result"
    }
   ],
   "source": [
    "#question 2 find the first and last position of sorted array \n",
    "arr = [5,7,7,8,8,8,8,10] \n",
    "target = 7\n",
    "\n",
    "#the first thing comes up in mind after the word sorted array is binary search ans \n",
    "# as we are told to find first and last position of array so we can easily find it through \n",
    "# upper bound and lower bound of that element with just slight variation \n",
    "\n",
    "def findCeil(arr,target):\n",
    "    low,high = 0,len(arr)-1\n",
    "    ceil = -1\n",
    "    while low<=high:\n",
    "        mid = (low+high)//2\n",
    "        print(mid)\n",
    "        if arr[mid]<=target:\n",
    "            ceil = mid\n",
    "            low = mid+1\n",
    "        else:\n",
    "            high = mid-1\n",
    "    return ceil+1 if arr[ceil]==target else -1\n",
    "findCeil(arr,target)\n",
    "\n",
    "def findFloor(arr,target):\n",
    "    low,high = 0,len(arr)-1\n",
    "    floor = -1\n",
    "    while low<=high:\n",
    "        mid = (low+high)//2\n",
    "        if arr[mid]>=target:\n",
    "            floor = mid\n",
    "            high = mid-1\n",
    "        else:\n",
    "            low = mid+1\n",
    "    return floor-1 if arr[floor]==target else -1\n",
    "findFloor(arr,target)"
   ]
  },
  {
   "cell_type": "code",
   "execution_count": 67,
   "metadata": {},
   "outputs": [
    {
     "data": {
      "text/plain": [
       "5"
      ]
     },
     "execution_count": 67,
     "metadata": {},
     "output_type": "execute_result"
    }
   ],
   "source": [
    "#search in rotated sorted array\n",
    "\n",
    "arr = [4,5,6,7,0,1,2]\n",
    "#      l m h\n",
    "target = 0 \n",
    "\n",
    "def searchRotated(nums,target):\n",
    "    l,r = 0,len(nums)-1\n",
    "    while l<=r:\n",
    "        mid = (l+r)//2\n",
    "        if target == nums[mid]:\n",
    "            return mid\n",
    "        if nums[l]<=nums[mid]:\n",
    "            if target < nums[l] or target>nums [mid]:\n",
    "                l = mid+1\n",
    "            else:\n",
    "                r = mid-1\n",
    "        else:\n",
    "            if target < nums[mid] or target > nums[r]:\n",
    "                r = mid-1\n",
    "            else:\n",
    "                l = mid+1\n",
    "    return -1\n",
    "searchRotated(arr,1)"
   ]
  },
  {
   "cell_type": "code",
   "execution_count": null,
   "metadata": {},
   "outputs": [],
   "source": []
  }
 ],
 "metadata": {
  "kernelspec": {
   "display_name": "base",
   "language": "python",
   "name": "python3"
  },
  "language_info": {
   "codemirror_mode": {
    "name": "ipython",
    "version": 3
   },
   "file_extension": ".py",
   "mimetype": "text/x-python",
   "name": "python",
   "nbconvert_exporter": "python",
   "pygments_lexer": "ipython3",
   "version": "3.11.4"
  }
 },
 "nbformat": 4,
 "nbformat_minor": 2
}
