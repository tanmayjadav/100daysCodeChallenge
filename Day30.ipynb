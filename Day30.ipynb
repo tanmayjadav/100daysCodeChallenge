{
 "cells": [
  {
   "cell_type": "code",
   "execution_count": 2,
   "metadata": {},
   "outputs": [],
   "source": [
    "#recursion \n",
    "#sort stack through recursion\n",
    "\n",
    "def mergeStack(stack, temp):\n",
    "    if len(stack) == 0 or temp >= stack[-1]:\n",
    "        stack.append(temp)\n",
    "        return \n",
    "    val = stack.pop()\n",
    "    mergeStack(stack, temp)\n",
    "    stack.append(val)\n",
    "\n",
    "def sortStackH(stack):\n",
    "    if len(stack)<=1:\n",
    "        return \n",
    "    temp = stack[-1]\n",
    "    stack.pop()\n",
    "    sortStackH(stack)\n",
    "    mergeStack(stack,temp)\n",
    "\n",
    "def sortStack(s):\n",
    "\tsortStackH(s) \n",
    "\treturn s \n",
    "    "
   ]
  },
  {
   "cell_type": "code",
   "execution_count": 3,
   "metadata": {},
   "outputs": [
    {
     "data": {
      "text/plain": [
       "0"
      ]
     },
     "execution_count": 3,
     "metadata": {},
     "output_type": "execute_result"
    }
   ],
   "source": [
    "#reverse a stack through recursion \n"
   ]
  },
  {
   "cell_type": "code",
   "execution_count": 4,
   "metadata": {},
   "outputs": [],
   "source": [
    "#delete the midle element through recursion \n",
    "class Solution:\n",
    "    def deleteMid(self, s, sizeOfStack):\n",
    "        def removeMid(stack,cnt):\n",
    "            if len(stack)<=1 or cnt<=0:\n",
    "                stack.pop()\n",
    "                return \n",
    "            val = stack.pop()\n",
    "            cnt-=1\n",
    "            removeMid(stack,cnt)\n",
    "            stack.append(val)\n",
    "        removeMid(s,(sizeOfStack)//2)"
   ]
  },
  {
   "cell_type": "code",
   "execution_count": null,
   "metadata": {},
   "outputs": [],
   "source": []
  }
 ],
 "metadata": {
  "kernelspec": {
   "display_name": "base",
   "language": "python",
   "name": "python3"
  },
  "language_info": {
   "codemirror_mode": {
    "name": "ipython",
    "version": 3
   },
   "file_extension": ".py",
   "mimetype": "text/x-python",
   "name": "python",
   "nbconvert_exporter": "python",
   "pygments_lexer": "ipython3",
   "version": "3.11.4"
  }
 },
 "nbformat": 4,
 "nbformat_minor": 2
}
