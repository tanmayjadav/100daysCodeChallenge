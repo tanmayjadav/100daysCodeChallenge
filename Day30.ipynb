{
 "cells": [
  {
   "cell_type": "code",
   "execution_count": 2,
   "metadata": {},
   "outputs": [],
   "source": [
    "#recursion \n",
    "#sort stack through recursion\n",
    "\n",
    "def mergeStack(stack, temp):\n",
    "    if len(stack) == 0 or temp >= stack[-1]:\n",
    "        stack.append(temp)\n",
    "        return \n",
    "    val = stack.pop()\n",
    "    mergeStack(stack, temp)\n",
    "    stack.append(val)\n",
    "\n",
    "def sortStackH(stack):\n",
    "    if len(stack)<=1:\n",
    "        return \n",
    "    temp = stack[-1]\n",
    "    stack.pop()\n",
    "    sortStackH(stack)\n",
    "    mergeStack(stack,temp)\n",
    "  "
   ]
  },
  {
   "cell_type": "code",
   "execution_count": 3,
   "metadata": {},
   "outputs": [
    {
     "data": {
      "text/plain": [
       "0"
      ]
     },
     "execution_count": 3,
     "metadata": {},
     "output_type": "execute_result"
    }
   ],
   "source": [
    "#reverse a stack through recursion \n"
   ]
  },
  {
   "cell_type": "code",
   "execution_count": 4,
   "metadata": {},
   "outputs": [],
   "source": [
    "#delete the midle element through recursion \n",
    "class Solution:\n",
    "    def deleteMid(self, s, sizeOfStack):\n",
    "        def removeMid(stack,cnt):\n",
    "            if len(stack)<=1 or cnt<=0:\n",
    "                stack.pop()\n",
    "                return \n",
    "            val = stack.pop()\n",
    "            cnt-=1\n",
    "            removeMid(stack,cnt)\n",
    "            stack.append(val)\n",
    "        removeMid(s,(sizeOfStack)//2)"
   ]
  },
  {
   "cell_type": "code",
   "execution_count": 6,
   "metadata": {},
   "outputs": [
    {
     "name": "stdout",
     "output_type": "stream",
     "text": [
      "All possible subsequences are: \n",
      "abc, ab, ac, a, bc, b, c, , "
     ]
    }
   ],
   "source": [
    "#print all subsequence \n",
    "def solve(i, s, f):\n",
    "    if i == len(s):\n",
    "        print(f,end=', ')\n",
    "        return\n",
    "\n",
    "    f += s[i]\n",
    "    solve(i + 1, s, f)\n",
    "\n",
    "    f = f[:-1]\n",
    "    solve(i + 1, s, f)\n",
    "\n",
    "s = \"abc\"\n",
    "f = \"\"\n",
    "print(\"All possible subsequences are: \")\n",
    "solve(0, s, f)"
   ]
  },
  {
   "cell_type": "code",
   "execution_count": null,
   "metadata": {},
   "outputs": [],
   "source": []
  }
 ],
 "metadata": {
  "kernelspec": {
   "display_name": "base",
   "language": "python",
   "name": "python3"
  },
  "language_info": {
   "codemirror_mode": {
    "name": "ipython",
    "version": 3
   },
   "file_extension": ".py",
   "mimetype": "text/x-python",
   "name": "python",
   "nbconvert_exporter": "python",
   "pygments_lexer": "ipython3",
   "version": "3.11.4"
  }
 },
 "nbformat": 4,
 "nbformat_minor": 2
}
