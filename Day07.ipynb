{
 "cells": [
  {
   "cell_type": "code",
   "execution_count": 2,
   "metadata": {},
   "outputs": [
    {
     "name": "stdout",
     "output_type": "stream",
     "text": [
      "4\n"
     ]
    }
   ],
   "source": [
    "#Begining binary search As a decent level of question practice has been done in array \n",
    "#futher more about arrays I will do after some good hand on practice of multiple topics\n",
    "\n",
    "nums = [-1,0,3,5,9,12]\n",
    "target = 9\n",
    "start = 0\n",
    "end = len(nums)-1\n",
    "while start<end:\n",
    "    mid = (start+end)//2\n",
    "    \n",
    "    if nums[mid]>target:\n",
    "        end = mid-1\n",
    "    elif nums[mid]<target:\n",
    "        start = mid+1\n",
    "    else:\n",
    "        print(mid)\n",
    "        break"
   ]
  },
  {
   "cell_type": "code",
   "execution_count": 18,
   "metadata": {},
   "outputs": [
    {
     "data": {
      "text/plain": [
       "6"
      ]
     },
     "execution_count": 18,
     "metadata": {},
     "output_type": "execute_result"
    }
   ],
   "source": [
    "#Lower Bound number \n",
    "# here the lower bound number is the number where arr[i]>=x\n",
    "\n",
    "arr = [1,4,6,7,8,19,34]\n",
    "#                   ii\n",
    "target = 29\n",
    "#so here we don't have to search 9 but we have to find some number greater than 9 but smaller than rest \n",
    "\n",
    "def LowerBound(nums):  \n",
    "    low = 0\n",
    "    high = len(nums)-1\n",
    "    while low<=high:\n",
    "        mid = (low+high)//2\n",
    "        if nums[mid]>target:\n",
    "            high = mid-1\n",
    "        elif nums[mid]<target:\n",
    "            low = mid+1\n",
    "        else:\n",
    "            return mid\n",
    "    return mid if nums[mid]>target else len(nums)\n",
    "\n",
    "LowerBound(arr)\n",
    "\n",
    "#this above code is not working for some specific set of cases(some edge cases) else working fine \n",
    "# but as a programmer we need to create a code which sould run for every possible case "
   ]
  },
  {
   "cell_type": "code",
   "execution_count": 23,
   "metadata": {},
   "outputs": [
    {
     "data": {
      "text/plain": [
       "5"
      ]
     },
     "execution_count": 23,
     "metadata": {},
     "output_type": "execute_result"
    }
   ],
   "source": [
    "#so we will begin with some different approch of binary search implementation \n",
    "arr = [1,4,6,7,8,19,34]\n",
    "target = 18\n",
    "def bSearch(arr):\n",
    "    left,right = 0,len(arr)-1 \n",
    "\n",
    "    while left<=right:\n",
    "        mid = left + (right-left)//2\n",
    "\n",
    "        if arr[mid]>target:\n",
    "            right = mid-1\n",
    "        else:\n",
    "            left = mid+1\n",
    "    return left-1\n",
    "bSearch(arr)"
   ]
  },
  {
   "cell_type": "code",
   "execution_count": 3,
   "metadata": {},
   "outputs": [
    {
     "data": {
      "text/plain": [
       "5"
      ]
     },
     "execution_count": 3,
     "metadata": {},
     "output_type": "execute_result"
    }
   ],
   "source": [
    "#Question 2 implement of lower Bound smallest element x>=target\n",
    "arr = [1,4,6,7,8,19,19,19,19,34]\n",
    "target = 19\n",
    "# arr = [1,3,5,6]\n",
    "# target = 5\n",
    "def LowBound(arr):\n",
    "    left,right = 0,len(arr)-1 \n",
    "    ans = len(arr)-1\n",
    "    while left<=right:\n",
    "        mid = left + (right-left)//2\n",
    "        if arr[mid]>=target:\n",
    "            ans = mid\n",
    "            right = mid-1\n",
    "        else:\n",
    "            left = mid+1\n",
    "    return ans if arr[ans]>=target else len(arr)\n",
    "LowBound(arr)"
   ]
  },
  {
   "cell_type": "code",
   "execution_count": 12,
   "metadata": {},
   "outputs": [
    {
     "data": {
      "text/plain": [
       "3"
      ]
     },
     "execution_count": 12,
     "metadata": {},
     "output_type": "execute_result"
    }
   ],
   "source": []
  },
  {
   "cell_type": "code",
   "execution_count": 39,
   "metadata": {},
   "outputs": [],
   "source": [
    "#similarly we can also implement project for the upper bound \n",
    "\n",
    "# question 4  Search Insert postion its same as lower bound \n",
    "def searchInsert(arr, target):\n",
    "    left,right = 0,len(arr)-1 \n",
    "    ans = len(arr)-1\n",
    "    while left<=right:\n",
    "        mid = left + (right-left)//2\n",
    "        if arr[mid]>=target:\n",
    "            ans = mid\n",
    "            right = mid-1\n",
    "        else:\n",
    "            left = mid+1\n",
    "    return ans if arr[ans]>=target else len(arr)\n"
   ]
  },
  {
   "cell_type": "code",
   "execution_count": null,
   "metadata": {},
   "outputs": [],
   "source": []
  }
 ],
 "metadata": {
  "kernelspec": {
   "display_name": "base",
   "language": "python",
   "name": "python3"
  },
  "language_info": {
   "codemirror_mode": {
    "name": "ipython",
    "version": 3
   },
   "file_extension": ".py",
   "mimetype": "text/x-python",
   "name": "python",
   "nbconvert_exporter": "python",
   "pygments_lexer": "ipython3",
   "version": "3.11.4"
  }
 },
 "nbformat": 4,
 "nbformat_minor": 2
}
