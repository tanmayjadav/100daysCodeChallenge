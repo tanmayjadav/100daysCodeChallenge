{
 "cells": [
  {
   "cell_type": "code",
   "execution_count": 4,
   "metadata": {},
   "outputs": [
    {
     "data": {
      "text/plain": [
       "3"
      ]
     },
     "execution_count": 4,
     "metadata": {},
     "output_type": "execute_result"
    }
   ],
   "source": [
    "#question 1 Minimum difference in sorted array \n",
    "\n",
    "arr = [1,4,10,16]\n",
    "key = 7\n",
    "\n",
    "low = 0\n",
    "high = len(arr)-1\n",
    "ans = float('inf')\n",
    "while low<=high:\n",
    "    mid = (low+high)//2\n",
    "\n",
    "    if arr[mid]<key:\n",
    "        ans = min(ans,abs(arr[mid]-key))\n",
    "        low =mid+1\n",
    "    elif arr[mid]>key:\n",
    "        ans = min(ans,abs(arr[mid]-key))\n",
    "        high = mid-1\n",
    "    else:\n",
    "        print(0)\n",
    "        break\n",
    "    \n",
    "ans"
   ]
  },
  {
   "cell_type": "code",
   "execution_count": 5,
   "metadata": {},
   "outputs": [
    {
     "name": "stdout",
     "output_type": "stream",
     "text": [
      "The row with maximum no. of 1's is: 0\n"
     ]
    }
   ],
   "source": [
    "def lowerBound(arr, n, x):\n",
    "    low = 0\n",
    "    high = n - 1\n",
    "    ans = n\n",
    "\n",
    "    while low <= high:\n",
    "        mid = (low + high) // 2\n",
    "        # maybe an answer\n",
    "        if arr[mid] >= x:\n",
    "            ans = mid\n",
    "            # look for smaller index on the left\n",
    "            high = mid - 1\n",
    "        else:\n",
    "            low = mid + 1  # look on the right\n",
    "    return ans\n",
    "\n",
    "def rowWithMax1s(matrix, n, m):\n",
    "    cnt_max = 0\n",
    "    index = -1\n",
    "\n",
    "    # traverse the rows:\n",
    "    for i in range(n):\n",
    "        # get the number of 1's:\n",
    "        cnt_ones = m - lowerBound(matrix[i], m, 1)\n",
    "        if cnt_ones > cnt_max:\n",
    "            cnt_max = cnt_ones\n",
    "            index = i\n",
    "    return index\n",
    "\n",
    "matrix = [[1, 1, 1], [0, 0, 1], [0, 0, 0]]\n",
    "n = 3\n",
    "m = 3\n",
    "print(\"The row with maximum no. of 1's is:\", rowWithMax1s(matrix, n, m))\n"
   ]
  },
  {
   "cell_type": "code",
   "execution_count": null,
   "metadata": {},
   "outputs": [],
   "source": []
  }
 ],
 "metadata": {
  "kernelspec": {
   "display_name": "base",
   "language": "python",
   "name": "python3"
  },
  "language_info": {
   "codemirror_mode": {
    "name": "ipython",
    "version": 3
   },
   "file_extension": ".py",
   "mimetype": "text/x-python",
   "name": "python",
   "nbconvert_exporter": "python",
   "pygments_lexer": "ipython3",
   "version": "3.11.4"
  }
 },
 "nbformat": 4,
 "nbformat_minor": 2
}
