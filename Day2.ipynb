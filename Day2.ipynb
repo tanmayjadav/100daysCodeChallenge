{
 "cells": [
  {
   "cell_type": "code",
   "execution_count": 9,
   "metadata": {},
   "outputs": [
    {
     "data": {
      "text/plain": [
       "[1, 4, 5, 6, 8, 9, 10]"
      ]
     },
     "execution_count": 9,
     "metadata": {},
     "output_type": "execute_result"
    }
   ],
   "source": [
    "#implement the merge sort \n",
    "\n",
    "#but First Implement a program to sort 2 sorted array in one In space \n",
    "\n",
    "arr1 = [1,4,6,8,9,0,0]\n",
    "arr2 = [5,10]\n",
    "\n",
    "k = len(arr1)-1\n",
    "i = len(arr1)-len(arr2)-1\n",
    "j = len(arr2)-1\n",
    "while i>=0 and j>=0:\n",
    "    if arr1[i]>arr2[j]:\n",
    "        arr1[k] = arr1[i]\n",
    "        i-=1\n",
    "    else:\n",
    "        arr1[k] = arr2[j]\n",
    "        j-=1\n",
    "    k-=1\n",
    "if i>=0:\n",
    "    while i>=0:\n",
    "        arr1[k] = arr1[i]\n",
    "        i-=1\n",
    "        k-=1\n",
    "elif j>=0:\n",
    "    while j>=0:\n",
    "        arr1[k]=arr2[j]\n",
    "        j-=1\n",
    "        k-=1    \n",
    "arr1\n"
   ]
  },
  {
   "cell_type": "code",
   "execution_count": 22,
   "metadata": {},
   "outputs": [
    {
     "data": {
      "text/plain": [
       "[2, 3, 4, 5, 7, 8, 10]"
      ]
     },
     "execution_count": 22,
     "metadata": {},
     "output_type": "execute_result"
    }
   ],
   "source": [
    "# we will be using the extended case of the above \n",
    "\n",
    "def mergeSort(arr):\n",
    "    if len(arr)<=1:\n",
    "        return\n",
    "     \n",
    "    mid = len(arr)//2\n",
    "    left = arr[:mid]\n",
    "    right = arr[mid:]\n",
    "\n",
    "    mergeSort(left)\n",
    "    mergeSort(right)\n",
    "    merge2sorted(left,right,arr)\n",
    "\n",
    "def merge2sorted(l,r,arr):\n",
    "    i = j = k = 0\n",
    "    while i<len(l) and j<len(r):\n",
    "        if l[i]<=r[j]:\n",
    "            arr[k]=l[i]\n",
    "            i+=1\n",
    "        else:\n",
    "            arr[k]=r[j]\n",
    "            j+=1\n",
    "        k+=1\n",
    "\n",
    "    while i<len(l):\n",
    "        arr[k]=l[i]\n",
    "        k+=1  \n",
    "        i+=1\n",
    "    while j<len(r):\n",
    "        arr[k]=r[j]\n",
    "        k+=1\n",
    "        j+=1\n",
    "\n",
    "arr = [5,2,4,3,7,8,10]\n",
    "mergeSort(arr) \n",
    "arr"
   ]
  },
  {
   "cell_type": "code",
   "execution_count": 4,
   "metadata": {},
   "outputs": [
    {
     "data": {
      "text/plain": [
       "10"
      ]
     },
     "execution_count": 4,
     "metadata": {},
     "output_type": "execute_result"
    }
   ],
   "source": [
    "#Question 1 \n",
    "# best time to buy and sell stock \n",
    "\n",
    "prices = [7,1,5,3,4,0,4,10]\n",
    "#                     l r\n",
    "# Output: 5 as buy at 1 and sell at 6 \n",
    "\n",
    "#first approch brute force  N^2 time\n",
    "maxpro=0\n",
    "for i in range(len(prices)):\n",
    "    for j in range(i,len(prices)):\n",
    "        if prices[j]-prices[i]>maxpro:\n",
    "            maxpro = max(maxpro,prices[j]-prices[i])\n",
    "maxpro"
   ]
  },
  {
   "cell_type": "code",
   "execution_count": 2,
   "metadata": {},
   "outputs": [
    {
     "data": {
      "text/plain": [
       "10"
      ]
     },
     "execution_count": 2,
     "metadata": {},
     "output_type": "execute_result"
    }
   ],
   "source": [
    "#now optimal approch here we have to buy the cheapest mean smallest and sell at max\n",
    "\n",
    "#optimal approch N time soln\n",
    "l,r=0,1\n",
    "mxpro=0\n",
    "for i in range(len(prices)-1):\n",
    "    if prices[l]>=prices[r]:\n",
    "        l=r\n",
    "    else:\n",
    "        mxpro = max(prices[r]-prices[l],mxpro)\n",
    "    r+=1\n",
    "mxpro"
   ]
  },
  {
   "cell_type": "code",
   "execution_count": 15,
   "metadata": {},
   "outputs": [
    {
     "data": {
      "text/plain": [
       "[3, -2, 1, -5, 2, -4]"
      ]
     },
     "execution_count": 15,
     "metadata": {},
     "output_type": "execute_result"
    }
   ],
   "source": [
    "#question rearrange array in -1 and 1 form alternative\n",
    "\n",
    "arr = [3,1,-2,-5,2,-4]\n",
    "pos=0\n",
    "neg=1\n",
    "ans = [0 for i in range(len(arr))]\n",
    "for i in range(len(arr)):\n",
    "    if arr[i]>0:\n",
    "        ans[pos]=arr[i]\n",
    "        pos+=2\n",
    "    else:\n",
    "        ans[neg]=arr[i]\n",
    "        neg+=2\n",
    "ans\n",
    "    \n"
   ]
  },
  {
   "cell_type": "code",
   "execution_count": null,
   "metadata": {},
   "outputs": [],
   "source": []
  }
 ],
 "metadata": {
  "kernelspec": {
   "display_name": "base",
   "language": "python",
   "name": "python3"
  },
  "language_info": {
   "name": "python",
   "version": "3.11.4"
  }
 },
 "nbformat": 4,
 "nbformat_minor": 2
}
