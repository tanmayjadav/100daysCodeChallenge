{
 "cells": [
  {
   "cell_type": "code",
   "execution_count": 4,
   "metadata": {},
   "outputs": [
    {
     "data": {
      "text/plain": [
       "[0, 1, 3, 4, 7, 8]"
      ]
     },
     "execution_count": 4,
     "metadata": {},
     "output_type": "execute_result"
    }
   ],
   "source": [
    "#revision recursion \n",
    "#sort an array using recursion \n",
    "\n",
    "arr = [7,3,4,1,0,8]\n",
    "\n",
    "for i in range(len(arr)):\n",
    "    val = i\n",
    "    for j in range(i+1,len(arr)):\n",
    "        if arr[j]<arr[val]:\n",
    "            val = j\n",
    "    arr[val],arr[i]=arr[i],arr[val]\n",
    "arr"
   ]
  },
  {
   "cell_type": "code",
   "execution_count": 2,
   "metadata": {},
   "outputs": [
    {
     "data": {
      "text/plain": [
       "[0, 1, 3, 4, 7, 8]"
      ]
     },
     "execution_count": 2,
     "metadata": {},
     "output_type": "execute_result"
    }
   ],
   "source": [
    "# now implement using recursion \n",
    "\n",
    "arr = [7,3,4,1,0,8]\n",
    "\n",
    "def addValue(arr,val):\n",
    "    if len(arr)==0 or arr[-1]<=val:\n",
    "        arr.append(val)\n",
    "        return \n",
    "    temp = arr.pop()\n",
    "    addValue(arr,val)\n",
    "    arr.append(temp)\n",
    "    \n",
    "def solve(arr):\n",
    "    if len(arr)==1:\n",
    "        return\n",
    "    val = arr.pop()\n",
    "    solve(arr)\n",
    "    addValue(arr,val)\n",
    "    \n",
    "solve(arr)\n",
    "arr"
   ]
  },
  {
   "cell_type": "code",
   "execution_count": null,
   "metadata": {},
   "outputs": [],
   "source": []
  }
 ],
 "metadata": {
  "kernelspec": {
   "display_name": "base",
   "language": "python",
   "name": "python3"
  },
  "language_info": {
   "codemirror_mode": {
    "name": "ipython",
    "version": 3
   },
   "file_extension": ".py",
   "mimetype": "text/x-python",
   "name": "python",
   "nbconvert_exporter": "python",
   "pygments_lexer": "ipython3",
   "version": "3.11.4"
  }
 },
 "nbformat": 4,
 "nbformat_minor": 2
}
