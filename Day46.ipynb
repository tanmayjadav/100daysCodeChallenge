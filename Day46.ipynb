{
 "cells": [
  {
   "cell_type": "code",
   "execution_count": 1,
   "metadata": {},
   "outputs": [
    {
     "ename": "",
     "evalue": "",
     "output_type": "error",
     "traceback": [
      "\u001b[1;31mThe Kernel crashed while executing code in the current cell or a previous cell. \n",
      "\u001b[1;31mPlease review the code in the cell(s) to identify a possible cause of the failure. \n",
      "\u001b[1;31mClick <a href='https://aka.ms/vscodeJupyterKernelCrash'>here</a> for more info. \n",
      "\u001b[1;31mView Jupyter <a href='command:jupyter.viewOutput'>log</a> for further details."
     ]
    }
   ],
   "source": [
    "#find if negative exists or not \n",
    "from queue import Queue;\n",
    "arr = [-8, 2, 3, -6, 10]\n",
    "k = 2\n",
    "n = len(arr)\n",
    "i,j = 0,0\n",
    "ans = []\n",
    "que = Queue()\n",
    "while j<n:\n",
    "    if arr[j]<0: que.put(arr[j])\n",
    "\n",
    "    if (j-i+1)==k:\n",
    "        i+=1\n",
    "        que.get()\n",
    "        if que.empty():\n",
    "            ans.append(0)     \n",
    "        else:\n",
    "            ans.append(que.queue[0])\n",
    "    j+=1\n",
    "    \n",
    "ans\n"
   ]
  },
  {
   "cell_type": "code",
   "execution_count": 23,
   "metadata": {},
   "outputs": [
    {
     "data": {
      "text/plain": [
       "[-8, 0, -6, -6]"
      ]
     },
     "execution_count": 23,
     "metadata": {},
     "output_type": "execute_result"
    }
   ],
   "source": [
    "def return_ans(arr , k):\n",
    "    l = 0\n",
    "    r = 0\n",
    "    temp_store = []\n",
    "    final_ans = []\n",
    "    while(r < len(arr)):\n",
    "        if arr[r] < 0:\n",
    "            temp_store.append(arr[r])     \n",
    "        if r - l + 1 != k :\n",
    "            r+=1\n",
    "        elif r - l + 1 == k :\n",
    "            if len(temp_store) == 0 :\n",
    "                final_ans.append(0)\n",
    "            else:\n",
    "                final_ans.append(temp_store[0])\n",
    "                if arr[l] < 0:\n",
    "                    temp_store.pop(0)\n",
    "            r+=1\n",
    "            l+=1\n",
    "    return final_ans\n",
    "return_ans(arr,2)\n"
   ]
  },
  {
   "cell_type": "code",
   "execution_count": 4,
   "metadata": {},
   "outputs": [
    {
     "data": {
      "text/plain": [
       "2"
      ]
     },
     "execution_count": 4,
     "metadata": {},
     "output_type": "execute_result"
    }
   ],
   "source": [
    "from queue import Queue\n",
    "s = \"ababbbasdf\"\n",
    "# Output: 3\n",
    "x = Queue()\n",
    "i,j = 0,0\n",
    "c,cnt = 0,0\n",
    "while i<=j and j<len(s):\n",
    "    if s[j] in x:\n",
    "        if c>cnt:\n",
    "            cnt = c\n",
    "        c=0\n",
    "    else:\n",
    "        x.add(s[j])\n",
    "        c+=1\n",
    "    j+=1\n",
    "cnt"
   ]
  },
  {
   "cell_type": "code",
   "execution_count": null,
   "metadata": {},
   "outputs": [],
   "source": []
  }
 ],
 "metadata": {
  "kernelspec": {
   "display_name": "base",
   "language": "python",
   "name": "python3"
  },
  "language_info": {
   "codemirror_mode": {
    "name": "ipython",
    "version": 3
   },
   "file_extension": ".py",
   "mimetype": "text/x-python",
   "name": "python",
   "nbconvert_exporter": "python",
   "pygments_lexer": "ipython3",
   "version": "3.11.4"
  }
 },
 "nbformat": 4,
 "nbformat_minor": 2
}
