{
 "cells": [
  {
   "cell_type": "code",
   "execution_count": 5,
   "metadata": {},
   "outputs": [
    {
     "name": "stdout",
     "output_type": "stream",
     "text": [
      "True\n"
     ]
    }
   ],
   "source": [
    "pat = \"for\"\n",
    "p = \"rfo\"\n",
    "#find if pat and p is anagram or not\n",
    "\n",
    "if sorted(pat) == sorted(p): print(True)\n",
    "#here time complexity is NlogN+NlogN\n",
    "\n",
    "#alternate way could be to use dict\n",
    "check = {}\n",
    "check2 = {}\n",
    "for i in pat:\n",
    "    if i in check:\n",
    "        check[i]+=1\n",
    "    else:\n",
    "        check[i]=1\n",
    "# this way time complexity would be n+n and space complexity would be n+n"
   ]
  },
  {
   "cell_type": "code",
   "execution_count": 6,
   "metadata": {},
   "outputs": [],
   "source": [
    "#find anagrams in k window\n",
    "txt = \"forxxorfxdofr\"\n",
    "pat = \"for\"\n"
   ]
  },
  {
   "cell_type": "code",
   "execution_count": 12,
   "metadata": {},
   "outputs": [
    {
     "data": {
      "text/plain": [
       "True"
      ]
     },
     "execution_count": 12,
     "metadata": {},
     "output_type": "execute_result"
    }
   ],
   "source": [
    "def are_anagrams(s1, s2):\n",
    "    if len(s1) != len(s2):\n",
    "        return False\n",
    "    count = [0] * 256\n",
    "    for char in s1:\n",
    "        count[ord(char)] += 1\n",
    "    for char in s2:\n",
    "        count[ord(char)] -= 1\n",
    "        if count[ord(char)] < 0:\n",
    "            return False\n",
    "    return True\n",
    "are_anagrams(\"frr\",\"rfr\")"
   ]
  },
  {
   "cell_type": "code",
   "execution_count": 14,
   "metadata": {},
   "outputs": [
    {
     "data": {
      "text/plain": [
       "3"
      ]
     },
     "execution_count": 14,
     "metadata": {},
     "output_type": "execute_result"
    }
   ],
   "source": [
    "def search(pat, txt):\n",
    "    n = len(txt)  \n",
    "    k = len(pat)\n",
    "\n",
    "    ans = 0\n",
    "    hashPat = [0] * 26\n",
    "    for char in pat:\n",
    "        hashPat[ord(char) - ord('a')] += 1\n",
    "\n",
    "    hashTxt = [0] * 26\n",
    "    i, j = 0, 0   \n",
    "    while j < n:\n",
    "        hashTxt[ord(txt[j]) - ord('a')] += 1\n",
    "\n",
    "        if j - i + 1 == k: \n",
    "            if hashTxt == hashPat:  \n",
    "                ans += 1\n",
    "            hashTxt[ord(txt[i]) - ord('a')] -= 1 \n",
    "            i += 1\n",
    "        j += 1\n",
    "\n",
    "    return ans\n",
    "search(pat,txt)"
   ]
  },
  {
   "cell_type": "code",
   "execution_count": null,
   "metadata": {},
   "outputs": [],
   "source": [
    "arr = [1,3,-1,-3,4,5,1,2,4,-3]\n",
    "k = 2\n",
    "\n",
    "i,j = 0,0\n",
    "sm = mx = 0\n"
   ]
  }
 ],
 "metadata": {
  "kernelspec": {
   "display_name": "base",
   "language": "python",
   "name": "python3"
  },
  "language_info": {
   "codemirror_mode": {
    "name": "ipython",
    "version": 3
   },
   "file_extension": ".py",
   "mimetype": "text/x-python",
   "name": "python",
   "nbconvert_exporter": "python",
   "pygments_lexer": "ipython3",
   "version": "3.11.4"
  }
 },
 "nbformat": 4,
 "nbformat_minor": 2
}
