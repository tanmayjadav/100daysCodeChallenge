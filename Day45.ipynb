{
 "cells": [
  {
   "cell_type": "code",
   "execution_count": 22,
   "metadata": {},
   "outputs": [
    {
     "name": "stdout",
     "output_type": "stream",
     "text": [
      "[1, 2, 3]\n",
      "[1, 3, 2]\n",
      "[2, 1, 3]\n",
      "[2, 3, 1]\n",
      "[3, 2, 1]\n",
      "[3, 1, 2]\n"
     ]
    }
   ],
   "source": [
    "#generate all the permutaions \n",
    "arr = [1,2,3]\n",
    "#output = [213],[321],[312],[231],[132],[123],\n",
    "n = len(arr)\n",
    "def solved(arr,ind):\n",
    "    if ind>=len(arr):\n",
    "        print(arr)\n",
    "        return \n",
    "    for i in range(ind,n):\n",
    "        arr[ind],arr[i] = arr[i],arr[ind]\n",
    "        solved(arr,ind+1)\n",
    "        arr[ind],arr[i] = arr[i],arr[ind]\n",
    "solved(arr,0)\n"
   ]
  },
  {
   "cell_type": "code",
   "execution_count": 1,
   "metadata": {},
   "outputs": [
    {
     "data": {
      "text/plain": [
       "12"
      ]
     },
     "execution_count": 1,
     "metadata": {},
     "output_type": "execute_result"
    }
   ],
   "source": [
    "#sliding window \n",
    "arr = [1,2,1,3,6,3,2,3,4]\n",
    "k = 3\n",
    "i,j = 0,k-1\n",
    "mx = sm = sum(arr[i:k])\n",
    "while j<len(arr)-1:\n",
    "    if sm>mx:\n",
    "        mx = sm\n",
    "    sm-=arr[i]\n",
    "    j+=1\n",
    "    i+=1\n",
    "    sm+=arr[j]\n",
    "mx\n"
   ]
  },
  {
   "cell_type": "code",
   "execution_count": 9,
   "metadata": {},
   "outputs": [
    {
     "data": {
      "text/plain": [
       "3"
      ]
     },
     "execution_count": 9,
     "metadata": {},
     "output_type": "execute_result"
    }
   ],
   "source": [
    "#largest subarray with sum k \n",
    "arr = [1,1,2,5,1,1,3,2]\n",
    "target = 5\n",
    "sm = arr[0]\n",
    "mx = 0\n",
    "i,j=0,1\n",
    "while i<=j and j<len(arr):\n",
    "    if sm>target:\n",
    "        sm-=arr[i]\n",
    "        i+=1\n",
    "    elif sm<target:\n",
    "        sm+=arr[j]\n",
    "        j+=1\n",
    "    else:\n",
    "        if (j-i)>mx:\n",
    "            mx = j-i\n",
    "        sm-=arr[i]\n",
    "        sm+=arr[j]\n",
    "        i+=1\n",
    "        j+=1\n",
    "mx"
   ]
  },
  {
   "cell_type": "code",
   "execution_count": null,
   "metadata": {},
   "outputs": [],
   "source": []
  }
 ],
 "metadata": {
  "kernelspec": {
   "display_name": "base",
   "language": "python",
   "name": "python3"
  },
  "language_info": {
   "codemirror_mode": {
    "name": "ipython",
    "version": 3
   },
   "file_extension": ".py",
   "mimetype": "text/x-python",
   "name": "python",
   "nbconvert_exporter": "python",
   "pygments_lexer": "ipython3",
   "version": "3.11.4"
  }
 },
 "nbformat": 4,
 "nbformat_minor": 2
}
