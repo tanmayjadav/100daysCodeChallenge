{
 "cells": [
  {
   "cell_type": "code",
   "execution_count": 1,
   "metadata": {},
   "outputs": [],
   "source": [
    "# delete all occurences of k element : https://www.codingninjas.com/studio/problems/delete-all-occurrences-of-a-given-key-in-a-doubly-linked-list_8160461\n",
    "\n",
    "def delete_occurrences( key):\n",
    "        current = head\n",
    "        while current:\n",
    "            if current.data == key:\n",
    "                if current.prev:\n",
    "                    current.prev.next = current.next\n",
    "                else:\n",
    "                    head = current.next\n",
    "                if current.next:\n",
    "                    current.next.prev = current.prev\n",
    "                temp = current.next\n",
    "                del current\n",
    "                current = temp\n",
    "            else:\n",
    "                current = current.next"
   ]
  },
  {
   "cell_type": "code",
   "execution_count": 2,
   "metadata": {},
   "outputs": [],
   "source": [
    "# Find pairs with given sum in doubly linked list : https://www.codingninjas.com/studio/problems/find-pairs-with-given-sum-in-doubly-linked-list_1164172\n",
    "class DoublyLinkedList:\n",
    "    def __init__(self):\n",
    "        self.head = None\n",
    "        self.tail = None\n",
    "    def find_pairs_with_sum(self,target_sum):\n",
    "        first = self.head\n",
    "        last = self.tail\n",
    "        pairs = []\n",
    "\n",
    "        while first and last and first != last and last.next != first:\n",
    "            current_sum = first.data + last.data\n",
    "            if current_sum == target_sum:\n",
    "                pairs.append((first.data, last.data))\n",
    "                first = first.next\n",
    "                last = last.prev\n",
    "            elif current_sum < target_sum:\n",
    "                first = first.next\n",
    "            else:\n",
    "                last = last.prev\n",
    "\n",
    "        return pairs"
   ]
  },
  {
   "cell_type": "code",
   "execution_count": null,
   "metadata": {},
   "outputs": [],
   "source": []
  },
  {
   "cell_type": "code",
   "execution_count": null,
   "metadata": {},
   "outputs": [],
   "source": []
  }
 ],
 "metadata": {
  "kernelspec": {
   "display_name": "base",
   "language": "python",
   "name": "python3"
  },
  "language_info": {
   "codemirror_mode": {
    "name": "ipython",
    "version": 3
   },
   "file_extension": ".py",
   "mimetype": "text/x-python",
   "name": "python",
   "nbconvert_exporter": "python",
   "pygments_lexer": "ipython3",
   "version": "3.11.4"
  }
 },
 "nbformat": 4,
 "nbformat_minor": 2
}
