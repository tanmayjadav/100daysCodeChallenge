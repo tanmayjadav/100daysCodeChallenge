{
 "cells": [
  {
   "cell_type": "code",
   "execution_count": 3,
   "metadata": {},
   "outputs": [
    {
     "name": "stdout",
     "output_type": "stream",
     "text": [
      " c b bc a ac ab abc "
     ]
    }
   ],
   "source": [
    "#power set \n",
    "ip = \"abc\"\n",
    "op = \"\"\n",
    "\n",
    "def solved(ip,op):\n",
    "    if len(ip)==0:\n",
    "        print(op,end=\" \")\n",
    "        return \n",
    "    op1 = op\n",
    "    op2 = op+ip[0]\n",
    "    ip = ip[1:]\n",
    "\n",
    "    solved(ip,op1)\n",
    "    solved(ip,op2)\n",
    "\n",
    "solved(ip,op)"
   ]
  },
  {
   "cell_type": "code",
   "execution_count": 8,
   "metadata": {},
   "outputs": [
    {
     "name": "stdout",
     "output_type": "stream",
     "text": [
      "[1, 2, 3] ,[1, 2] ,[1, 3] ,[1] ,[2, 3] ,[2] ,[3] ,[] ,"
     ]
    }
   ],
   "source": [
    "def solved(ind,ds):\n",
    "    if ind==len(arr):\n",
    "        print(ds,end=\" ,\")\n",
    "        return\n",
    "    ds.append(arr[ind])\n",
    "    solved(ind+1,ds)\n",
    "    ds.pop()\n",
    "    solved(ind+1,ds)\n",
    "\n",
    "arr = [1,2,3]\n",
    "n = len(arr)\n",
    "solved(0,[])\n"
   ]
  },
  {
   "cell_type": "code",
   "execution_count": 16,
   "metadata": {},
   "outputs": [
    {
     "name": "stdout",
     "output_type": "stream",
     "text": [
      "abc ,ab ,ac ,a ,bc ,b ,c , ,"
     ]
    }
   ],
   "source": [
    "ipst = \"abc\"\n",
    "def solved(ind,st):\n",
    "    if len(ipst)==ind:\n",
    "        print(st,end=\" ,\")\n",
    "        return \n",
    "    st +=ipst[ind]\n",
    "    solved(ind+1,st)\n",
    "    st = st[:-1]   \n",
    "    solved(ind+1,st)\n",
    "solved(0,\"\")\n"
   ]
  },
  {
   "cell_type": "code",
   "execution_count": 20,
   "metadata": {},
   "outputs": [
    {
     "name": "stdout",
     "output_type": "stream",
     "text": [
      "[5, 2]\n",
      "[7]\n",
      "[2, 5]\n",
      "[3, 4]\n"
     ]
    }
   ],
   "source": [
    "def solved(ind,ds,sm,n):\n",
    "    if sm==target:\n",
    "        print(ds)\n",
    "        return \n",
    "    elif ind>=n or sm>target:\n",
    "        return\n",
    "    ds.append(arr[ind])\n",
    "    sm+=arr[ind]\n",
    "    solved(ind+1,ds,sm,n)\n",
    "    ds.pop()\n",
    "    sm-=arr[ind]\n",
    "    solved(ind+1,ds,sm,n)\n",
    "    \n",
    "arr = [5,7,2,5,3,4]\n",
    "target = 7\n",
    "n=len(arr)\n",
    "solved(0,[],0,n)"
   ]
  },
  {
   "cell_type": "code",
   "execution_count": 26,
   "metadata": {},
   "outputs": [
    {
     "name": "stdout",
     "output_type": "stream",
     "text": [
      "[5, 2]\n",
      "[7]\n",
      "[2, 5]\n",
      "[2, 4, 1]\n",
      "[3, 4]\n",
      "[1, 6]\n"
     ]
    },
    {
     "data": {
      "text/plain": [
       "6"
      ]
     },
     "execution_count": 26,
     "metadata": {},
     "output_type": "execute_result"
    }
   ],
   "source": [
    "#now if I just want count\n",
    "def solved(ind,ds,sm,n):\n",
    "    if sm==target:\n",
    "        print(ds)\n",
    "        return 1\n",
    "    elif ind>=n or sm>target:\n",
    "        return 0\n",
    "    ds.append(arr[ind])\n",
    "    sm+=arr[ind]\n",
    "    l = solved(ind+1,ds,sm,n)\n",
    "    ds.pop()\n",
    "    sm-=arr[ind]\n",
    "    r = solved(ind+1,ds,sm,n)\n",
    "    return l+r\n",
    "    \n",
    "arr = [5,7,2,5,3,4,1,6]\n",
    "target = 7\n",
    "n=len(arr)\n",
    "solved(0,[],0,n)"
   ]
  },
  {
   "cell_type": "code",
   "execution_count": 32,
   "metadata": {},
   "outputs": [
    {
     "name": "stdout",
     "output_type": "stream",
     "text": [
      "[5, 2]\n"
     ]
    },
    {
     "data": {
      "text/plain": [
       "True"
      ]
     },
     "execution_count": 32,
     "metadata": {},
     "output_type": "execute_result"
    }
   ],
   "source": [
    "# if I want to just print 1st matching \n",
    "def solved(ind,ds,sm,n):\n",
    "    if sm==target:\n",
    "        print(ds)\n",
    "        return True\n",
    "    elif ind>=n or sm>target:\n",
    "        return False\n",
    "    ds.append(arr[ind])\n",
    "    sm+=arr[ind]\n",
    "    if(solved(ind+1,ds,sm,n)): return True\n",
    "    ds.pop()\n",
    "    sm-=arr[ind]\n",
    "    if(solved(ind+1,ds,sm,n)): return True\n",
    "    return False\n",
    "    \n",
    "arr = [5,5,3,4,2,7]\n",
    "target = 7\n",
    "n=len(arr)\n",
    "solved(0,[],0,n)"
   ]
  },
  {
   "cell_type": "code",
   "execution_count": null,
   "metadata": {},
   "outputs": [],
   "source": []
  }
 ],
 "metadata": {
  "kernelspec": {
   "display_name": "base",
   "language": "python",
   "name": "python3"
  },
  "language_info": {
   "codemirror_mode": {
    "name": "ipython",
    "version": 3
   },
   "file_extension": ".py",
   "mimetype": "text/x-python",
   "name": "python",
   "nbconvert_exporter": "python",
   "pygments_lexer": "ipython3",
   "version": "3.11.4"
  }
 },
 "nbformat": 4,
 "nbformat_minor": 2
}
