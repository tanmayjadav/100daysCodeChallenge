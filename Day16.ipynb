{
 "cells": [
  {
   "cell_type": "code",
   "execution_count": 7,
   "metadata": {},
   "outputs": [
    {
     "data": {
      "text/plain": [
       "1"
      ]
     },
     "execution_count": 7,
     "metadata": {},
     "output_type": "execute_result"
    }
   ],
   "source": [
    "# Question find the matrix with higest sum consisting 1 and 0 \n",
    "\n",
    "#brute force solution require N*N time complexity\n",
    " \n",
    "mat = [[1, 0, 0], [0, 1, 1], [0, 0, 0]]\n",
    "n = 3\n",
    "m = 3\n",
    "mxsum=-1\n",
    "row = len(mat)\n",
    "for j in range(row):\n",
    "    sm = sum(mat[j])\n",
    "    if sm>mxsum:\n",
    "        ans = j\n",
    "        mxsum=sm\n",
    "ans"
   ]
  },
  {
   "cell_type": "code",
   "execution_count": 17,
   "metadata": {},
   "outputs": [
    {
     "data": {
      "text/plain": [
       "2"
      ]
     },
     "execution_count": 17,
     "metadata": {},
     "output_type": "execute_result"
    }
   ],
   "source": [
    "#If we were given that mat[row] is sorted then we could think to decrease time complexity by using binary search lower bound\n",
    "\n",
    "mat = [[0 ,0,1], [0, 1, 1,],[1, 1, 1], [0, 0, 0]]\n",
    "\n",
    "def getcount(arr):\n",
    "    low = 0\n",
    "    high = len(arr)-1\n",
    "    ans = -1\n",
    "    while low<=high:\n",
    "        mid = (low+high)//2\n",
    "        if arr[mid]>=1:\n",
    "            ans = mid\n",
    "            high = mid-1\n",
    "        else:\n",
    "            low = mid+1\n",
    "    return ans\n",
    "\n",
    "lowestIndex=len(mat[0])+1\n",
    "for i,row in enumerate(mat):\n",
    "    ind = getcount(row) \n",
    "    if ind != -1 and ind < lowestIndex:\n",
    "        lowestIndex = ind\n",
    "        ans = i\n",
    "ans"
   ]
  },
  {
   "cell_type": "code",
   "execution_count": 18,
   "metadata": {},
   "outputs": [
    {
     "name": "stdout",
     "output_type": "stream",
     "text": [
      "true\n"
     ]
    }
   ],
   "source": [
    "#Search in 2D matrixs\n",
    "\n",
    "def searchMatrix(matrix, target):\n",
    "    n = len(matrix)\n",
    "    m = len(matrix[0])\n",
    "\n",
    "    # apply binary search:\n",
    "    low = 0\n",
    "    high = n * m - 1\n",
    "    while low <= high:\n",
    "        mid = (low + high) // 2\n",
    "        row = mid // m\n",
    "        col = mid % m\n",
    "        if matrix[row][col] == target:\n",
    "            return True\n",
    "        elif matrix[row][col] < target:\n",
    "            low = mid + 1\n",
    "        else:\n",
    "            high = mid - 1\n",
    "    return False\n",
    "\n",
    "matrix = [[1, 2, 3, 4], [5, 6, 7, 8], [9, 10, 11, 12]]\n",
    "result = searchMatrix(matrix, 8)\n",
    "print(\"true\" if result else \"false\")\n",
    "\n"
   ]
  },
  {
   "cell_type": "code",
   "execution_count": 39,
   "metadata": {},
   "outputs": [
    {
     "name": "stdout",
     "output_type": "stream",
     "text": [
      "False\n"
     ]
    },
    {
     "data": {
      "text/plain": [
       "[]"
      ]
     },
     "execution_count": 39,
     "metadata": {},
     "output_type": "execute_result"
    }
   ],
   "source": [
    "#check is Parentthese valid or not\n",
    "\n",
    "# mostly this question feels like using stack\n",
    "#stack follows property of last in first out LIFO\n",
    "stack = []\n",
    "s = \"(()))\"\n",
    "\n",
    "for i in s:\n",
    "    if i == \"(\":\n",
    "        stack.append(i)\n",
    "    elif i==\")\":\n",
    "        if len(stack)!=0:\n",
    "            stack.pop()\n",
    "        else:\n",
    "            print(False)\n",
    "    # print(stack)    \n",
    "if len(stack)!=0:\n",
    "    print(False)\n",
    "stack"
   ]
  },
  {
   "cell_type": "code",
   "execution_count": 43,
   "metadata": {},
   "outputs": [
    {
     "data": {
      "text/plain": [
       "'()()()()(())'"
      ]
     },
     "execution_count": 43,
     "metadata": {},
     "output_type": "execute_result"
    }
   ],
   "source": [
    "#remove Outer parenthisese \n",
    "s = \"(()())(())(()(()))\"\n",
    "stack = []\n",
    "news=\"\"\n",
    "for i in range(len(s)):\n",
    "    if s[i]==\"(\":\n",
    "        if len(stack)==0:\n",
    "            stack.append(s[i])\n",
    "        else:\n",
    "            stack.append(s[i])\n",
    "            news+=s[i]\n",
    "    else:\n",
    "        if len(stack)==1:\n",
    "            stack.pop()\n",
    "        else:\n",
    "            news+=s[i]\n",
    "            stack.pop()\n",
    "news"
   ]
  },
  {
   "cell_type": "code",
   "execution_count": 7,
   "metadata": {},
   "outputs": [
    {
     "data": {
      "text/plain": [
       "'()()()'"
      ]
     },
     "execution_count": 7,
     "metadata": {},
     "output_type": "execute_result"
    }
   ],
   "source": [
    "def removeOuterParentheses(s):\n",
    "    res,opened=\"\", 0\n",
    "    for c in s:\n",
    "        if c==\"(\" and opened>0:\n",
    "            res+=c\n",
    "        if c==\")\" and opened>1:\n",
    "            res+=c   \n",
    "        opened+=1 if c==\"(\" else -1\n",
    "    return res\n",
    "\n",
    "removeOuterParentheses(\"(()())(())\")"
   ]
  },
  {
   "cell_type": "code",
   "execution_count": 9,
   "metadata": {},
   "outputs": [
    {
     "data": {
      "text/plain": [
       "'blue is sky the'"
      ]
     },
     "execution_count": 9,
     "metadata": {},
     "output_type": "execute_result"
    }
   ],
   "source": [
    "s = \"the sky is blue\"\n",
    "# # Output: \"blue is sky the\"\n",
    "# def reverser(st):\n",
    "#     return st[::-1]\n",
    "# ans=\"\"\n",
    "# begin=0\n",
    "# s = s[::-1]\n",
    "# print(s)\n",
    "# for i in range(len(s)):\n",
    "#     if s[i]==\" \" or i==len(s)-1:\n",
    "#         ans+=reverser(s[begin:i+1])\n",
    "#         begin=i\n",
    "s = s.split()     \n",
    "\" \".join(s[::-1])"
   ]
  },
  {
   "cell_type": "code",
   "execution_count": null,
   "metadata": {},
   "outputs": [],
   "source": [
    "# ends binary search "
   ]
  },
  {
   "cell_type": "code",
   "execution_count": null,
   "metadata": {},
   "outputs": [],
   "source": []
  }
 ],
 "metadata": {
  "kernelspec": {
   "display_name": "base",
   "language": "python",
   "name": "python3"
  },
  "language_info": {
   "codemirror_mode": {
    "name": "ipython",
    "version": 3
   },
   "file_extension": ".py",
   "mimetype": "text/x-python",
   "name": "python",
   "nbconvert_exporter": "python",
   "pygments_lexer": "ipython3",
   "version": "3.11.4"
  }
 },
 "nbformat": 4,
 "nbformat_minor": 2
}
