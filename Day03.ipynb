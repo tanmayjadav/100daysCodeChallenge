{
 "cells": [
  {
   "cell_type": "code",
   "execution_count": 22,
   "metadata": {},
   "outputs": [
    {
     "data": {
      "text/plain": [
       "{(1, 2, 3), (1, 3, 2), (2, 1, 3), (2, 3, 1), (3, 1, 2), (3, 2, 1)}"
      ]
     },
     "execution_count": 22,
     "metadata": {},
     "output_type": "execute_result"
    }
   ],
   "source": [
    "#Question 1 Next permutation \n",
    "\n",
    "#brute force approch\n",
    "\n",
    "arr = [3,2,1]  #=> [2,1,3] [2,3,1],[3,1,2],[3,2,1]\n",
    "\n",
    "ans = set()\n",
    "\n",
    "#first sort the array \n",
    "#then begin from end i and j till first and capture all possible permutations\n",
    "# here time is N^2 and space is N \n",
    "#now in order to find next permutation we need to traverse it again\n",
    "#with N*m complexity where m is length of array  \n",
    "\"\"\"Whole problem will require and then it N*M + N^2 and Space N\"\"\"\n",
    "k=0\n",
    "while k<len(arr)-1:\n",
    "    j=len(arr)-2\n",
    "    for i in range(len(arr)-1,-1,-1):\n",
    "        arr[i],arr[j] = arr[j],arr[i]\n",
    "        j-=1\n",
    "        ans.add(tuple(arr))\n",
    "    k+=1\n",
    "ans"
   ]
  },
  {
   "cell_type": "code",
   "execution_count": 1,
   "metadata": {},
   "outputs": [
    {
     "data": {
      "text/plain": [
       "[6, 12, 22]"
      ]
     },
     "execution_count": 1,
     "metadata": {},
     "output_type": "execute_result"
    }
   ],
   "source": [
    "#question 2 find leader Element \n",
    "\n",
    "arr = [10, 22, 12, 3, 0, 6]\n",
    "# arr = [4, 7, 1, 0]\n",
    "leader = [arr[-1]]\n",
    "mx = arr[-1]\n",
    "for i in range(len(arr)-2,-1,-1):\n",
    "    if arr[i]>mx:\n",
    "        mx=arr[i]\n",
    "        leader.append(arr[i])\n",
    "leader\n"
   ]
  },
  {
   "cell_type": "code",
   "execution_count": 55,
   "metadata": {},
   "outputs": [
    {
     "data": {
      "text/plain": [
       "[2, 1, 5]"
      ]
     },
     "execution_count": 55,
     "metadata": {},
     "output_type": "execute_result"
    }
   ],
   "source": [
    "#question 3 maximum sum subarray print \n",
    "# Now variation to this ques is to find that subarray\n",
    "\n",
    "arr = [-2,1,3,-4,-1,2,1,5] \n",
    "s = 0\n",
    "sm=0\n",
    "l = r = 0\n",
    "for i in range(len(arr)):\n",
    "    s+=arr[i]\n",
    "    if s>=sm:\n",
    "        sm=s\n",
    "        r=i+1\n",
    "        l=prev\n",
    "    if s<=0:\n",
    "        s=0\n",
    "        prev=i+1\n",
    "arr[l:r]"
   ]
  },
  {
   "cell_type": "code",
   "execution_count": 94,
   "metadata": {},
   "outputs": [
    {
     "data": {
      "text/plain": [
       "8"
      ]
     },
     "execution_count": 94,
     "metadata": {},
     "output_type": "execute_result"
    }
   ],
   "source": [
    "#question 4 Longest consecutive sequence in an array \n",
    "\n",
    "def longestConsecutive(nums):\n",
    "    hast={}\n",
    "    for i,n in enumerate(nums):\n",
    "        hast[n] = i\n",
    "    cnt=0\n",
    "    for i in nums:\n",
    "        if i-1 not in hast:\n",
    "            cur = i\n",
    "            curcnt = 1\n",
    "            while cur+1 in hast:\n",
    "                cur+=1\n",
    "                curcnt+=1\n",
    "            cnt = max(curcnt,cnt)\n",
    "    return cnt\n"
   ]
  },
  {
   "cell_type": "code",
   "execution_count": 100,
   "metadata": {},
   "outputs": [
    {
     "data": {
      "text/plain": [
       "[1, 2, 3, 4, 5]"
      ]
     },
     "execution_count": 100,
     "metadata": {},
     "output_type": "execute_result"
    }
   ],
   "source": [
    "#Question 5 rotate a matrix by 90 deg\n",
    "# \n",
    "# firstly you must know left Rotate a array by one\n",
    "\n",
    "arr = [1,2,3,4,5]  \n",
    "# output=[2,3,4,5,1]\n",
    "n=len(arr)\n",
    "j=0\n",
    "for i in range(1,n):\n",
    "    arr[i],arr[j]=arr[j],arr[i]\n",
    "    j+=1\n",
    "\n",
    "#rotate right \n",
    "j=len(arr)-1\n",
    "for i in range(n-2,-1,-1):\n",
    "    arr[i],arr[j]=arr[j],arr[i]\n",
    "    j-=1\n",
    "arr\n"
   ]
  },
  {
   "cell_type": "code",
   "execution_count": 101,
   "metadata": {},
   "outputs": [
    {
     "data": {
      "text/plain": [
       "'Now suppose it was left rotate instead of right then'"
      ]
     },
     "execution_count": 101,
     "metadata": {},
     "output_type": "execute_result"
    }
   ],
   "source": [
    "# now write a program to write K times [right rotate]\n",
    "k = 3\n",
    "arr = [1,2,3,4,5,6,7]\n",
    "# output=[5,6,7,1,2,3,4]\n",
    "\n",
    "#shortcut is \n",
    "# 1.k%n=k\n",
    "# 2.take first 0 to len(arr)-3-1 elem and second len(arr)-3 to len(arr)-1\n",
    "#              [1,2,3,4]                         [5,6,7]\n",
    "#3.swap there locations and jus join [5,6,7][1,2,3,4] and here is your ans\n",
    "\n",
    "\"\"\"Now suppose it was left rotate instead of right then\"\"\"\n",
    "# output=[7,6,5,1,2,3,4] then it would seem like this \n",
    "\n",
    "# so for that same steps till 2 and after that \n",
    "# 3. before swapping take the second part and reverse it \n",
    "    \n",
    "# 4. then swap loction and join"
   ]
  },
  {
   "cell_type": "code",
   "execution_count": 119,
   "metadata": {},
   "outputs": [
    {
     "data": {
      "text/plain": [
       "[[7, 4, 1], [8, 5, 2], [9, 6, 3]]"
      ]
     },
     "execution_count": 119,
     "metadata": {},
     "output_type": "execute_result"
    }
   ],
   "source": [
    "#Now for the actuals rotate a matrix by 90 deg\n",
    "#question 6 \n",
    "\n",
    "mat= [[1,2,3],\n",
    "      [4,5,6],\n",
    "      [7,8,9]]\n",
    "# Output:[[7,4,1],\n",
    "#         [8,5,2],\n",
    "#         [9,6,3]]\n",
    "\n",
    "#here its just transpose of the matrix and reverse it dirrection\n",
    "#find transpose of matrix\n",
    "N = len(mat)\n",
    "for i in range(N):\n",
    "    for j in range(i,N):\n",
    "        mat[i][j],mat[j][i] = mat[j][i],mat[i][j]\n",
    "\n",
    "for i in mat:\n",
    "    i.reverse()\n",
    "mat"
   ]
  },
  {
   "cell_type": "code",
   "execution_count": null,
   "metadata": {},
   "outputs": [],
   "source": []
  }
 ],
 "metadata": {
  "kernelspec": {
   "display_name": "base",
   "language": "python",
   "name": "python3"
  },
  "language_info": {
   "codemirror_mode": {
    "name": "ipython",
    "version": 3
   },
   "file_extension": ".py",
   "mimetype": "text/x-python",
   "name": "python",
   "nbconvert_exporter": "python",
   "pygments_lexer": "ipython3",
   "version": "3.11.4"
  }
 },
 "nbformat": 4,
 "nbformat_minor": 2
}
