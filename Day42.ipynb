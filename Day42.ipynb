{
 "cells": [
  {
   "cell_type": "code",
   "execution_count": 8,
   "metadata": {},
   "outputs": [
    {
     "name": "stdout",
     "output_type": "stream",
     "text": [
      "ABC\n",
      "ABC_\n",
      "A_BC\n",
      "A_B_C\n"
     ]
    }
   ],
   "source": [
    "#permutation spaces\n",
    "st = \"ABC\"\n",
    "\n",
    "def solved(s,ind,n):\n",
    "    if ind==n:\n",
    "        print(s)\n",
    "        return\n",
    "    solved(s,ind+2,n)\n",
    "    s = s[:ind]+\"_\"+s[ind:]\n",
    "    solved(s,ind+2,n)\n",
    "\n",
    "n = (len(st)*2)-1\n",
    "solved(st,1,n)"
   ]
  },
  {
   "cell_type": "code",
   "execution_count": 15,
   "metadata": {},
   "outputs": [
    {
     "name": "stdout",
     "output_type": "stream",
     "text": [
      "ABC\n",
      "AB_C\n",
      "A_BC\n",
      "A_B_C\n"
     ]
    }
   ],
   "source": [
    "def solved(s,ind,pat,n):\n",
    "    if ind==n:\n",
    "        print(pat)\n",
    "        return\n",
    "    solved(s,ind+1,pat+s[ind],n)\n",
    "    if ind<n-1: \n",
    "        solved(s,ind+1,pat+s[ind]+\"_\",n)\n",
    "\n",
    "solved(\"ABC\",0,\"\",len(\"ABC\"))"
   ]
  },
  {
   "cell_type": "code",
   "execution_count": 17,
   "metadata": {},
   "outputs": [
    {
     "name": "stdout",
     "output_type": "stream",
     "text": [
      "abc\n",
      "abC\n",
      "aBc\n",
      "aBC\n",
      "Abc\n",
      "AbC\n",
      "ABc\n",
      "ABC\n"
     ]
    }
   ],
   "source": [
    "#print all Upper lowe case possiblity \n",
    "\n",
    "S = \"abc\"\n",
    "n = len(S)\n",
    "\n",
    "def cases(ind,st):\n",
    "    if ind==n:\n",
    "        print(st)\n",
    "        return \n",
    "    cases(ind+1,st)\n",
    "    st = st[:ind]+st[ind].upper()+st[ind+1:]\n",
    "    cases(ind+1,st)\n",
    "\n",
    "cases(0,S)"
   ]
  },
  {
   "cell_type": "code",
   "execution_count": 21,
   "metadata": {},
   "outputs": [
    {
     "name": "stdout",
     "output_type": "stream",
     "text": [
      "a1b2\n",
      "a1B2\n",
      "A1b2\n",
      "A1B2\n"
     ]
    }
   ],
   "source": [
    "#now what if there is numbers also added in between /\n",
    "# so in that case your when a number is encounter your tree is supposed to be go flat pos single step\n",
    "S = \"a1B2\"\n",
    "n = len(S)\n",
    "\n",
    "def solved(ind,st):\n",
    "    if ind==n:\n",
    "        print(st)\n",
    "        return \n",
    "    x = S[ind]\n",
    "    if x.isnumeric():\n",
    "        solved(ind+1,st+x)\n",
    "    else:\n",
    "        solved(ind+1,st+x.lower())\n",
    "        solved(ind+1,st+x.upper())\n",
    "\n",
    "solved(0,\"\")"
   ]
  },
  {
   "cell_type": "code",
   "execution_count": null,
   "metadata": {},
   "outputs": [],
   "source": []
  }
 ],
 "metadata": {
  "kernelspec": {
   "display_name": "base",
   "language": "python",
   "name": "python3"
  },
  "language_info": {
   "codemirror_mode": {
    "name": "ipython",
    "version": 3
   },
   "file_extension": ".py",
   "mimetype": "text/x-python",
   "name": "python",
   "nbconvert_exporter": "python",
   "pygments_lexer": "ipython3",
   "version": "3.11.4"
  }
 },
 "nbformat": 4,
 "nbformat_minor": 2
}
