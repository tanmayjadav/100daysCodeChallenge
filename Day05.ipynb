{
 "cells": [
  {
   "cell_type": "code",
   "execution_count": 4,
   "metadata": {},
   "outputs": [
    {
     "data": {
      "text/plain": [
       "'optimal solution alert'"
      ]
     },
     "execution_count": 4,
     "metadata": {},
     "output_type": "execute_result"
    }
   ],
   "source": [
    "#Question 1 Next Permutation \n",
    "arr = [1,4,5,3,2]\n",
    "arr2 = [1,5,4,3,9,6,2] #1 5 4 6 2 3 9\n",
    "\"\"\"optimal solution alert\"\"\"\n",
    "#here in simple language we have to find the element from right which is smaller than previous elements \n",
    "# so here in our case 2 6 9 is in increasing and that first element is 3 \n",
    "# 1 5 4 3 9 6 2\n",
    "#       i              #now we have to find next element from right which is greater than 3 but first greater than i\n",
    "#           j          #as here 9 is also greater but first greater is 6 so we will keep pointer j at 6  \n",
    "#Now swap i and j \n",
    "# 1 5 4 6 9 3 2   \n",
    "#       i              #now from i to last reverse the order so that our output will be [1 5 4 6 2 3 9]\n",
    "# [1 5 4 6 2 3 9]"
   ]
  },
  {
   "cell_type": "code",
   "execution_count": 6,
   "metadata": {},
   "outputs": [
    {
     "data": {
      "text/plain": [
       "[1, 5, 2, 3, 4]"
      ]
     },
     "execution_count": 6,
     "metadata": {},
     "output_type": "execute_result"
    }
   ],
   "source": [
    "def perm(arr):\n",
    "    n = len(arr)\n",
    "    i = n-1\n",
    "    while arr[i-1]>arr[i]:\n",
    "        i-=1\n",
    "    i-=1\n",
    "    j = n-1\n",
    "    while arr[j]<arr[i]:\n",
    "        j-=1\n",
    "    arr[i],arr[j]=arr[j],arr[i]\n",
    "    \n",
    "    i+=1\n",
    "    j=n-1\n",
    "    while i<=j:\n",
    "        arr[i],arr[j]=arr[j],arr[i]\n",
    "        i+=1\n",
    "        j-=1\n",
    "    return arr\n",
    "perm(arr)\n"
   ]
  },
  {
   "cell_type": "code",
   "execution_count": 26,
   "metadata": {},
   "outputs": [
    {
     "name": "stdout",
     "output_type": "stream",
     "text": [
      "9 2\n"
     ]
    },
    {
     "data": {
      "text/plain": [
       "[1, 5, 4, 6, 2, 3, 9]"
      ]
     },
     "execution_count": 26,
     "metadata": {},
     "output_type": "execute_result"
    }
   ],
   "source": [
    "arr2 = [1,5,4,3,9,6,2] \n",
    "\n",
    "def nextPermutation(arr):\n",
    "    n = len(arr)\n",
    "    if n<=1:\n",
    "        return \n",
    "    i = n-2\n",
    "    while i>=0 and arr[i]>arr[i+1]:\n",
    "        i-=1\n",
    "        j = n-1\n",
    "        while arr[j]<arr[i]:\n",
    "            j-=1\n",
    "    arr[i],arr[j]=arr[j],arr[i]\n",
    "    i+=1\n",
    "    j=n-1\n",
    "    print(arr[i],arr[j])\n",
    "    while i<=j:\n",
    "        arr[i],arr[j]=arr[j],arr[i]\n",
    "        j-=1\n",
    "        i+=1\n",
    "    return arr\n",
    "\n",
    "nextPermutation(arr2)\n"
   ]
  },
  {
   "cell_type": "code",
   "execution_count": 30,
   "metadata": {},
   "outputs": [
    {
     "data": {
      "text/plain": [
       "[12, 1, 3, 0, 0]"
      ]
     },
     "execution_count": 30,
     "metadata": {},
     "output_type": "execute_result"
    }
   ],
   "source": [
    "#question 2 \n",
    "#move zero's to the end \n",
    "nums = [0,1,0,3,12]\n",
    "n=len(nums)\n",
    "l,r = 0,n-1\n",
    "\n",
    "while l<r:\n",
    "    if nums[l]==0:\n",
    "        nums[l],nums[r]=nums[r],nums[l]\n",
    "        r-=1\n",
    "    l+=1\n",
    "nums"
   ]
  },
  {
   "cell_type": "code",
   "execution_count": 3,
   "metadata": {},
   "outputs": [
    {
     "data": {
      "text/plain": [
       "[1, 3, 12, 0, 0]"
      ]
     },
     "execution_count": 3,
     "metadata": {},
     "output_type": "execute_result"
    }
   ],
   "source": [
    "nums = [0,1,0,3,12]\n",
    "l = 0\n",
    "for i in range(len(nums)):\n",
    "    if nums[i] != 0:\n",
    "        nums[l],nums[i] = nums[i],nums[l]\n",
    "        l+=1\n",
    "nums"
   ]
  },
  {
   "cell_type": "code",
   "execution_count": 35,
   "metadata": {},
   "outputs": [
    {
     "data": {
      "text/plain": [
       "[1, 1, 3, 12, 0, 0, 0, 0]"
      ]
     },
     "execution_count": 35,
     "metadata": {},
     "output_type": "execute_result"
    }
   ],
   "source": [
    "#now here in the above code the problem is that we are messing with the order \n",
    "nums = [1,0,1,0,0,0,3,12]\n",
    "n=len(nums)\n",
    "l,r=0,0\n",
    "while l<n:\n",
    "    if nums[l]!=0:\n",
    "        nums[l],nums[r]=nums[r],nums[l]\n",
    "        r+=1\n",
    "    l+=1\n",
    "nums\n"
   ]
  },
  {
   "cell_type": "code",
   "execution_count": 39,
   "metadata": {},
   "outputs": [
    {
     "data": {
      "text/plain": [
       "2"
      ]
     },
     "execution_count": 39,
     "metadata": {},
     "output_type": "execute_result"
    }
   ],
   "source": [
    "#question 3 find longest subarray sum k \n",
    "arr=[2,3,5,1,9]\n",
    "# arr2=[2,3,5]\n",
    "k = 10\n",
    "#first brute force\n",
    "n=len(arr)\n",
    "cnt=0\n",
    "for i in range(n):\n",
    "    c=0\n",
    "    s=0\n",
    "    for j in range(i,n):\n",
    "        s +=arr[j]\n",
    "        c+=1\n",
    "        if s==k:\n",
    "            cnt = max(c,cnt)\n",
    "        if s>k:\n",
    "            break\n",
    "cnt"
   ]
  },
  {
   "cell_type": "code",
   "execution_count": 11,
   "metadata": {},
   "outputs": [
    {
     "data": {
      "text/plain": [
       "2"
      ]
     },
     "execution_count": 11,
     "metadata": {},
     "output_type": "execute_result"
    }
   ],
   "source": [
    "#now better solution \n",
    "arr=[2,3,5]\n",
    "n=len(arr)\n",
    "k=5\n",
    "cnt=c=s=l=r=0\n",
    "while r<n and l<n:\n",
    "    s+=arr[r]\n",
    "    c+=1\n",
    "    if s==k:\n",
    "        cnt=max(cnt,c)\n",
    "    elif s>k:\n",
    "        s-=arr[l]\n",
    "        l+=1\n",
    "        c-=1\n",
    "    elif s<k:\n",
    "        r+=1\n",
    "    else:\n",
    "        break\n",
    "\n",
    "#but what if in the question what if it contains negative element too\n",
    "cnt"
   ]
  },
  {
   "cell_type": "code",
   "execution_count": null,
   "metadata": {},
   "outputs": [],
   "source": []
  }
 ],
 "metadata": {
  "kernelspec": {
   "display_name": "base",
   "language": "python",
   "name": "python3"
  },
  "language_info": {
   "codemirror_mode": {
    "name": "ipython",
    "version": 3
   },
   "file_extension": ".py",
   "mimetype": "text/x-python",
   "name": "python",
   "nbconvert_exporter": "python",
   "pygments_lexer": "ipython3",
   "version": "3.11.4"
  }
 },
 "nbformat": 4,
 "nbformat_minor": 2
}
