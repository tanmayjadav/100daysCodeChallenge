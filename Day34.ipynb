{
 "cells": [
  {
   "cell_type": "code",
   "execution_count": 1,
   "metadata": {},
   "outputs": [
    {
     "name": "stdout",
     "output_type": "stream",
     "text": [
      "11111\n",
      "11110\n",
      "11101\n",
      "11100\n",
      "11011\n",
      "11010\n",
      "11001\n",
      "10111\n",
      "10110\n",
      "10101\n"
     ]
    }
   ],
   "source": [
    "#n digit Binary #1010\n",
    "\n",
    "def binarys(cur,ones,zeros,n):\n",
    "    if n==0:\n",
    "        print(cur)\n",
    "        return \n",
    "    binarys(cur+\"1\",ones+1,zeros,n-1)\n",
    "    if ones>zeros:\n",
    "        binarys(cur+\"0\",ones,zeros+1,n-1)    \n",
    "\n",
    "n = 5\n",
    "binarys(\"\",0,0,n)"
   ]
  },
  {
   "cell_type": "code",
   "execution_count": 3,
   "metadata": {},
   "outputs": [
    {
     "name": "stdout",
     "output_type": "stream",
     "text": [
      "111\n",
      "110\n",
      "101\n"
     ]
    }
   ],
   "source": [
    "# 1. find sum of all elements in array recurssive\n",
    "# 2. calculate the product of all elements in an array \n",
    "# 3. find the maximumum element in an array recursively \n",
    "# 4. find minimum elmement in array \n",
    "# 5. count the occurrences of the specific element in array \n",
    "# 6. reverse the element of an array recursivly\n",
    "# 7. check if an array sorted recurscvly\n",
    "# 8. search for a specific element (binary search)\n",
    "# 9. merge sort \n",
    "# 10. quick sort \n",
    "# 11. check if an array a palindrome \n",
    "# 13. rotate an array to left and right recursivly\n",
    "# 14.check if array contains duplicate element recursivly\n",
    "# 15. find kth smallest element in an array\n",
    "# 16. find the freq of each elemnet in an array\n",
    "# 17.remove duplicates recusivly\n",
    "# 19. find ll subsets\n",
    "# 20. check if array is substring or not"
   ]
  },
  {
   "cell_type": "code",
   "execution_count": null,
   "metadata": {},
   "outputs": [],
   "source": []
  }
 ],
 "metadata": {
  "kernelspec": {
   "display_name": "base",
   "language": "python",
   "name": "python3"
  },
  "language_info": {
   "codemirror_mode": {
    "name": "ipython",
    "version": 3
   },
   "file_extension": ".py",
   "mimetype": "text/x-python",
   "name": "python",
   "nbconvert_exporter": "python",
   "pygments_lexer": "ipython3",
   "version": "3.11.4"
  }
 },
 "nbformat": 4,
 "nbformat_minor": 2
}
