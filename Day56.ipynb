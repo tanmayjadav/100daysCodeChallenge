{
 "cells": [
  {
   "cell_type": "code",
   "execution_count": 13,
   "metadata": {},
   "outputs": [
    {
     "name": "stdout",
     "output_type": "stream",
     "text": [
      "[10, 6, 12]\n",
      "[10, 6, -132]\n",
      "[10, 0]\n",
      "[0]\n",
      "[17]\n",
      "[22]\n",
      "22\n"
     ]
    }
   ],
   "source": [
    "#reverse polish notations \n",
    "tokens = [\"10\",\"6\",\"9\",\"3\",\"+\",\"-11\",\"*\",\"/\",\"*\",\"17\",\"+\",\"5\",\"+\"] \n",
    "stack = []\n",
    "for i in tokens:\n",
    "    if i not in [\"+\",\"-\",\"*\",\"/\"]:\n",
    "        stack.append(int(i))\n",
    "    else:\n",
    "        if len(stack)<2:\n",
    "            print(\"from here\")\n",
    "            break \n",
    "        b = stack.pop() \n",
    "        a = stack.pop()\n",
    "        if i == \"+\":\n",
    "            stack.append(a+b)\n",
    "        elif i == \"-\":\n",
    "            stack.append(a-b)\n",
    "        elif i == \"*\":\n",
    "            stack.append(a*b)\n",
    "        elif i == \"/\":\n",
    "            stack.append(int(a/b))\n",
    "        print(stack)\n",
    "print(stack[-1])\n"
   ]
  },
  {
   "cell_type": "code",
   "execution_count": 9,
   "metadata": {},
   "outputs": [
    {
     "data": {
      "text/plain": [
       "-100"
      ]
     },
     "execution_count": 9,
     "metadata": {},
     "output_type": "execute_result"
    }
   ],
   "source": []
  },
  {
   "cell_type": "code",
   "execution_count": null,
   "metadata": {},
   "outputs": [],
   "source": []
  }
 ],
 "metadata": {
  "kernelspec": {
   "display_name": "base",
   "language": "python",
   "name": "python3"
  },
  "language_info": {
   "codemirror_mode": {
    "name": "ipython",
    "version": 3
   },
   "file_extension": ".py",
   "mimetype": "text/x-python",
   "name": "python",
   "nbconvert_exporter": "python",
   "pygments_lexer": "ipython3",
   "version": "3.11.4"
  }
 },
 "nbformat": 4,
 "nbformat_minor": 2
}
