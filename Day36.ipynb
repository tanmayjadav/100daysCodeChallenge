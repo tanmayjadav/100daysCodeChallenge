{
 "cells": [
  {
   "cell_type": "code",
   "execution_count": 7,
   "metadata": {},
   "outputs": [
    {
     "name": "stdout",
     "output_type": "stream",
     "text": [
      "((()))\n",
      "(()())\n",
      "(())()\n",
      "()(())\n",
      "()()()\n"
     ]
    }
   ],
   "source": [
    "#generate paranthisis\n",
    "# ((()))\n",
    "# (()())\n",
    "# (())()\n",
    "# ()(())\n",
    "# ()()()\n",
    "\n",
    "n= 3    \n",
    "def solved(o,c,pat):\n",
    "    if o==c and c==n:\n",
    "        print(pat)\n",
    "        return \n",
    "    if o<n:\n",
    "        solved(o+1,c,pat+\"(\")\n",
    "    if c<o:\n",
    "        solved(o,c+1,pat+\")\")\n",
    "    \n",
    "solved(0,0,\"\")\n"
   ]
  },
  {
   "cell_type": "code",
   "execution_count": 4,
   "metadata": {},
   "outputs": [
    {
     "name": "stdout",
     "output_type": "stream",
     "text": [
      "((()))\n",
      "(()())\n",
      "(())()\n",
      "()(())\n",
      "()()()\n"
     ]
    }
   ],
   "source": [
    "n = 3\n",
    "\n",
    "def solved(o, c, pat):\n",
    "    if o == c and c == n:\n",
    "        print(pat)\n",
    "        return\n",
    "    if o < n:\n",
    "        solved(o + 1, c, pat + \"(\")\n",
    "    if c < o:  # This condition was flipped\n",
    "        solved(o, c + 1, pat + \")\")  # Corrected the order of arguments\n",
    "\n",
    "solved(0, 0, \"\")"
   ]
  },
  {
   "cell_type": "code",
   "execution_count": null,
   "metadata": {},
   "outputs": [],
   "source": []
  }
 ],
 "metadata": {
  "kernelspec": {
   "display_name": "base",
   "language": "python",
   "name": "python3"
  },
  "language_info": {
   "codemirror_mode": {
    "name": "ipython",
    "version": 3
   },
   "file_extension": ".py",
   "mimetype": "text/x-python",
   "name": "python",
   "nbconvert_exporter": "python",
   "pygments_lexer": "ipython3",
   "version": "3.11.4"
  }
 },
 "nbformat": 4,
 "nbformat_minor": 2
}
