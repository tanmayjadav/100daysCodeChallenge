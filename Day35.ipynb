{
 "cells": [
  {
   "cell_type": "code",
   "execution_count": 26,
   "metadata": {},
   "outputs": [
    {
     "name": "stdout",
     "output_type": "stream",
     "text": [
      "ABC\n",
      "ABC_\n",
      "A_BC\n",
      "A_B_C\n"
     ]
    }
   ],
   "source": [
    "#print spacees between \n",
    "S = \"ABC\"\n",
    "# output=\n",
    "# ABC\n",
    "# AB C\n",
    "# A BC\n",
    "# A B C\n",
    "n = (len(S)*2)-1\n",
    "def select(ind,st,n):\n",
    "    if ind==n:\n",
    "        print(st)\n",
    "        return \n",
    "    select(ind+2,st,n)\n",
    "    st = st[:ind]+\"_\"+st[ind:]\n",
    "    select(ind+2,st,n)\n",
    "select(1,S,n)"
   ]
  },
  {
   "cell_type": "code",
   "execution_count": 25,
   "metadata": {},
   "outputs": [
    {
     "name": "stdout",
     "output_type": "stream",
     "text": [
      "_C\n",
      "A\n"
     ]
    }
   ],
   "source": []
  },
  {
   "cell_type": "code",
   "execution_count": null,
   "metadata": {},
   "outputs": [],
   "source": []
  }
 ],
 "metadata": {
  "kernelspec": {
   "display_name": "base",
   "language": "python",
   "name": "python3"
  },
  "language_info": {
   "codemirror_mode": {
    "name": "ipython",
    "version": 3
   },
   "file_extension": ".py",
   "mimetype": "text/x-python",
   "name": "python",
   "nbconvert_exporter": "python",
   "pygments_lexer": "ipython3",
   "version": "3.11.4"
  }
 },
 "nbformat": 4,
 "nbformat_minor": 2
}
