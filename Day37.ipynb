{
 "cells": [
  {
   "cell_type": "code",
   "execution_count": 25,
   "metadata": {},
   "outputs": [
    {
     "data": {
      "text/plain": [
       "['aaac', 'aaca', 'acaa', 'caaa']"
      ]
     },
     "execution_count": 25,
     "metadata": {},
     "output_type": "execute_result"
    }
   ],
   "source": [
    "#print the permutation of \"abc\"\n",
    "s = \"aaac\"\n",
    "#output = [abc,cba,acb,cab,bca,acb]\n",
    "ans=[]\n",
    "def solve(op,ip,n): \n",
    "    if len(op)==n:\n",
    "        ans.append(op)\n",
    "        return\n",
    "    check = {}\n",
    "    for i in range(len(ip)):\n",
    "        if ip[i] not in check:\n",
    "            check[ip[i]] = True\n",
    "            solve(op + ip[i], ip[:i] + ip[i+1:], n)\n",
    "solve(\"\",s,len(s))\n",
    "ans"
   ]
  },
  {
   "cell_type": "code",
   "execution_count": 28,
   "metadata": {},
   "outputs": [
    {
     "name": "stdout",
     "output_type": "stream",
     "text": [
      "['abc', 'acb', 'bac', 'bca', 'cba', 'cab']\n"
     ]
    }
   ],
   "source": [
    "s = \"abc\"\n",
    "ans = []\n",
    "\n",
    "def solve(st, ind, n):\n",
    "    if ind == n:\n",
    "        ans.append(''.join(st))  # Convert list to string before appending\n",
    "        return\n",
    "    for i in range(ind, n):\n",
    "        st[ind], st[i] = st[i], st[ind]  # Swap characters\n",
    "        solve(st, ind + 1, n)  # Recur for next index\n",
    "        st[ind], st[i] = st[i], st[ind]  # Backtrack\n",
    "\n",
    "solve(list(s), 0, len(s))  # Convert string to list for swapping\n",
    "print(ans)\n"
   ]
  },
  {
   "cell_type": "code",
   "execution_count": 4,
   "metadata": {},
   "outputs": [
    {
     "name": "stdout",
     "output_type": "stream",
     "text": [
      "['caa', 'caa', 'aac', 'aca', 'aca', 'aac']\n"
     ]
    }
   ],
   "source": [
    "s = \"aac\"\n",
    "ans = []\n",
    "\n",
    "def solve(st, start, n):\n",
    "    if start == n:\n",
    "        ans.append(''.join(st))\n",
    "        return \n",
    "    check = {}\n",
    "    for i in range(start,n):\n",
    "        if st[i] not in check:\n",
    "            check[st[i]] = 1\n",
    "            st[n-1], st[i] = st[i], st[n-1]\n",
    "            solve(st, start + 1, n)\n",
    "            st[n-1], st[i] = st[i], st[n-1]\n",
    "            check.pop(st[i])\n",
    "\n",
    "solve(list(s), 0, len(s))\n",
    "print(ans)\n",
    "\n",
    "\n",
    "#just store it in a list bc"
   ]
  },
  {
   "cell_type": "code",
   "execution_count": null,
   "metadata": {},
   "outputs": [],
   "source": []
  }
 ],
 "metadata": {
  "kernelspec": {
   "display_name": "base",
   "language": "python",
   "name": "python3"
  },
  "language_info": {
   "codemirror_mode": {
    "name": "ipython",
    "version": 3
   },
   "file_extension": ".py",
   "mimetype": "text/x-python",
   "name": "python",
   "nbconvert_exporter": "python",
   "pygments_lexer": "ipython3",
   "version": "3.11.4"
  }
 },
 "nbformat": 4,
 "nbformat_minor": 2
}
