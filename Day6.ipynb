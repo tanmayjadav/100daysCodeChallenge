{
 "cells": [
  {
   "cell_type": "code",
   "execution_count": 10,
   "metadata": {},
   "outputs": [
    {
     "data": {
      "text/plain": [
       "36"
      ]
     },
     "execution_count": 10,
     "metadata": {},
     "output_type": "execute_result"
    }
   ],
   "source": [
    "#Maximum product subarray \n",
    "arr = [1,6,-2,-3,0,5,-2]\n",
    "mx = 0\n",
    "pre = suf = 1\n",
    "n = len(arr)\n",
    "for i in range(n):\n",
    "    pre *=arr[i]\n",
    "    suf *=arr[n-i-1]\n",
    "    if pre==0:\n",
    "        pre = 1\n",
    "    elif suf==0:\n",
    "        suf = 1\n",
    "    if pre>mx or suf>mx:\n",
    "        mx = max(pre,suf)\n",
    "mx"
   ]
  },
  {
   "cell_type": "code",
   "execution_count": null,
   "metadata": {},
   "outputs": [],
   "source": []
  }
 ],
 "metadata": {
  "kernelspec": {
   "display_name": "base",
   "language": "python",
   "name": "python3"
  },
  "language_info": {
   "codemirror_mode": {
    "name": "ipython",
    "version": 3
   },
   "file_extension": ".py",
   "mimetype": "text/x-python",
   "name": "python",
   "nbconvert_exporter": "python",
   "pygments_lexer": "ipython3",
   "version": "3.11.4"
  }
 },
 "nbformat": 4,
 "nbformat_minor": 2
}
