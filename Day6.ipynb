{
 "cells": [
  {
   "cell_type": "code",
   "execution_count": 10,
   "metadata": {},
   "outputs": [
    {
     "data": {
      "text/plain": [
       "36"
      ]
     },
     "execution_count": 10,
     "metadata": {},
     "output_type": "execute_result"
    }
   ],
   "source": [
    "#Question 1 Maximum product subarray \n",
    "arr = [1,6,-2,-3,0,5,-2]\n",
    "mx = 0\n",
    "pre = suf = 1\n",
    "n = len(arr)\n",
    "for i in range(n):\n",
    "    pre *=arr[i]\n",
    "    suf *=arr[n-i-1]\n",
    "    if pre==0:\n",
    "        pre = 1\n",
    "    elif suf==0:\n",
    "        suf = 1\n",
    "    if pre>mx or suf>mx:\n",
    "        mx = max(pre,suf)\n",
    "mx"
   ]
  },
  {
   "cell_type": "code",
   "execution_count": 12,
   "metadata": {},
   "outputs": [
    {
     "data": {
      "text/plain": [
       "6"
      ]
     },
     "execution_count": 12,
     "metadata": {},
     "output_type": "execute_result"
    }
   ],
   "source": [
    "#Question 2 find longest subarray sum k with negatives \n",
    "\n",
    "\"\"\"Optimal solution\"\"\"\n",
    "\n",
    "arr = [-1, 0, 1, 1, -1, -1, 0]\n",
    "k = 0\n",
    "n = len(arr)\n",
    "freq = {}\n",
    "cnt = 0\n",
    "sm = 0\n",
    "\n",
    "for i in range(n):\n",
    "    sm += arr[i]    \n",
    "    if sm == k:\n",
    "        cnt = i + 1\n",
    "    if sm - k in freq:\n",
    "        cnt = max(cnt, i - freq[sm - k])\n",
    "    if sm not in freq:\n",
    "        freq[sm] = i\n",
    "cnt"
   ]
  },
  {
   "cell_type": "code",
   "execution_count": 30,
   "metadata": {},
   "outputs": [],
   "source": [
    "#Question 3 pascal's triangle \n",
    "numRows = 5\n",
    "#    [[1],\n",
    "#    [1,1],\n",
    "#   [1,2,1],\n",
    "#  [1,3,3,1],\n",
    "# [1,4,6,4,1]]"
   ]
  },
  {
   "cell_type": "code",
   "execution_count": 31,
   "metadata": {},
   "outputs": [
    {
     "data": {
      "text/plain": [
       "[[1], [1, 1], [1, 2, 1], [1, 3, 3, 1], [1, 4, 6, 4, 1]]"
      ]
     },
     "execution_count": 31,
     "metadata": {},
     "output_type": "execute_result"
    }
   ],
   "source": [
    "arr = [[1 for j in range(i+1)] for i in range(numRows)]\n",
    "\n",
    "for i in range(1,numRows):\n",
    "    for j in range(1,i):\n",
    "        arr[i][j] = arr[i-1][j-1]+arr[i-1][j]\n",
    "arr"
   ]
  },
  {
   "cell_type": "code",
   "execution_count": 36,
   "metadata": {},
   "outputs": [
    {
     "data": {
      "text/plain": [
       "3"
      ]
     },
     "execution_count": 36,
     "metadata": {},
     "output_type": "execute_result"
    }
   ],
   "source": [
    "# majority element in array where x appear more than len(arr)//3 times\n",
    "\n",
    "nums = [3,2,3,2,3]\n",
    "#firstly find majority element\n",
    "n=len(nums)\n",
    "c = 0\n",
    "ele = nums[0]\n",
    "for i in range(n):\n",
    "    if nums[i]==ele:\n",
    "        c+=1\n",
    "    else:\n",
    "        c-=1\n",
    "    # print(c)\n",
    "    if c==0:\n",
    "        ele=nums[i]\n",
    "        c+=1\n",
    "ele"
   ]
  },
  {
   "cell_type": "code",
   "execution_count": 38,
   "metadata": {},
   "outputs": [],
   "source": [
    "#now modify the above to find element which is occures more than len//3 times\n",
    "\n",
    "#now as we can't use above method for the same but we can find the two most frequent element by above method and later compare boths occurance and give answeer\n",
    "#and here we have to return 2 elements if two elements are greater than \n",
    "arr = [2,3,4,4,3,3,4,2,4,3]\n",
    "arr = [4,4,4,3,2,5,6]\n",
    "c1=c2=0\n",
    "ele1,ele2 = arr[0],arr[1]\n",
    "n=len(arr)\n",
    "for i in range(n-1):\n",
    "    if ele1==arr[i]:\n",
    "        c1+=1\n",
    "    elif ele2==arr[i]:\n",
    "        c2+=1\n",
    "    elif c1==0:\n",
    "        ele1=arr[i]\n",
    "        c1+=1\n",
    "    elif c2==0:\n",
    "        ele2=arr[i]\n",
    "        c2+=1\n",
    "    else:\n",
    "        c1-=1\n",
    "        c2-=1  "
   ]
  },
  {
   "cell_type": "code",
   "execution_count": 39,
   "metadata": {},
   "outputs": [],
   "source": [
    "#questions is 3 sum problem \n",
    "arr = [-1,0,1,2,1,-4]\n",
    "# [[-1,-1,2],[-1,0,1]]\n"
   ]
  },
  {
   "cell_type": "code",
   "execution_count": 64,
   "metadata": {},
   "outputs": [
    {
     "data": {
      "text/plain": [
       "[0, 2]"
      ]
     },
     "execution_count": 64,
     "metadata": {},
     "output_type": "execute_result"
    }
   ],
   "source": [
    "#firstly write 2 sum problem  \n",
    "# with slight variation to it as input array is given as sorted form \n",
    "# arr=[2,7,11,15]\n",
    "arr =[2,3,4]\n",
    "k=6\n",
    "# k = 9\n",
    "def sum2variation(arr,k):\n",
    "    l,r = 0,1\n",
    "    while l<r:\n",
    "        sm = arr[l]+arr[r]\n",
    "        if sm>k:\n",
    "            l+=1\n",
    "        elif sm<k:\n",
    "            r+=1\n",
    "        else:\n",
    "            return [l,r]\n",
    "sum2variation(arr,k)"
   ]
  },
  {
   "cell_type": "code",
   "execution_count": 79,
   "metadata": {},
   "outputs": [
    {
     "data": {
      "text/plain": [
       "{0}"
      ]
     },
     "execution_count": 79,
     "metadata": {},
     "output_type": "execute_result"
    }
   ],
   "source": [
    "#now 3sum problem\n",
    "arr = [-1,0,1,2,1,-4]\n",
    "# [[-1,-1,2],[-1,0,1]]\n",
    "ans=set()\n",
    "def sum3(arr):\n",
    "    arr.sort()\n",
    "    for i in range(len(arr)):\n",
    "        if arr[i]==arr[i-1] and i>0:\n",
    "            continue\n",
    "        l=i+1\n",
    "        r=len(arr)-1\n",
    "        while l<r:\n",
    "            sm=arr[i]+arr[l]+arr[r]    \n",
    "            if sm==0:\n",
    "                ans.add(arr[i]+arr[l]+arr[r])\n",
    "                l+=1\n",
    "                while arr[l]==arr[l-1] and l<r:\n",
    "                    l+=1\n",
    "            elif sm>0:\n",
    "                r-=1\n",
    "            else:\n",
    "                l+=1\n",
    "    return ans\n",
    "sum3(arr)"
   ]
  },
  {
   "cell_type": "code",
   "execution_count": 78,
   "metadata": {},
   "outputs": [
    {
     "data": {
      "text/plain": [
       "[[-1, 2, -1], [0, 1, -1]]"
      ]
     },
     "execution_count": 78,
     "metadata": {},
     "output_type": "execute_result"
    }
   ],
   "source": [
    "arr = [-1,0,1,2,-1,-4]\n",
    "# [[-1,-1,2],[-1,0,1]]\n",
    "def sum3(nums):\n",
    "    nums.sort()\n",
    "    ans= []\n",
    "    for i in range(len(nums)):\n",
    "        if nums[i-1] == nums[i] and i>0:\n",
    "            continue\n",
    "        l = i+1\n",
    "        r = len(nums)-1\n",
    "        while l<r:\n",
    "            if nums[l]+nums[r]+nums[i] < 0 :\n",
    "                l+=1\n",
    "            elif nums[l]+nums[r]+nums[i] > 0 :\n",
    "                r-=1\n",
    "            else:\n",
    "                ans.append([nums[l],nums[r],nums[i]]) \n",
    "                l+=1\n",
    "                while nums[l] == nums[l-1] and l<r:\n",
    "                    l+=1\n",
    "    return ans \n",
    "        \n",
    "\n",
    "sum3(arr)\n"
   ]
  },
  {
   "cell_type": "code",
   "execution_count": null,
   "metadata": {},
   "outputs": [],
   "source": [
    "#4 sum problem or k sum problem \n",
    "def fourSum(nums,target):\n",
    "    nums.sort()\n",
    "    res=[]\n",
    "    quad=[]\n",
    "\n",
    "    def ksum(k,start,target):\n",
    "        if k!=2:\n",
    "            for i in range(start,len(nums)-k+1):\n",
    "                if i>start and nums[i]==nums[i-1]:\n",
    "                    continue\n",
    "                quad.append(nums[i])\n",
    "                ksum(k-1,i+1,target-nums[i])\n",
    "                quad.pop()\n",
    "            return \n",
    "        l=start\n",
    "        r=len(nums)-1\n",
    "        while l<r:\n",
    "            sm = nums[l]+nums[r]\n",
    "            if sm>target:\n",
    "                l+=1\n",
    "            elif sm<target:\n",
    "                r-=1\n",
    "            else:\n",
    "                res.append(quad+[nums[l],nums[r]])\n",
    "                l+=1\n",
    "                while nums[l] == nums[l-1] and l<r:\n",
    "                    l+=1\n",
    "    ksum(4,0,target)\n",
    "    return res\n"
   ]
  }
 ],
 "metadata": {
  "kernelspec": {
   "display_name": "base",
   "language": "python",
   "name": "python3"
  },
  "language_info": {
   "codemirror_mode": {
    "name": "ipython",
    "version": 3
   },
   "file_extension": ".py",
   "mimetype": "text/x-python",
   "name": "python",
   "nbconvert_exporter": "python",
   "pygments_lexer": "ipython3",
   "version": "3.11.4"
  }
 },
 "nbformat": 4,
 "nbformat_minor": 2
}
