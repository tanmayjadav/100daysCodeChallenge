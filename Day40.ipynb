{
 "cells": [
  {
   "cell_type": "code",
   "execution_count": 13,
   "metadata": {},
   "outputs": [
    {
     "name": "stdout",
     "output_type": "stream",
     "text": [
      "0\n"
     ]
    }
   ],
   "source": [
    "def solve(k, n):\n",
    "    if k == 1 or n == 1:\n",
    "        return 0\n",
    "    mid = (2**(n-1))//2\n",
    "    if k >= mid:\n",
    "        return 1^solve(k - mid, n - 1)\n",
    "    else:\n",
    "        return solve(k, n - 1)\n",
    "\n",
    "n = 3\n",
    "k = 4\n",
    "print(solve(k, n))  # Output: 1\n"
   ]
  },
  {
   "cell_type": "code",
   "execution_count": 21,
   "metadata": {},
   "outputs": [
    {
     "name": "stdout",
     "output_type": "stream",
     "text": [
      "0\n"
     ]
    }
   ],
   "source": [
    "def solve(n,k):\n",
    "    if n==1 or k==1:\n",
    "        return 0\n",
    "    mid = (2**(n-1))//2\n",
    "    if k<=mid:\n",
    "        return solve(n-1,k)\n",
    "    else:\n",
    "        return 1^solve(n-1,k-mid)\n",
    "\n",
    "n = 3\n",
    "k = 4\n",
    "print(solve(n, k))"
   ]
  },
  {
   "cell_type": "code",
   "execution_count": 14,
   "metadata": {},
   "outputs": [
    {
     "name": "stdout",
     "output_type": "stream",
     "text": [
      "abc ab ac a bc b c  "
     ]
    }
   ],
   "source": [
    "# print all subset \n",
    "st = \"abc\"\n",
    "def solve(ind,s):\n",
    "    if ind==len(st):\n",
    "        print(s,end=\" \")\n",
    "        return \n",
    "    s+=st[ind]\n",
    "    solve(ind+1,s)\n",
    "    solve(ind+1,s[:-1])\n",
    "\n",
    "solve(0,\"\")"
   ]
  },
  {
   "cell_type": "code",
   "execution_count": null,
   "metadata": {},
   "outputs": [],
   "source": []
  }
 ],
 "metadata": {
  "kernelspec": {
   "display_name": "base",
   "language": "python",
   "name": "python3"
  },
  "language_info": {
   "codemirror_mode": {
    "name": "ipython",
    "version": 3
   },
   "file_extension": ".py",
   "mimetype": "text/x-python",
   "name": "python",
   "nbconvert_exporter": "python",
   "pygments_lexer": "ipython3",
   "version": "3.11.4"
  }
 },
 "nbformat": 4,
 "nbformat_minor": 2
}
