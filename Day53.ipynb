{
 "cells": [
  {
   "cell_type": "code",
   "execution_count": null,
   "metadata": {},
   "outputs": [],
   "source": [
    "class Solution:\n",
    "    def isValidSudoku(self, board: List[List[str]]) -> bool:\n",
    "        cols = collections.defaultdict(set)\n",
    "        rows = collections.defaultdict(set)\n",
    "        squares = collections.defaultdict(set)\n",
    "\n",
    "        for r in range(9):\n",
    "            for c in range(9):\n",
    "                if board[r][c] == \".\":\n",
    "                    continue\n",
    "                \n",
    "                if (board[r][c] in rows[r] or \n",
    "                    board[r][c] in cols[c] or \n",
    "                    board[r][c] in squares[(r//3,c//3)]):\n",
    "                    return False\n",
    "                cols[c].add(board[r][c])\n",
    "                rows[r].add(board[r][c])\n",
    "                squares[(r//3,c//3)].add(board[r][c])     \n",
    "        return True           "
   ]
  }
 ],
 "metadata": {
  "language_info": {
   "name": "python"
  }
 },
 "nbformat": 4,
 "nbformat_minor": 2
}
