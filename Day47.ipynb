{
 "cells": [
  {
   "cell_type": "code",
   "execution_count": 1,
   "metadata": {},
   "outputs": [],
   "source": [
    "#insert Interval \n",
    "interval = [[1,2],[3,5],[6,7],[8,10],[12,16]]\n",
    "newI = [4,8]\n",
    "\n",
    "def insertInterval(interval,newI):\n",
    "    ans = []\n",
    "    for i in range(len(interval)):\n",
    "        if newI[1]<interval[i][0]:\n",
    "            ans.append(newI)\n",
    "            return ans + interval[i:]\n",
    "        elif newI[0]>interval[i][1]:\n",
    "            ans.append(interval[i])\n",
    "        else:\n",
    "            newI = [min(newI[0],interval[i][0]),max(newI[1],interval[i][1])]\n",
    "            \n",
    "    ans.append(newI)\n",
    "    return ans\n",
    "        "
   ]
  },
  {
   "cell_type": "code",
   "execution_count": 3,
   "metadata": {},
   "outputs": [
    {
     "data": {
      "text/plain": [
       "2"
      ]
     },
     "execution_count": 3,
     "metadata": {},
     "output_type": "execute_result"
    }
   ],
   "source": [
    "#minimum number of arrows to burst Ballons\n",
    "points = [[10,16],[2,8],[1,6],[7,12]]\n",
    "points.sort()\n",
    "ans = len(points)\n",
    "prev = points[0]\n",
    "for i in range(1,len(points)):\n",
    "    cur = points[i]\n",
    "    if cur[0]<=prev[1]:\n",
    "        ans -=1\n",
    "        prev = [cur[0],min(prev[1],cur[1])]\n",
    "    else:\n",
    "        prev = cur\n",
    "ans\n"
   ]
  },
  {
   "cell_type": "code",
   "execution_count": 11,
   "metadata": {},
   "outputs": [
    {
     "data": {
      "text/plain": [
       "[-8, 0, -6, -6]"
      ]
     },
     "execution_count": 11,
     "metadata": {},
     "output_type": "execute_result"
    }
   ],
   "source": [
    "def printF( arr, n, k):\n",
    "    val = []\n",
    "    ans = []\n",
    "    i,j = 0,0\n",
    "    while j<len(arr):\n",
    "        if arr[j]<0: \n",
    "            val.append(arr[j])\n",
    "        if (j-i+1)<k:\n",
    "            j+=1\n",
    "        elif (j-i+1)==k:\n",
    "            if val:\n",
    "                ans.append(val[0])\n",
    "                if arr[i] < 0:\n",
    "                    val.pop(0)\n",
    "            else:\n",
    "                ans.append(0)\n",
    "            i += 1\n",
    "            j += 1\n",
    "            \n",
    "    return ans \n",
    "arr = [-8, 2, 3, -6, 10]\n",
    "k = 2\n",
    "printF(arr,len(arr),k)"
   ]
  },
  {
   "cell_type": "code",
   "execution_count": 10,
   "metadata": {},
   "outputs": [
    {
     "data": {
      "text/plain": [
       "[-8, 0, -6, -6]"
      ]
     },
     "execution_count": 10,
     "metadata": {},
     "output_type": "execute_result"
    }
   ],
   "source": [
    "def return_ans(arr , k):\n",
    "    l = 0\n",
    "    r = 0\n",
    "    val = []\n",
    "    ans = []\n",
    "    while(r < len(arr)):\n",
    "        if arr[r] < 0:\n",
    "            val.append(arr[r])\n",
    "        \n",
    "        if r - l + 1 != k :\n",
    "            r+=1\n",
    "        elif r - l + 1 == k :\n",
    "            if len(val) == 0 :\n",
    "                ans.append(0)\n",
    "            else:\n",
    "                ans.append(val[0])\n",
    "                if arr[l] < 0:\n",
    "                    val.pop(0)\n",
    "            r+=1\n",
    "            l+=1\n",
    "    return ans\n",
    "return_ans(arr,k)"
   ]
  },
  {
   "cell_type": "code",
   "execution_count": null,
   "metadata": {},
   "outputs": [],
   "source": []
  }
 ],
 "metadata": {
  "kernelspec": {
   "display_name": "base",
   "language": "python",
   "name": "python3"
  },
  "language_info": {
   "codemirror_mode": {
    "name": "ipython",
    "version": 3
   },
   "file_extension": ".py",
   "mimetype": "text/x-python",
   "name": "python",
   "nbconvert_exporter": "python",
   "pygments_lexer": "ipython3",
   "version": "3.11.4"
  }
 },
 "nbformat": 4,
 "nbformat_minor": 2
}
