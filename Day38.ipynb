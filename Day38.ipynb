{
 "cells": [
  {
   "cell_type": "code",
   "execution_count": 33,
   "metadata": {},
   "outputs": [
    {
     "name": "stdout",
     "output_type": "stream",
     "text": [
      "4\n"
     ]
    },
    {
     "data": {
      "text/plain": [
       "'5432'"
      ]
     },
     "execution_count": 33,
     "metadata": {},
     "output_type": "execute_result"
    }
   ],
   "source": [
    "#make k swap to get largest number \n",
    "\n",
    "# num = \"1234567\"\n",
    "# num = \"5432\" \n",
    "# k = 4\n",
    "\n",
    "num = \"4577\"\n",
    "k = 2\n",
    "ans =[]\n",
    "def solve(num,k,start): \n",
    "    if k==0:\n",
    "       return \"\".join(num)\n",
    "    i = start\n",
    "    while i<len(num) and num[i]<num[i-1]:\n",
    "        i+=1\n",
    "    if i==len(num): return \"\".join(num)\n",
    "    lg = 0\n",
    "    for j in range(1,len(num)):\n",
    "        if num[j]>num[lg]:\n",
    "            lg = i\n",
    "    if num[k]==num[lg]:\n",
    "\n",
    "solve(list(num),k,1)"
   ]
  },
  {
   "cell_type": "code",
   "execution_count": 36,
   "metadata": {},
   "outputs": [
    {
     "name": "stdout",
     "output_type": "stream",
     "text": [
      "Output for num1: [7654312]\n",
      "Output for num2: [7754]\n"
     ]
    }
   ],
   "source": [
    "def swap(num, k, max_num):\n",
    "    # Base case: if k swaps are used, update max_num\n",
    "    if k == 0:\n",
    "        max_num[0] = max(max_num[0], int(num))\n",
    "        return\n",
    "\n",
    "    n = len(num)\n",
    "    for i in range(n - 1):\n",
    "        for j in range(i + 1, n):\n",
    "            # Swap characters at positions i and j\n",
    "            num_list = list(num)\n",
    "            num_list[i], num_list[j] = num_list[j], num_list[i]\n",
    "            new_num = ''.join(num_list)\n",
    "\n",
    "            # Recursively call swap with k-1 swaps left\n",
    "            swap(new_num, k - 1, max_num)\n",
    "\n",
    "# Function to find maximum number after k swaps\n",
    "def find_max(num, k):\n",
    "    max_num = [float('-inf')]  # Store maximum number found so far\n",
    "    swap(num, k, max_num)\n",
    "    return max_num[0   ]\n",
    "\n",
    "# Test cases\n",
    "num1 = \"1234567\"\n",
    "k1 = 4\n",
    "print(\"Output for num1:\", find_max(num1, k1))  # Output: 7654321\n",
    "\n",
    "num2 = \"4577\"\n",
    "k2 = 2\n",
    "print(\"Output for num2:\", find_max(num2, k2))  # Output: 7754\n"
   ]
  },
  {
   "cell_type": "code",
   "execution_count": 24,
   "metadata": {},
   "outputs": [
    {
     "name": "stdout",
     "output_type": "stream",
     "text": [
      "[5, 4, 7, 7]\n"
     ]
    },
    {
     "ename": "TypeError",
     "evalue": "can only concatenate list (not \"int\") to list",
     "output_type": "error",
     "traceback": [
      "\u001b[1;31m---------------------------------------------------------------------------\u001b[0m",
      "\u001b[1;31mTypeError\u001b[0m                                 Traceback (most recent call last)",
      "Cell \u001b[1;32mIn[24], line 23\u001b[0m\n\u001b[0;32m     20\u001b[0m     solve(st,k,start\u001b[38;5;241m+\u001b[39m\u001b[38;5;241m1\u001b[39m,ans)\n\u001b[0;32m     22\u001b[0m k \u001b[38;5;241m=\u001b[39m [\u001b[38;5;28mint\u001b[39m(i) \u001b[38;5;28;01mfor\u001b[39;00m i \u001b[38;5;129;01min\u001b[39;00m st]\n\u001b[1;32m---> 23\u001b[0m solve(\u001b[38;5;28mlist\u001b[39m(k),k,\u001b[38;5;241m0\u001b[39m,ans)\n",
      "Cell \u001b[1;32mIn[24], line 15\u001b[0m, in \u001b[0;36msolve\u001b[1;34m(st, k, start, ans)\u001b[0m\n\u001b[0;32m     12\u001b[0m \u001b[38;5;28;01mfor\u001b[39;00m i \u001b[38;5;129;01min\u001b[39;00m \u001b[38;5;28mrange\u001b[39m(start\u001b[38;5;241m+\u001b[39m\u001b[38;5;241m1\u001b[39m,\u001b[38;5;28mlen\u001b[39m(st)):\n\u001b[0;32m     13\u001b[0m     \u001b[38;5;28;01mif\u001b[39;00m \u001b[38;5;28mint\u001b[39m(st[start])\u001b[38;5;241m<\u001b[39m\u001b[38;5;28mint\u001b[39m(st[i]) \u001b[38;5;129;01mand\u001b[39;00m \u001b[38;5;28mint\u001b[39m(st[i])\u001b[38;5;241m==\u001b[39mmaxSt:\n\u001b[0;32m     14\u001b[0m         \u001b[38;5;66;03m# st[start],st[i]=st[i],st[start]\u001b[39;00m\n\u001b[1;32m---> 15\u001b[0m         st\u001b[38;5;241m=\u001b[39mst[:start]\u001b[38;5;241m+\u001b[39mst[i]\u001b[38;5;241m+\u001b[39mst[start\u001b[38;5;241m+\u001b[39m\u001b[38;5;241m1\u001b[39m:i]\u001b[38;5;241m+\u001b[39mst[start]\u001b[38;5;241m+\u001b[39mst[i\u001b[38;5;241m+\u001b[39m\u001b[38;5;241m1\u001b[39m:]\n\u001b[0;32m     16\u001b[0m         \u001b[38;5;28;01mif\u001b[39;00m ans\u001b[38;5;241m<\u001b[39m\u001b[38;5;28mint\u001b[39m(st):\n\u001b[0;32m     17\u001b[0m             ans \u001b[38;5;241m=\u001b[39m \u001b[38;5;28mint\u001b[39m(st)\n",
      "\u001b[1;31mTypeError\u001b[0m: can only concatenate list (not \"int\") to list"
     ]
    }
   ],
   "source": [
    "st = \"5477\"\n",
    "ans = int(st)\n",
    "def solve(st,k,start,ans):\n",
    "    print(st)\n",
    "    if k==0 or start==len(st)-1:\n",
    "        return \n",
    "    maxSt = float(\"-inf\")\n",
    "    for i in range(start+1,len(st)):\n",
    "        x=int(st[i])\n",
    "        if x>maxSt:\n",
    "            maxSt = x\n",
    "    for i in range(start+1,len(st)):\n",
    "        if int(st[start])<int(st[i]) and int(st[i])==maxSt:\n",
    "            st=st[:start]+st[i]+st[start+1:i]+st[start]+st[i+1:]\n",
    "            if ans<int(st):\n",
    "                ans = int(st)\n",
    "            solve(st,k-1,start+1,ans)\n",
    "            st=st[:start]+st[i]+st[start+1:i]+st[start]+st[i+1:]\n",
    "    solve(st,k,start+1,ans)\n",
    "\n",
    "k = [int(i) for i in st]\n",
    "solve(list(k),k,0,ans)"
   ]
  },
  {
   "cell_type": "code",
   "execution_count": 42,
   "metadata": {},
   "outputs": [
    {
     "name": "stdout",
     "output_type": "stream",
     "text": [
      "7754\n"
     ]
    }
   ],
   "source": [
    "def solve(st, k, start, ans):\n",
    "    if k == 0 or start == len(st) - 1:\n",
    "        return ans\n",
    "    \n",
    "    maxSt = float(\"-inf\")\n",
    "    for i in range(start + 1, len(st)):\n",
    "        maxSt=max(maxSt,int(st[i]))\n",
    "\n",
    "    for i in range(start + 1, len(st)):\n",
    "        if int(st[start]) < int(st[i]) and int(st[i]) == maxSt:\n",
    "            st = st[:start] + st[i] + st[start + 1:i] + st[start] + st[i + 1:]\n",
    "            if ans < int(st):\n",
    "                ans = int(st)\n",
    "            ans = solve(st, k - 1, start + 1, ans)\n",
    "            st = st[:start] + st[i] + st[start + 1:i] + st[start] + st[i + 1:]\n",
    "    return ans\n",
    "\n",
    "st = \"4577\"\n",
    "k = 2\n",
    "ans = int(st)\n",
    "ans = solve(st, k, 0, ans)\n",
    "print(ans)\n"
   ]
  },
  {
   "cell_type": "code",
   "execution_count": 36,
   "metadata": {},
   "outputs": [
    {
     "data": {
      "text/plain": [
       "'4'"
      ]
     },
     "execution_count": 36,
     "metadata": {},
     "output_type": "execute_result"
    }
   ],
   "source": []
  }
 ],
 "metadata": {
  "kernelspec": {
   "display_name": "base",
   "language": "python",
   "name": "python3"
  },
  "language_info": {
   "codemirror_mode": {
    "name": "ipython",
    "version": 3
   },
   "file_extension": ".py",
   "mimetype": "text/x-python",
   "name": "python",
   "nbconvert_exporter": "python",
   "pygments_lexer": "ipython3",
   "version": "3.11.4"
  }
 },
 "nbformat": 4,
 "nbformat_minor": 2
}
