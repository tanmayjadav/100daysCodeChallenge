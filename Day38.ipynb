{
 "cells": [
  {
   "cell_type": "code",
   "execution_count": 33,
   "metadata": {},
   "outputs": [
    {
     "name": "stdout",
     "output_type": "stream",
     "text": [
      "4\n"
     ]
    },
    {
     "data": {
      "text/plain": [
       "'5432'"
      ]
     },
     "execution_count": 33,
     "metadata": {},
     "output_type": "execute_result"
    }
   ],
   "source": [
    "#make k swap to get largest number \n",
    "\n",
    "# num = \"1234567\"\n",
    "# num = \"5432\" \n",
    "# k = 4\n",
    "\n",
    "num = \"4577\"\n",
    "k = 2\n",
    "ans =[]\n",
    "def solve(num,k,start): \n",
    "    if k==0:\n",
    "       return \"\".join(num)\n",
    "    i = start\n",
    "    while i<len(num) and num[i]<num[i-1]:\n",
    "        i+=1\n",
    "    if i==len(num): return \"\".join(num)\n",
    "    lg = 0\n",
    "    for j in range(1,len(num)):\n",
    "        if num[j]>num[lg]:\n",
    "            lg = i\n",
    "    if num[k]==num[lg]:\n",
    "\n",
    "solve(list(num),k,1)"
   ]
  },
  {
   "cell_type": "code",
   "execution_count": 36,
   "metadata": {},
   "outputs": [
    {
     "name": "stdout",
     "output_type": "stream",
     "text": [
      "Output for num1: [7654312]\n",
      "Output for num2: [7754]\n"
     ]
    }
   ],
   "source": [
    "def swap(num, k, max_num):\n",
    "    # Base case: if k swaps are used, update max_num\n",
    "    if k == 0:\n",
    "        max_num[0] = max(max_num[0], int(num))\n",
    "        return\n",
    "\n",
    "    n = len(num)\n",
    "    for i in range(n - 1):\n",
    "        for j in range(i + 1, n):\n",
    "            # Swap characters at positions i and j\n",
    "            num_list = list(num)\n",
    "            num_list[i], num_list[j] = num_list[j], num_list[i]\n",
    "            new_num = ''.join(num_list)\n",
    "\n",
    "            # Recursively call swap with k-1 swaps left\n",
    "            swap(new_num, k - 1, max_num)\n",
    "\n",
    "# Function to find maximum number after k swaps\n",
    "def find_max(num, k):\n",
    "    max_num = [float('-inf')]  # Store maximum number found so far\n",
    "    swap(num, k, max_num)\n",
    "    return max_num[0   ]\n",
    "\n",
    "# Test cases\n",
    "num1 = \"1234567\"\n",
    "k1 = 4\n",
    "print(\"Output for num1:\", find_max(num1, k1))  # Output: 7654321\n",
    "\n",
    "num2 = \"4577\"\n",
    "k2 = 2\n",
    "print(\"Output for num2:\", find_max(num2, k2))  # Output: 7754\n"
   ]
  },
  {
   "cell_type": "code",
   "execution_count": null,
   "metadata": {},
   "outputs": [],
   "source": []
  }
 ],
 "metadata": {
  "kernelspec": {
   "display_name": "base",
   "language": "python",
   "name": "python3"
  },
  "language_info": {
   "codemirror_mode": {
    "name": "ipython",
    "version": 3
   },
   "file_extension": ".py",
   "mimetype": "text/x-python",
   "name": "python",
   "nbconvert_exporter": "python",
   "pygments_lexer": "ipython3",
   "version": "3.11.4"
  }
 },
 "nbformat": 4,
 "nbformat_minor": 2
}
