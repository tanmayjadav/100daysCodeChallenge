{
 "cells": [
  {
   "cell_type": "code",
   "execution_count": 10,
   "metadata": {},
   "outputs": [],
   "source": [
    "#Question 1 Set Matrix to Zero\n",
    "#output = [[1,0,1],\n",
    "        # [0,0,0],\n",
    "        # [1,0,1]]"
   ]
  },
  {
   "cell_type": "code",
   "execution_count": 31,
   "metadata": {},
   "outputs": [
    {
     "data": {
      "text/plain": [
       "[[0, 0, 3, 0], [0, 0, 0, 0], [0, 0, 0, 0], [0, 0, 0, 0]]"
      ]
     },
     "execution_count": 31,
     "metadata": {},
     "output_type": "execute_result"
    }
   ],
   "source": [
    "# Optimal approch \n",
    "\n",
    "mat = [[1,2,3,4],[5,0,7,8],[0,10,11,12],[13,14,15,0]]\n",
    "row = len(mat)\n",
    "col = len(mat[0])\n",
    "col0=1\n",
    "for i in range(row):\n",
    "    if mat[i][0]==0:\n",
    "        col0=0\n",
    "    for j in range(1,col):\n",
    "        if mat[i][j]==0:\n",
    "            mat[i][0] = mat[0][j] = 0\n",
    "\n",
    "for i in range(row-1,-1,-1):\n",
    "    for j in range(col-1,0,-1):\n",
    "        if mat[i][0]==0 or mat[0][j]==0:\n",
    "            mat[i][j] = 0\n",
    "    if col0==0:\n",
    "        mat[i][0] = 0\n",
    "mat\n",
    "        "
   ]
  },
  {
   "cell_type": "code",
   "execution_count": 51,
   "metadata": {},
   "outputs": [
    {
     "data": {
      "text/plain": [
       "1"
      ]
     },
     "execution_count": 51,
     "metadata": {},
     "output_type": "execute_result"
    }
   ],
   "source": [
    "#Question 2 majority element if an element is greater than len(nums)//2 then return \n",
    "# nums = [2,2,1,1,1,2,1]\n",
    "# nums = [3,2,3,2,3,3,3,3]\n",
    "# approch1 brute force  [N^2]\n",
    "# for i in nums:\n",
    "#     count=0\n",
    "#     for j in nums:\n",
    "#         if i==j:\n",
    "#             count+=1\n",
    "#     if count>=(len(nums)//2)+1:\n",
    "#         print(i)\n",
    "\n",
    "#approch2 better it like sort and mid elem is majority elem [NlogN]\n",
    "        \n",
    "#approch3 better using hashmap store all value and for highest value greater than majority elem return [N space and N+N time]\n",
    "        \n",
    "#approch4 time N\n",
    "nums = [1,3,1,1,4,1,1,5,1,1,6,2,2]\n",
    "# print(len(nums))\n",
    "def optimal(nums):\n",
    "    if len(nums)<=1:\n",
    "        return nums[0]\n",
    "    elem1 = nums[0]\n",
    "    c1 = 0 \n",
    "    for i in nums:\n",
    "        if c1==0:\n",
    "            elem1=i\n",
    "            c1+=1\n",
    "        if elem1 == i:\n",
    "            c1+=1\n",
    "        else:\n",
    "            c1-=1\n",
    "\n",
    "    return elem1 if nums.count(elem1)>=(len(nums)//2)+1 else -1\n",
    "\n",
    "optimal(nums)"
   ]
  },
  {
   "cell_type": "code",
   "execution_count": null,
   "metadata": {},
   "outputs": [],
   "source": []
  }
 ],
 "metadata": {
  "kernelspec": {
   "display_name": "base",
   "language": "python",
   "name": "python3"
  },
  "language_info": {
   "codemirror_mode": {
    "name": "ipython",
    "version": 3
   },
   "file_extension": ".py",
   "mimetype": "text/x-python",
   "name": "python",
   "nbconvert_exporter": "python",
   "pygments_lexer": "ipython3",
   "version": "3.11.4"
  }
 },
 "nbformat": 4,
 "nbformat_minor": 2
}
