{
 "cells": [
  {
   "cell_type": "code",
   "execution_count": 4,
   "metadata": {},
   "outputs": [
    {
     "data": {
      "text/plain": [
       "1"
      ]
     },
     "execution_count": 4,
     "metadata": {},
     "output_type": "execute_result"
    }
   ],
   "source": [
    "7//5"
   ]
  },
  {
   "cell_type": "code",
   "execution_count": null,
   "metadata": {},
   "outputs": [],
   "source": [
    "# cook your dish here\n",
    "T = int(input())\n",
    "for _ in range(T):\n",
    "    N, W, Wr = map(int, input().split())\n",
    "    weights = list(map(int, input().split()))\n",
    "    \n",
    "    def findSatisfied(N,W,Wr,weights):\n",
    "        if W<=Wr:\n",
    "            return \"Yes\"\n",
    "        wei = Wr\n",
    "        wl = 0\n",
    "        wr = 0\n",
    "        weights.sort()\n",
    "        i = 0\n",
    "        while i<len(weights):\n",
    "            wl+=weights[i] \n",
    "            wr += weights[i+1]\n",
    "            wei = wr+wl\n",
    "            if wei>W and wr==wl:\n",
    "                return \"yes\"\n",
    "            i+=2\n",
    "        return \"no\"\n",
    "        "
   ]
  }
 ],
 "metadata": {
  "kernelspec": {
   "display_name": "base",
   "language": "python",
   "name": "python3"
  },
  "language_info": {
   "codemirror_mode": {
    "name": "ipython",
    "version": 3
   },
   "file_extension": ".py",
   "mimetype": "text/x-python",
   "name": "python",
   "nbconvert_exporter": "python",
   "pygments_lexer": "ipython3",
   "version": "3.11.4"
  }
 },
 "nbformat": 4,
 "nbformat_minor": 2
}
