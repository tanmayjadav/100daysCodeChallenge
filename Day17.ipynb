{
 "cells": [
  {
   "cell_type": "code",
   "execution_count": 9,
   "metadata": {},
   "outputs": [
    {
     "data": {
      "text/plain": [
       "'5'"
      ]
     },
     "execution_count": 9,
     "metadata": {},
     "output_type": "execute_result"
    }
   ],
   "source": [
    "#largest number with odd string \n",
    "\n",
    "num = \"534\"\n",
    "mx = \"-1\" \n",
    "for i in num:\n",
    "    j = int(i)\n",
    "    if j % 2 != 0 and j > int(mx):  \n",
    "        mx = i\n",
    "mx\n"
   ]
  },
  {
   "cell_type": "code",
   "execution_count": 11,
   "metadata": {},
   "outputs": [
    {
     "name": "stdout",
     "output_type": "stream",
     "text": [
      "o i 2\n"
     ]
    },
    {
     "data": {
      "text/plain": [
       "'fl'"
      ]
     },
     "execution_count": 11,
     "metadata": {},
     "output_type": "execute_result"
    }
   ],
   "source": [
    "#longest common prefix \n",
    "\n",
    "#brute force attempt \n",
    "\n",
    "strs = [\"flower\",\"flow\",\"flight\"]\n",
    "# strs = [\"dog\",\"racecar\",\"car\"]\n",
    "# Output: \"fl\"\n",
    "sm = float(\"inf\")\n",
    "for i in strs:\n",
    "    if len(i)<sm:\n",
    "        sm = len(i)\n",
    "        word = i\n",
    "def func():\n",
    "    for i in range(sm):\n",
    "        for j in range(len(strs)):\n",
    "            if word[i]!=strs[j][i]:\n",
    "                print(word[i],strs[j][i] , i)\n",
    "                return i\n",
    "x = func()\n",
    "word[:x]"
   ]
  },
  {
   "cell_type": "code",
   "execution_count": 14,
   "metadata": {},
   "outputs": [
    {
     "data": {
      "text/plain": [
       "'fl'"
      ]
     },
     "execution_count": 14,
     "metadata": {},
     "output_type": "execute_result"
    }
   ],
   "source": [
    "#optimal solution \n",
    "strs = [\"flower\",\"flow\",\"flight\"]\n",
    "\n",
    "def func(v):\n",
    "    ans = \"\"\n",
    "    v = sorted(v)\n",
    "    first = v[0]\n",
    "    last = v[-1]\n",
    "    for i in range(min(len(first),len(last))):\n",
    "        if first[i]!=last[i]:\n",
    "            return ans \n",
    "        ans+=first[i]\n",
    "    return ans\n",
    "func(strs)"
   ]
  },
  {
   "cell_type": "code",
   "execution_count": 17,
   "metadata": {},
   "outputs": [
    {
     "name": "stdout",
     "output_type": "stream",
     "text": [
      "[0, 1, 0, 3, 4] [0, 1, 2, 0, 4]\n"
     ]
    },
    {
     "data": {
      "text/plain": [
       "False"
      ]
     },
     "execution_count": 17,
     "metadata": {},
     "output_type": "execute_result"
    }
   ],
   "source": [
    "#question 4\n",
    "# Given two strings s and t, determine if they are isomorphic.\n",
    "\n",
    "# Two strings s and t are isomorphic if the characters in s can be replaced to get t.\n",
    "\n",
    "# All occurrences of a character must be replaced with another character while preserving the order of characters. No two characters may map to the same character, but a character may map to itself.\n",
    "\n",
    "# Time Complexity : O(n)\n",
    "\n",
    "def isIsomorphic(s, t):\n",
    "    map1 = []\n",
    "    map2 = []\n",
    "    for idx in s:\n",
    "        map1.append(s.index(idx))\n",
    "    for idx in t:\n",
    "        map2.append(t.index(idx))\n",
    "    print(map1,map2)\n",
    "    if map1 == map2:\n",
    "        return True\n",
    "    return False\n",
    "\n",
    "s = \"egg\"\n",
    "t = \"add\"\n",
    "s = \"paper\"\n",
    "t = \"tilte\"\n",
    "isIsomorphic(s,t)\n"
   ]
  },
  {
   "cell_type": "code",
   "execution_count": null,
   "metadata": {},
   "outputs": [],
   "source": []
  }
 ],
 "metadata": {
  "kernelspec": {
   "display_name": "base",
   "language": "python",
   "name": "python3"
  },
  "language_info": {
   "codemirror_mode": {
    "name": "ipython",
    "version": 3
   },
   "file_extension": ".py",
   "mimetype": "text/x-python",
   "name": "python",
   "nbconvert_exporter": "python",
   "pygments_lexer": "ipython3",
   "version": "3.11.4"
  }
 },
 "nbformat": 4,
 "nbformat_minor": 2
}
