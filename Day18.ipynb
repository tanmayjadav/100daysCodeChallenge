{
 "cells": [
  {
   "cell_type": "code",
   "execution_count": null,
   "metadata": {},
   "outputs": [],
   "source": [
    "def check_anagrams(str1, str2):\n",
    "    # when both of the strings have different lengths\n",
    "    if len(str1) != len(str2):\n",
    "        return False\n",
    "    \n",
    "    freq = [0] * 26\n",
    "    for char in str1:\n",
    "        freq[ord(char) - ord('A')] += 1\n",
    "        \n",
    "    for char in str2:\n",
    "        freq[ord(char) - ord('A')] -= 1\n",
    "        \n",
    "    for count in freq:\n",
    "        if count != 0:\n",
    "            return False\n",
    "            \n",
    "    return True\n",
    "\n",
    "def main():\n",
    "    str1 = \"INTEGER\"\n",
    "    str2 = \"TEGERNI\"\n",
    "    if check_anagrams(str1, str2):\n",
    "        print(\"True\")\n",
    "    else:\n",
    "        print(\"False\")\n",
    "\n",
    "if __name__ == \"__main__\":\n",
    "    main()\n"
   ]
  },
  {
   "cell_type": "code",
   "execution_count": null,
   "metadata": {},
   "outputs": [],
   "source": [
    "class Solution(object):\n",
    "    def isAnagram(self, s, t):\n",
    "        if len(s) != len(t):\n",
    "            return False\n",
    "\n",
    "        char_map = [0] * 26\n",
    "\n",
    "        for i in range(len(s)):\n",
    "            char_map[ord(s[i]) - ord('a')] += 1\n",
    "            char_map[ord(t[i]) - ord('a')] -= 1\n",
    "\n",
    "        return all(count == 0 for count in char_map)\n",
    "        "
   ]
  },
  {
   "cell_type": "code",
   "execution_count": null,
   "metadata": {},
   "outputs": [],
   "source": []
  }
 ],
 "metadata": {
  "kernelspec": {
   "display_name": "base",
   "language": "python",
   "name": "python3"
  },
  "language_info": {
   "name": "python",
   "version": "3.11.4"
  }
 },
 "nbformat": 4,
 "nbformat_minor": 2
}
