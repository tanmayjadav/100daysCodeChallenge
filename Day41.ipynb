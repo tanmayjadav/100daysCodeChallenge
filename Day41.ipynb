{
 "cells": [
  {
   "cell_type": "code",
   "execution_count": 2,
   "metadata": {},
   "outputs": [
    {
     "name": "stdout",
     "output_type": "stream",
     "text": [
      "acc ac ac a cc c c  "
     ]
    }
   ],
   "source": [
    "# print all subset variation exist duplicate \n",
    "st = \"abcc\"\n",
    "def solve(ind,s):\n",
    "    if ind==len(st):\n",
    "        print(s,end=\" \")\n",
    "        return \n",
    "    s+=st[ind]\n",
    "    solve(ind+1,s)\n",
    "    solve(ind+1,s[:-1])\n",
    "\n",
    "solve(0,\"\")"
   ]
  },
  {
   "cell_type": "code",
   "execution_count": 15,
   "metadata": {},
   "outputs": [
    {
     "name": "stdout",
     "output_type": "stream",
     "text": [
      "[1, 2] [1, 3] [1] [2, 3] [2] [3] [] "
     ]
    }
   ],
   "source": [
    "#for Arr \n",
    "arr = [1,2,3]\n",
    "target=3\n",
    "def solve(ind,a,k):\n",
    "    if ind==len(arr) or target<=k:\n",
    "        # if target==k: print(\"x\")\n",
    "        print(a,end=\" \")\n",
    "        return \n",
    "    a.append(arr[ind])\n",
    "    k += arr[ind]\n",
    "    solve(ind+1,a,k)\n",
    "    a.pop()\n",
    "    k -= arr[ind]\n",
    "    solve(ind+1,a,k)\n",
    "\n",
    "solve(0,[],0)\n"
   ]
  },
  {
   "cell_type": "code",
   "execution_count": null,
   "metadata": {},
   "outputs": [],
   "source": [
    "#now for array print those subarray those sum is k"
   ]
  }
 ],
 "metadata": {
  "kernelspec": {
   "display_name": "base",
   "language": "python",
   "name": "python3"
  },
  "language_info": {
   "codemirror_mode": {
    "name": "ipython",
    "version": 3
   },
   "file_extension": ".py",
   "mimetype": "text/x-python",
   "name": "python",
   "nbconvert_exporter": "python",
   "pygments_lexer": "ipython3",
   "version": "3.11.4"
  }
 },
 "nbformat": 4,
 "nbformat_minor": 2
}
