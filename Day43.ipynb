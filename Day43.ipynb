{
 "cells": [
  {
   "cell_type": "code",
   "execution_count": 3,
   "metadata": {},
   "outputs": [
    {
     "name": "stdout",
     "output_type": "stream",
     "text": [
      "[2, 2, 2, 1]\n",
      "[2, 2, 3]\n",
      "[2, 2, 1, 1, 1]\n",
      "[2, 3, 1, 1]\n",
      "[2, 1, 1, 1, 1, 1]\n",
      "[3, 3, 1]\n",
      "[3, 1, 1, 1, 1]\n",
      "[6, 1]\n",
      "[7]\n",
      "[1, 1, 1, 1, 1, 1, 1]\n"
     ]
    }
   ],
   "source": [
    "#combination sum    \n",
    "\n",
    "arr = [2,3,6,7,1]\n",
    "actual = 7\n",
    "# Output: [[2,2,3],[7]]\n",
    "n = len(arr)\n",
    "def solved(dum,target,ind):\n",
    "    if ind>=n or actual<=target:\n",
    "        if target==actual:\n",
    "            print(dum)\n",
    "        return \n",
    "    target += arr[ind]\n",
    "    dum.append(arr[ind])\n",
    "    solved(dum,target,ind)\n",
    "\n",
    "    target -= arr[ind]\n",
    "    dum.pop()\n",
    "    solved(dum,target,ind+1)\n",
    "    \n",
    "solved([],0,0)"
   ]
  },
  {
   "cell_type": "code",
   "execution_count": 39,
   "metadata": {},
   "outputs": [
    {
     "name": "stdout",
     "output_type": "stream",
     "text": [
      "[1, 2, 5]\n",
      "[3, 5]\n"
     ]
    }
   ],
   "source": [
    "#combination sum two - it contains duplicate numbers\n",
    "\n",
    "arr = [5,1,2,3,1,3]\n",
    "actual = 8\n",
    "# arr = [1,1,2,3,3,5]\n",
    "# Output: [[2,2,3],[7]]\n",
    "n = len(arr)\n",
    "arr.sort()\n",
    "def solved(dum,target,ind):\n",
    "    if ind>=n or actual<=target:\n",
    "        if target==actual:\n",
    "            print(dum)\n",
    "        return \n",
    "    if ind>0 and arr[ind] == arr[ind-1]:\n",
    "        solved(dum,target,ind+1)\n",
    "    else:\n",
    "        target += arr[ind]\n",
    "        dum.append(arr[ind])\n",
    "        solved(dum,target,ind+1)\n",
    "\n",
    "        target -= arr[ind]\n",
    "        dum.pop()\n",
    "        solved(dum,target,ind+1)  \n",
    "solved([],0,0)"
   ]
  },
  {
   "cell_type": "code",
   "execution_count": 40,
   "metadata": {},
   "outputs": [
    {
     "name": "stdout",
     "output_type": "stream",
     "text": [
      "[1, 2, 5]\n",
      "[3, 5]\n"
     ]
    }
   ],
   "source": [
    "arr = [5, 1, 2, 3, 1, 3]\n",
    "actual = 8\n",
    "\n",
    "n = len(arr)\n",
    "arr.sort()\n",
    "\n",
    "def solved(dum, target, ind):\n",
    "    if ind >= n or target >= actual:\n",
    "        if target == actual:\n",
    "            print(dum)\n",
    "        return\n",
    "    if ind > 0 and arr[ind] == arr[ind - 1]:\n",
    "        solved(dum, target, ind + 1)\n",
    "    else:\n",
    "        target += arr[ind]\n",
    "        dum.append(arr[ind])\n",
    "        solved(dum, target, ind + 1)\n",
    "\n",
    "        target -= arr[ind]\n",
    "        dum.pop()\n",
    "        solved(dum, target, ind + 1)\n",
    "\n",
    "solved([], 0, 0)\n"
   ]
  },
  {
   "cell_type": "code",
   "execution_count": 48,
   "metadata": {},
   "outputs": [
    {
     "name": "stdout",
     "output_type": "stream",
     "text": [
      "[1, 1, 3, 3]\n",
      "[1, 2, 5]\n",
      "[2, 3, 3]\n",
      "[3, 5]\n"
     ]
    }
   ],
   "source": [
    "def find_subsets(arr, target):\n",
    "    n = len(arr)\n",
    "    arr.sort()\n",
    "\n",
    "    def backtrack(ind, ds, target):\n",
    "        if ind>=n or target<=0:\n",
    "            if target==0:\n",
    "                print(ds)\n",
    "            return \n",
    "        for i in range(ind,n):\n",
    "            if i>ind and arr[i] == arr[i-1]:\n",
    "                continue\n",
    "            if target<arr[i]:\n",
    "                break\n",
    "            \n",
    "            backtrack(i+1,ds+[arr[i]],target-arr[i])       \n",
    "    backtrack(0, [], target)\n",
    "    return \n",
    "\n",
    "\n",
    "arr = [5, 1, 2, 3, 1, 3]\n",
    "actual = 8\n",
    "result = find_subsets(arr, actual)\n",
    "\n"
   ]
  },
  {
   "cell_type": "code",
   "execution_count": null,
   "metadata": {},
   "outputs": [],
   "source": []
  }
 ],
 "metadata": {
  "kernelspec": {
   "display_name": "base",
   "language": "python",
   "name": "python3"
  },
  "language_info": {
   "codemirror_mode": {
    "name": "ipython",
    "version": 3
   },
   "file_extension": ".py",
   "mimetype": "text/x-python",
   "name": "python",
   "nbconvert_exporter": "python",
   "pygments_lexer": "ipython3",
   "version": "3.11.4"
  }
 },
 "nbformat": 4,
 "nbformat_minor": 2
}
