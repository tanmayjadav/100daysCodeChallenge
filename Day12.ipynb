{
 "cells": [
  {
   "cell_type": "code",
   "execution_count": 16,
   "metadata": {},
   "outputs": [
    {
     "data": {
      "text/plain": [
       "13"
      ]
     },
     "execution_count": 16,
     "metadata": {},
     "output_type": "execute_result"
    }
   ],
   "source": [
    "#Question 1 Minimum Number of Days to Make m Bouquets\n",
    "\n",
    "#here first it's important to apply brute force approch\n",
    "# if there is 2-3 task merging then always divide it in functions \n",
    "\n",
    "#like here it has ispossible function \n",
    " \n",
    "bloomDay = [7, 7, 7, 10,10,13]\n",
    "m = 2\n",
    "k = 3\n",
    "def isPossible(arr,day,m,k):\n",
    "    cnt=0\n",
    "    noofb = 0\n",
    "\n",
    "    for i in range(len(arr)):\n",
    "        if arr[i]<=day:\n",
    "            cnt+=1\n",
    "        else:\n",
    "            noofb +=cnt//k\n",
    "            cnt=0\n",
    "    noofb +=cnt//k\n",
    "    return noofb>=m\n",
    "\n",
    "def checkBouquets(arr,m,k):\n",
    "    if m*k>len(arr):\n",
    "        return -1\n",
    "    low = min(arr)\n",
    "    high = max(arr)\n",
    "    ans = -1\n",
    "    while low<=high:\n",
    "        mid = (low+high)//2\n",
    "        if isPossible(arr,mid,m,k):\n",
    "            ans = mid\n",
    "            high=mid-1\n",
    "        else:\n",
    "            low=mid+1\n",
    "    return ans if ans!=-1 else -1\n",
    "\n",
    "checkBouquets(bloomDay,m,k)"
   ]
  },
  {
   "cell_type": "code",
   "execution_count": 28,
   "metadata": {},
   "outputs": [
    {
     "data": {
      "text/plain": [
       "3"
      ]
     },
     "execution_count": 28,
     "metadata": {},
     "output_type": "execute_result"
    }
   ],
   "source": [
    "#question 2 \n",
    "# Find the Smallest Divisor given threshold \n",
    "\n",
    "#as first divide the tasks in functions \n",
    "# the other task is to divide all and sum them up \n",
    "import math \n",
    "\n",
    "def sumfun(arr,n):\n",
    "    sumDivisor=0\n",
    "    for elem in arr:\n",
    "        sumDivisor+=math.ceil(elem/n)\n",
    "    return sumDivisor\n",
    "\n",
    "def findSmallestDivisor(arr,threshold):\n",
    "    \n",
    "    low=1\n",
    "    high=max(arr)\n",
    "    while low<=high:\n",
    "        mid = (low+high)//2\n",
    "        sumDivisor = sumfun(arr,mid)\n",
    "        if sumDivisor>threshold:\n",
    "            low=mid+1\n",
    "        else:\n",
    "            ans = mid\n",
    "            high=mid-1\n",
    "    return ans\n",
    "\n",
    "arr = [1,2,5,9]\n",
    "#      1+1+2+2+3 = 9\n",
    "th=8\n",
    "findSmallestDivisor(arr,th)\n"
   ]
  },
  {
   "cell_type": "code",
   "execution_count": null,
   "metadata": {},
   "outputs": [],
   "source": []
  }
 ],
 "metadata": {
  "kernelspec": {
   "display_name": "base",
   "language": "python",
   "name": "python3"
  },
  "language_info": {
   "codemirror_mode": {
    "name": "ipython",
    "version": 3
   },
   "file_extension": ".py",
   "mimetype": "text/x-python",
   "name": "python",
   "nbconvert_exporter": "python",
   "pygments_lexer": "ipython3",
   "version": "3.11.4"
  }
 },
 "nbformat": 4,
 "nbformat_minor": 2
}
