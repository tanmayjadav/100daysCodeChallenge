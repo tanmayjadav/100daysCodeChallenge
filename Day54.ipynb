{
 "cells": [
  {
   "cell_type": "code",
   "execution_count": null,
   "metadata": {},
   "outputs": [],
   "source": [
    "class Solution:\n",
    "    def maxArea(self, h: List[int]) -> int:\n",
    "        mx = 0\n",
    "        l,r = 0,len(h)-1\n",
    "        while l<r:\n",
    "            area = (r-l)*min(h[l],h[r])\n",
    "            mx = max(area,mx)\n",
    "            if h[l]>h[r]:\n",
    "                r-=1\n",
    "            else:\n",
    "                l+=1\n",
    "        return mx\n"
   ]
  },
  {
   "cell_type": "code",
   "execution_count": null,
   "metadata": {},
   "outputs": [],
   "source": []
  }
 ],
 "metadata": {
  "language_info": {
   "name": "python"
  }
 },
 "nbformat": 4,
 "nbformat_minor": 2
}
