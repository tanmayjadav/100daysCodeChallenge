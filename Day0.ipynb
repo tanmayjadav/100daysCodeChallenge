{
 "cells": [
  {
   "cell_type": "code",
   "execution_count": 4,
   "metadata": {},
   "outputs": [
    {
     "data": {
      "text/plain": [
       "[0, 3]"
      ]
     },
     "execution_count": 4,
     "metadata": {},
     "output_type": "execute_result"
    }
   ],
   "source": [
    "# 2 Sum Problem \n",
    "#  nums = [2,7,11,15], target = 9\n",
    "#  Output: [0,1]\n",
    "\n",
    "nums = [2,7,11,15]\n",
    "target = 17\n",
    "hashmap = {}\n",
    "def twoSum(nums,target):\n",
    "    for i,n in enumerate(nums):\n",
    "        if target-n in hashmap:\n",
    "            return [hashmap[target-n],i]\n",
    "        else:\n",
    "            hashmap[n] = i\n",
    "    \n",
    "twoSum(nums,target)"
   ]
  },
  {
   "cell_type": "code",
   "execution_count": 23,
   "metadata": {},
   "outputs": [
    {
     "name": "stdout",
     "output_type": "stream",
     "text": [
      "0 0\n",
      "[1, 0, 2] r swaped \n",
      "0 0\n",
      "1 0\n",
      "[0, 1, 2] l swaped\n"
     ]
    },
    {
     "data": {
      "text/plain": [
       "[0, 1, 2]"
      ]
     },
     "execution_count": 23,
     "metadata": {},
     "output_type": "execute_result"
    }
   ],
   "source": [
    "#Sort 0 1 2\n",
    "#approch 1 would be brute force and NlogN\n",
    "#approch 2 coun 0 1 and 2 and use space and create new array N+N\n",
    "\n",
    "#optimal approch is to use 3 pointer \n",
    "nums = [2,0,1]\n",
    "l,r,m = 0,len(nums)-1,0\n",
    "\n",
    "while m<=r:\n",
    "    if nums[m]==0:\n",
    "        nums[l],nums[m]=nums[m],nums[l]\n",
    "        l+=1\n",
    "        m+=1\n",
    "    elif nums[m]==2:\n",
    "        nums[r],nums[m]=nums[m],nums[r]\n",
    "        r-=1\n",
    "    else:\n",
    "        m+=1\n",
    "nums\n",
    "\n",
    "\n"
   ]
  },
  {
   "cell_type": "code",
   "execution_count": 27,
   "metadata": {},
   "outputs": [
    {
     "data": {
      "text/plain": [
       "6"
      ]
     },
     "execution_count": 27,
     "metadata": {},
     "output_type": "execute_result"
    }
   ],
   "source": [
    "#Question 3 Kadane's Algorithm maximum sum subarray\n",
    "nums=[-2,1,-3,4,-1,2,1,-5,4]\n",
    "s,sm = 0,0\n",
    "for i in nums:\n",
    "    s+=i\n",
    "    if s>sm:\n",
    "        sm=s\n",
    "    if s<=0:\n",
    "        s=0\n",
    "sm"
   ]
  },
  {
   "cell_type": "code",
   "execution_count": null,
   "metadata": {},
   "outputs": [],
   "source": []
  }
 ],
 "metadata": {
  "kernelspec": {
   "display_name": "base",
   "language": "python",
   "name": "python3"
  },
  "language_info": {
   "codemirror_mode": {
    "name": "ipython",
    "version": 3
   },
   "file_extension": ".py",
   "mimetype": "text/x-python",
   "name": "python",
   "nbconvert_exporter": "python",
   "pygments_lexer": "ipython3",
   "version": "3.11.4"
  }
 },
 "nbformat": 4,
 "nbformat_minor": 2
}
