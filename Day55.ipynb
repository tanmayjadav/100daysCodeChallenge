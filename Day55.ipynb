{
 "cells": [
  {
   "cell_type": "code",
   "execution_count": null,
   "metadata": {},
   "outputs": [],
   "source": [
    "class Solution:\n",
    "    def makeGood(self, s: str) -> str:\n",
    "        def lower(c):\n",
    "            if ord(c)<ord(\"a\"):\n",
    "                return chr(ord(c)+ord(\"a\")-ord(\"A\"))\n",
    "            return c\n",
    "\n",
    "        stack = []\n",
    "        i = 0\n",
    "        while i<len(s):\n",
    "            if (stack and stack[-1]!=s[i] and lower(stack[-1])==lower(s[i])):\n",
    "                stack.pop()\n",
    "            else:\n",
    "                stack.append(s[i])\n",
    "            i+=1\n",
    "        return \"\".join(stack)"
   ]
  }
 ],
 "metadata": {
  "language_info": {
   "name": "python"
  }
 },
 "nbformat": 4,
 "nbformat_minor": 2
}
