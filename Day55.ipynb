{
 "cells": [
  {
   "cell_type": "code",
   "execution_count": 1,
   "metadata": {},
   "outputs": [],
   "source": [
    "class Solution:\n",
    "    def makeGood(self, s: str) -> str:\n",
    "        def lower(c):\n",
    "            if ord(c)<ord(\"a\"):\n",
    "                return chr(ord(c)+ord(\"a\")-ord(\"A\"))\n",
    "            return c\n",
    "\n",
    "        stack = []\n",
    "        i = 0\n",
    "        while i<len(s):\n",
    "            if (stack and stack[-1]!=s[i] and lower(stack[-1])==lower(s[i])):\n",
    "                stack.pop()\n",
    "            else:\n",
    "                stack.append(s[i])\n",
    "            i+=1\n",
    "        return \"\".join(stack)"
   ]
  },
  {
   "cell_type": "code",
   "execution_count": null,
   "metadata": {},
   "outputs": [],
   "source": []
  }
 ],
 "metadata": {
  "kernelspec": {
   "display_name": "base",
   "language": "python",
   "name": "python3"
  },
  "language_info": {
   "codemirror_mode": {
    "name": "ipython",
    "version": 3
   },
   "file_extension": ".py",
   "mimetype": "text/x-python",
   "name": "python",
   "nbconvert_exporter": "python",
   "pygments_lexer": "ipython3",
   "version": "3.11.4"
  }
 },
 "nbformat": 4,
 "nbformat_minor": 2
}
