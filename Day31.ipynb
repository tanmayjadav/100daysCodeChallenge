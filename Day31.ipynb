{
 "cells": [
  {
   "cell_type": "code",
   "execution_count": 1,
   "metadata": {},
   "outputs": [],
   "source": [
    "class Solution:\n",
    "    def generateParenthesis(self, n):\n",
    "\t    def dfs(left, right, s):\n",
    "\t    \tif len(s) == n * 2:\n",
    "\t    \t\tres.append(s)\n",
    "                return \n",
    "    \n",
    "            if left < n:\n",
    "\t    \t   dfs(left + 1, right, s + '(')\n",
    "    \n",
    "\t    \tif right < left:\n",
    "\t    \t\tdfs(left, right + 1, s + ')')\n",
    "    \n",
    "\t    res = []\n",
    "\t    dfs(0, 0, '')\n",
    "\t    return res"
   ]
  },
  {
   "cell_type": "code",
   "execution_count": null,
   "metadata": {},
   "outputs": [],
   "source": [
    "class Solution:\n",
    "    def combinationSum(self, candidates, target):\n",
    "        ans = []                       \n",
    "        def fcomb(ind,ds,total):\n",
    "            if total==target:\n",
    "                ans.append(ds.copy())\n",
    "                return\n",
    "            if ind>=len(candidates) or total>target:\n",
    "                return \n",
    "            ds.append(candidates[ind])\n",
    "            fcomb(ind,ds,total+candidates[ind])\n",
    "            ds.pop()\n",
    "            fcomb(ind+1,ds,total)\n",
    "\n",
    "        fcomb(0,[],0)\n",
    "        return ans"
   ]
  }
 ],
 "metadata": {
  "kernelspec": {
   "display_name": "base",
   "language": "python",
   "name": "python3"
  },
  "language_info": {
   "codemirror_mode": {
    "name": "ipython",
    "version": 3
   },
   "file_extension": ".py",
   "mimetype": "text/x-python",
   "name": "python",
   "nbconvert_exporter": "python",
   "pygments_lexer": "ipython3",
   "version": "3.11.4"
  }
 },
 "nbformat": 4,
 "nbformat_minor": 2
}
