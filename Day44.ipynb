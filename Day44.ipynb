{
 "cells": [
  {
   "cell_type": "code",
   "execution_count": 2,
   "metadata": {},
   "outputs": [
    {
     "data": {
      "text/plain": [
       "[0, 1, 2, 3, 3, 4, 5, 6]"
      ]
     },
     "execution_count": 2,
     "metadata": {},
     "output_type": "execute_result"
    }
   ],
   "source": [
    "#subset I\n",
    "\n",
    "arr = [1,2,3]\n",
    "n =  len(arr)\n",
    "ans = []\n",
    "def solved(ind,sm):\n",
    "    if ind>=n:\n",
    "        ans.append(sm)\n",
    "        return \n",
    "    sm+=arr[ind]\n",
    "    solved(ind+1,sm)\n",
    "    sm-=arr[ind]\n",
    "    solved(ind+1,sm)\n",
    "\n",
    "solved(0,0)\n",
    "sorted(ans)"
   ]
  },
  {
   "cell_type": "code",
   "execution_count": 3,
   "metadata": {},
   "outputs": [
    {
     "data": {
      "text/plain": [
       "[[], [1], [1, 2], [1, 2], [1, 2, 2], [2], [2], [2, 2]]"
      ]
     },
     "execution_count": 3,
     "metadata": {},
     "output_type": "execute_result"
    }
   ],
   "source": [
    "arr = [1,2,2]\n",
    "n =  len(arr)\n",
    "ans = []\n",
    "def solved(ind,sm):\n",
    "    if ind>=n:\n",
    "        ans.append(sm.copy())\n",
    "        return \n",
    "    sm.append(arr[ind])\n",
    "    solved(ind+1,sm)\n",
    "    sm.pop()\n",
    "    solved(ind+1,sm)\n",
    "\n",
    "solved(0,[])\n",
    "sorted(ans)"
   ]
  },
  {
   "cell_type": "code",
   "execution_count": 5,
   "metadata": {},
   "outputs": [
    {
     "name": "stdout",
     "output_type": "stream",
     "text": [
      "[1, 2, 6]\n",
      "[1, 3, 5]\n",
      "[2, 3, 4]\n"
     ]
    }
   ],
   "source": [
    "k = 3\n",
    "n = 9\n",
    "# Output: [[1,2,6],[1,3,5],[2,3,4]]\n",
    "a = [1,2,3,4,5,6,7,8,9]\n",
    "def solved(ind,dum,sm):\n",
    "    if ind>=len(a) or len(dum)==k:\n",
    "        if len(dum)==k and sm==n:\n",
    "            print(dum)\n",
    "        return\n",
    "    sm += a[ind]\n",
    "    dum.append(a[ind])\n",
    "    solved(ind+1,dum,sm)\n",
    "\n",
    "    sm -= a[ind]\n",
    "    dum.pop()\n",
    "    solved(ind+1,dum,sm)\n",
    "\n",
    "solved(0,[],0)"
   ]
  },
  {
   "cell_type": "code",
   "execution_count": 6,
   "metadata": {},
   "outputs": [
    {
     "name": "stdout",
     "output_type": "stream",
     "text": [
      "abcdef\n"
     ]
    }
   ],
   "source": [
    "phone = {\n",
    "            \"2\":\"abc\",\n",
    "            \"3\":\"def\",\n",
    "            \"4\":\"ghi\",\n",
    "            \"5\":\"jkl\",\n",
    "            \"6\":\"mno\",\n",
    "            \"7\":\"pqrs\",\n",
    "            \"8\":\"tuv\",\n",
    "            \"9\":\"wxyz\",\n",
    "        }\n",
    "digits = \"23\"\n",
    "st =\"\"\n",
    "for i in digits:\n",
    "    st +=phone[i]\n",
    "\n",
    "#now make permutations of length len(digits) i.e here 2\n",
    "    \n"
   ]
  },
  {
   "cell_type": "code",
   "execution_count": 9,
   "metadata": {},
   "outputs": [
    {
     "data": {
      "text/plain": [
       "'a'"
      ]
     },
     "execution_count": 9,
     "metadata": {},
     "output_type": "execute_result"
    }
   ],
   "source": [
    "class Solution(object):\n",
    "    def letterCombinations(self, digits):\n",
    "        if not digits:\n",
    "            return []\n",
    "            \n",
    "        mappings = {\n",
    "            \"2\": \"abc\",\n",
    "            \"3\": \"def\",\n",
    "            \"4\": \"ghi\",\n",
    "            \"5\": \"jkl\",\n",
    "            \"6\": \"mno\",\n",
    "            \"7\": \"pqrs\",\n",
    "            \"8\": \"tuv\",\n",
    "            \"9\": \"wxyz\"\n",
    "        }\n",
    "\n",
    "        def backtrack(index, path):\n",
    "            if index == len(digits):\n",
    "                combinations.append(\"\".join(path))\n",
    "                return\n",
    "\n",
    "            for char in mappings[digits[index]]:\n",
    "                path.append(char)\n",
    "                backtrack(index + 1, path)\n",
    "                path.pop()\n",
    "\n",
    "        combinations = []\n",
    "        backtrack(0, [])\n",
    "        return combinations"
   ]
  },
  {
   "cell_type": "code",
   "execution_count": null,
   "metadata": {},
   "outputs": [],
   "source": []
  }
 ],
 "metadata": {
  "kernelspec": {
   "display_name": "base",
   "language": "python",
   "name": "python3"
  },
  "language_info": {
   "codemirror_mode": {
    "name": "ipython",
    "version": 3
   },
   "file_extension": ".py",
   "mimetype": "text/x-python",
   "name": "python",
   "nbconvert_exporter": "python",
   "pygments_lexer": "ipython3",
   "version": "3.11.4"
  }
 },
 "nbformat": 4,
 "nbformat_minor": 2
}
