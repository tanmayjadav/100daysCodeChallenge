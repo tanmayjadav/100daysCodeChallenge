{
 "cells": [
  {
   "cell_type": "code",
   "execution_count": 1,
   "metadata": {},
   "outputs": [
    {
     "data": {
      "text/plain": [
       "(False, 2, 8)"
      ]
     },
     "execution_count": 1,
     "metadata": {},
     "output_type": "execute_result"
    }
   ],
   "source": [
    "#practice question \n",
    "#check weather the number is prime or not in sqrt(N) time Complexity \n",
    "import math\n",
    "n=16\n",
    "M = int(math.sqrt(n))+1\n",
    "def FindPrime(n):\n",
    "    for i in range(2,M):\n",
    "        if n%i==0 or n%(n//i)==0:\n",
    "            return (False,i,n//2)\n",
    "    return True\n",
    "FindPrime(n)"
   ]
  },
  {
   "cell_type": "code",
   "execution_count": 12,
   "metadata": {},
   "outputs": [
    {
     "data": {
      "text/plain": [
       "False"
      ]
     },
     "execution_count": 12,
     "metadata": {},
     "output_type": "execute_result"
    }
   ],
   "source": [
    "#Question 1 check if array sorted or rotated \n",
    "\"\"\"First thing in dsa is to understand values \n",
    "   and try to find why we are getting the ans we are getting\"\"\"\n",
    "#the catch is pen and paper always keep along with you while solving DSA quesiton \n",
    "# you mind can't hold up all the thought and solution u r coming up with so write it down it will increase clearity \n",
    "\n",
    "arr = [3,4,5,1]\n",
    "def checkRotated(arr):\n",
    "    flag = 0\n",
    "    for i in range(1,len(arr)):\n",
    "        if arr[i]<=arr[i-1] and flag==0:\n",
    "            flag=1\n",
    "        elif arr[i]<=arr[i-1] and flag==1:\n",
    "            return False\n",
    "    \n",
    "    if flag ==1 and arr[-1]>=arr[0]:\n",
    "        return False\n",
    "    return True\n",
    "checkRotated(arr)"
   ]
  },
  {
   "cell_type": "code",
   "execution_count": 19,
   "metadata": {},
   "outputs": [
    {
     "data": {
      "text/plain": [
       "{1, 2, 3}"
      ]
     },
     "execution_count": 19,
     "metadata": {},
     "output_type": "execute_result"
    }
   ],
   "source": [
    "#Question 2 Remove Duplicate from the sorted array \n",
    "arr = [1,1,1,2,3,3,3,3,3]\n",
    "#brute force approch \n",
    "# iterate throgh array and take uniqe element in diff\n",
    "ans = set()\n",
    "for i in range(len(arr)-1):\n",
    "    if arr[i+1]!=arr[i]:\n",
    "        ans.add(arr[i])\n",
    "        ans.add(arr[i+1])\n",
    "ans"
   ]
  },
  {
   "cell_type": "code",
   "execution_count": 21,
   "metadata": {},
   "outputs": [
    {
     "data": {
      "text/plain": [
       "[1, 2, 3, 1, 1, 3, 3, 3, 3]"
      ]
     },
     "execution_count": 21,
     "metadata": {},
     "output_type": "execute_result"
    }
   ],
   "source": [
    "\"\"\"optimal Approch is to use 2 pointer\"\"\"\n",
    "arr = [1,1,1,2,3,3,3,3,3]\n",
    "\n",
    "l,r = 0,1\n",
    "while r<len(arr):\n",
    "    if arr[l]!=arr[r]:\n",
    "        l+=1\n",
    "        arr[l],arr[r]=arr[r],arr[l]\n",
    "    r+=1\n",
    "arr"
   ]
  },
  {
   "cell_type": "code",
   "execution_count": null,
   "metadata": {},
   "outputs": [],
   "source": []
  }
 ],
 "metadata": {
  "kernelspec": {
   "display_name": "base",
   "language": "python",
   "name": "python3"
  },
  "language_info": {
   "codemirror_mode": {
    "name": "ipython",
    "version": 3
   },
   "file_extension": ".py",
   "mimetype": "text/x-python",
   "name": "python",
   "nbconvert_exporter": "python",
   "pygments_lexer": "ipython3",
   "version": "3.11.4"
  }
 },
 "nbformat": 4,
 "nbformat_minor": 2
}
