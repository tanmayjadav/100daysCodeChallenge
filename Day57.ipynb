{
 "cells": [
  {
   "cell_type": "code",
   "execution_count": 8,
   "metadata": {},
   "outputs": [
    {
     "data": {
      "text/plain": [
       "''"
      ]
     },
     "execution_count": 8,
     "metadata": {},
     "output_type": "execute_result"
    }
   ],
   "source": [
    "def minRemoveToMakeValid(s):\n",
    "    stack = []\n",
    "    remove = set()\n",
    "    for i in range(len(s)):\n",
    "        if s[i] == \"(\":\n",
    "            stack.append((s[i],i))\n",
    "        elif s[i] == \")\":\n",
    "            if stack and stack[-1][0] == \"(\":\n",
    "                stack.pop()\n",
    "            else:\n",
    "                remove.add(i)\n",
    "    arr = []\n",
    "    if stack:\n",
    "        for i in range(len(stack)):\n",
    "            remove.add(stack[i][1])\n",
    "    for i in range(len(s)):\n",
    "        if i in remove:\n",
    "            continue\n",
    "        arr.append(s[i])\n",
    "    \n",
    "    return \"\".join(arr)\n",
    "# s = \"lee(t(c)o)de)\"\n",
    "# s =  \"a)b(c)d\"\n",
    "s = \"))((\"\n",
    "minRemoveToMakeValid(s)\n"
   ]
  },
  {
   "cell_type": "code",
   "execution_count": null,
   "metadata": {},
   "outputs": [],
   "source": []
  }
 ],
 "metadata": {
  "kernelspec": {
   "display_name": "base",
   "language": "python",
   "name": "python3"
  },
  "language_info": {
   "codemirror_mode": {
    "name": "ipython",
    "version": 3
   },
   "file_extension": ".py",
   "mimetype": "text/x-python",
   "name": "python",
   "nbconvert_exporter": "python",
   "pygments_lexer": "ipython3",
   "version": "3.11.4"
  }
 },
 "nbformat": 4,
 "nbformat_minor": 2
}
