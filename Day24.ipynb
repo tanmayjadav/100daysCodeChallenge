{
 "cells": [
  {
   "cell_type": "markdown",
   "metadata": {},
   "source": [
    "#segegrate even odd "
   ]
  },
  {
   "cell_type": "code",
   "execution_count": 2,
   "metadata": {},
   "outputs": [],
   "source": [
    "class Solution:\n",
    "   def oddEvenList(self, head):\n",
    "       if not head: return None\n",
    "       \n",
    "       # odd points to the first node \n",
    "       odd = head\n",
    "       # even points to the second node\n",
    "       # evenHead will be used at the end to connect odd and even nodes\n",
    "       evenHead = even = head.next\n",
    "       \n",
    "       # This condition makes sure odd can never be None, since the odd node will always be the one before the even node.\n",
    "       # If even is not None, then odd is not None. (odd before even)\n",
    "       # If even.next is not None, then after we update odd to the next odd node, it cannot be None. (The next odd node is even.next)\n",
    "       while even and even.next:\n",
    "           \n",
    "           # Connect the current odd node to the next odd node\n",
    "           odd.next = odd.next.next\n",
    "           # Move the current odd node to the next odd node\n",
    "           odd = odd.next\n",
    "           \n",
    "           #Same thing for even node\n",
    "           even.next = even.next.next\n",
    "           even = even.next\n",
    "       \n",
    "       # Connect the last odd node to the start of the even node\n",
    "       odd.next = evenHead\n",
    "\n",
    "       # head never changed, so return it\n",
    "       return head"
   ]
  },
  {
   "cell_type": "code",
   "execution_count": 5,
   "metadata": {},
   "outputs": [],
   "source": [
    "#check if palindrome or not \n",
    "# Definition for singly-linked list.\n",
    "# class ListNode:\n",
    "#     def __init__(self, val=0, next=None):\n",
    "#         self.val = val\n",
    "#         self.next = next\n",
    "class Solution:\n",
    "    def isPalindrome(self, head):\n",
    "        \n",
    "        if head is None or head.next is None:\n",
    "            return True\n",
    "        slow = head\n",
    "        fast = head\n",
    "        while fast.next is not None and fast.next.next is not None:\n",
    "            slow = slow.next\n",
    "            fast = fast.next.next\n",
    "        slow.next = self.reverse(slow.next)\n",
    "        slow = slow.next\n",
    "        dummy = head\n",
    "        while slow is not None:\n",
    "            if dummy.val != slow.val:\n",
    "                return False\n",
    "            dummy = dummy.next\n",
    "            slow = slow.next\n",
    "        return True\n",
    "\n",
    "    def reverse(self,ptr):\n",
    "        pre = None\n",
    "        nex = None\n",
    "        while ptr is not None:\n",
    "            nex = ptr.next\n",
    "            ptr.next = pre\n",
    "            pre = ptr\n",
    "            ptr = nex\n",
    "        return pre"
   ]
  },
  {
   "cell_type": "code",
   "execution_count": null,
   "metadata": {},
   "outputs": [],
   "source": []
  },
  {
   "cell_type": "code",
   "execution_count": null,
   "metadata": {},
   "outputs": [],
   "source": []
  }
 ],
 "metadata": {
  "kernelspec": {
   "display_name": "base",
   "language": "python",
   "name": "python3"
  },
  "language_info": {
   "codemirror_mode": {
    "name": "ipython",
    "version": 3
   },
   "file_extension": ".py",
   "mimetype": "text/x-python",
   "name": "python",
   "nbconvert_exporter": "python",
   "pygments_lexer": "ipython3",
   "version": "3.11.4"
  }
 },
 "nbformat": 4,
 "nbformat_minor": 2
}
